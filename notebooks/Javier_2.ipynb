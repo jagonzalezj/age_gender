{
 "cells": [
  {
   "cell_type": "code",
   "execution_count": 1,
   "metadata": {
    "id": "UwuxTF59KsR8"
   },
   "outputs": [
    {
     "name": "stderr",
     "output_type": "stream",
     "text": [
      "2022-06-06 14:30:34.725360: W tensorflow/stream_executor/platform/default/dso_loader.cc:64] Could not load dynamic library 'libcudart.so.11.0'; dlerror: libcudart.so.11.0: cannot open shared object file: No such file or directory; LD_LIBRARY_PATH: :/home/gonzalez/TOOLS/elmer/install//lib\n",
      "2022-06-06 14:30:34.725415: I tensorflow/stream_executor/cuda/cudart_stub.cc:29] Ignore above cudart dlerror if you do not have a GPU set up on your machine.\n"
     ]
    }
   ],
   "source": [
    "import requests\n",
    "import numpy as np\n",
    "import pandas as pd\n",
    "import seaborn as sns\n",
    "import matplotlib.pyplot as plt\n",
    "import io\n",
    "import csv\n",
    "from tensorflow.keras import Sequential, layers, models\n",
    "from tensorflow.keras import optimizers\n",
    "from tensorflow.keras.callbacks import EarlyStopping, ReduceLROnPlateau\n",
    "from tensorflow.keras.layers.experimental.preprocessing import Rescaling\n",
    "from sklearn.model_selection import train_test_split"
   ]
  },
  {
   "cell_type": "code",
   "execution_count": null,
   "metadata": {
    "colab": {
     "base_uri": "https://localhost:8080/"
    },
    "id": "xujhzLK6kA6f",
    "outputId": "014a402e-badf-47ad-8e10-ed92ea71f278"
   },
   "outputs": [],
   "source": [
    "# from google.colab import drive \n",
    "# drive.mount('/content/gdrive')\n",
    "# data=pd.read_csv('gdrive/My Drive/age_gender.csv')"
   ]
  },
  {
   "cell_type": "code",
   "execution_count": 2,
   "metadata": {},
   "outputs": [],
   "source": [
    "data_path = '/home/gonzalez/Desktop/age_gender/age_gender.csv' # old data\n",
    "data = pd.read_csv(data_path)"
   ]
  },
  {
   "cell_type": "code",
   "execution_count": null,
   "metadata": {
    "colab": {
     "base_uri": "https://localhost:8080/"
    },
    "id": "7yY7_QCJkJmo",
    "outputId": "f6d59480-0dc8-42c0-a83e-c74f01abb74a"
   },
   "outputs": [],
   "source": [
    "data['pixels']=data['pixels'].apply(lambda x:  np.array(x.split(), dtype=\"float32\"))\n",
    "\n",
    "for j in range(len(data)):\n",
    "    data['pixels'][j]=data['pixels'][j]/255"
   ]
  },
  {
   "cell_type": "code",
   "execution_count": null,
   "metadata": {
    "id": "d8DfCPgPLC9T"
   },
   "outputs": [],
   "source": [
    "# list the number of counts per age\n",
    "ages = data['age'].unique()\n",
    "counts = []\n",
    "for age in ages:\n",
    "    counts.append(np.count_nonzero(data['age']==age))"
   ]
  },
  {
   "cell_type": "code",
   "execution_count": null,
   "metadata": {
    "colab": {
     "base_uri": "https://localhost:8080/",
     "height": 520
    },
    "id": "epnGwZQELDAL",
    "outputId": "9ca16698-d38e-4453-ebd9-e11c4de1fa0d"
   },
   "outputs": [],
   "source": [
    "# table with the first 15 most dense samples regarding age\n",
    "# type(ages), type(counts)\n",
    "# s =pd.DataFrame([ages.T, np.array(counts).T],['ages', 'counts'])\n",
    "# s=s.transpose()\n",
    "# more_dense = s.sort_values(by=['counts'], ascending=False)\n",
    "# more_dense.head(15)"
   ]
  },
  {
   "cell_type": "code",
   "execution_count": 3,
   "metadata": {
    "colab": {
     "base_uri": "https://localhost:8080/",
     "height": 424
    },
    "id": "OWtPw9wbLDF5",
    "outputId": "09a8de61-ac9a-4876-add7-ff424ed380ca"
   },
   "outputs": [
    {
     "data": {
      "text/html": [
       "<div>\n",
       "<style scoped>\n",
       "    .dataframe tbody tr th:only-of-type {\n",
       "        vertical-align: middle;\n",
       "    }\n",
       "\n",
       "    .dataframe tbody tr th {\n",
       "        vertical-align: top;\n",
       "    }\n",
       "\n",
       "    .dataframe thead th {\n",
       "        text-align: right;\n",
       "    }\n",
       "</style>\n",
       "<table border=\"1\" class=\"dataframe\">\n",
       "  <thead>\n",
       "    <tr style=\"text-align: right;\">\n",
       "      <th></th>\n",
       "      <th>age</th>\n",
       "      <th>ethnicity</th>\n",
       "      <th>gender</th>\n",
       "      <th>img_name</th>\n",
       "      <th>pixels</th>\n",
       "    </tr>\n",
       "  </thead>\n",
       "  <tbody>\n",
       "    <tr>\n",
       "      <th>0</th>\n",
       "      <td>10</td>\n",
       "      <td>0</td>\n",
       "      <td>0</td>\n",
       "      <td>20170110225414790.jpg.chip.jpg</td>\n",
       "      <td>30 38 50 90 109 113 126 130 136 139 147 149 15...</td>\n",
       "    </tr>\n",
       "    <tr>\n",
       "      <th>1</th>\n",
       "      <td>10</td>\n",
       "      <td>0</td>\n",
       "      <td>0</td>\n",
       "      <td>20170110225417177.jpg.chip.jpg</td>\n",
       "      <td>72 81 94 96 77 85 90 71 76 90 87 80 91 103 118...</td>\n",
       "    </tr>\n",
       "    <tr>\n",
       "      <th>2</th>\n",
       "      <td>10</td>\n",
       "      <td>0</td>\n",
       "      <td>0</td>\n",
       "      <td>20170110224549512.jpg.chip.jpg</td>\n",
       "      <td>255 253 252 221 144 174 165 151 151 186 185 14...</td>\n",
       "    </tr>\n",
       "    <tr>\n",
       "      <th>3</th>\n",
       "      <td>10</td>\n",
       "      <td>0</td>\n",
       "      <td>0</td>\n",
       "      <td>20170110225402690.jpg.chip.jpg</td>\n",
       "      <td>62 53 55 62 73 74 86 94 106 121 139 161 170 15...</td>\n",
       "    </tr>\n",
       "    <tr>\n",
       "      <th>4</th>\n",
       "      <td>10</td>\n",
       "      <td>0</td>\n",
       "      <td>0</td>\n",
       "      <td>20170110225421531.jpg.chip.jpg</td>\n",
       "      <td>28 60 55 55 74 74 62 101 147 140 166 147 161 1...</td>\n",
       "    </tr>\n",
       "    <tr>\n",
       "      <th>...</th>\n",
       "      <td>...</td>\n",
       "      <td>...</td>\n",
       "      <td>...</td>\n",
       "      <td>...</td>\n",
       "      <td>...</td>\n",
       "    </tr>\n",
       "    <tr>\n",
       "      <th>20993</th>\n",
       "      <td>9</td>\n",
       "      <td>0</td>\n",
       "      <td>0</td>\n",
       "      <td>20170110215653284.jpg.chip.jpg</td>\n",
       "      <td>73 66 78 108 112 124 128 133 142 152 161 169 1...</td>\n",
       "    </tr>\n",
       "    <tr>\n",
       "      <th>20994</th>\n",
       "      <td>9</td>\n",
       "      <td>0</td>\n",
       "      <td>0</td>\n",
       "      <td>20170110215848132.jpg.chip.jpg</td>\n",
       "      <td>74 89 51 63 69 80 94 95 92 105 121 136 147 156...</td>\n",
       "    </tr>\n",
       "    <tr>\n",
       "      <th>20995</th>\n",
       "      <td>9</td>\n",
       "      <td>0</td>\n",
       "      <td>0</td>\n",
       "      <td>20170110220005370.jpg.chip.jpg</td>\n",
       "      <td>98 90 90 111 133 149 169 171 169 168 163 154 1...</td>\n",
       "    </tr>\n",
       "    <tr>\n",
       "      <th>20996</th>\n",
       "      <td>9</td>\n",
       "      <td>0</td>\n",
       "      <td>0</td>\n",
       "      <td>20170110220016235.jpg.chip.jpg</td>\n",
       "      <td>57 74 93 92 110 124 130 133 153 161 159 152 14...</td>\n",
       "    </tr>\n",
       "    <tr>\n",
       "      <th>20997</th>\n",
       "      <td>9</td>\n",
       "      <td>0</td>\n",
       "      <td>0</td>\n",
       "      <td>20170110215516060.jpg.chip.jpg</td>\n",
       "      <td>156 161 139 140 103 89 95 123 142 147 146 143 ...</td>\n",
       "    </tr>\n",
       "  </tbody>\n",
       "</table>\n",
       "<p>20998 rows × 5 columns</p>\n",
       "</div>"
      ],
      "text/plain": [
       "       age  ethnicity  gender                        img_name  \\\n",
       "0       10          0       0  20170110225414790.jpg.chip.jpg   \n",
       "1       10          0       0  20170110225417177.jpg.chip.jpg   \n",
       "2       10          0       0  20170110224549512.jpg.chip.jpg   \n",
       "3       10          0       0  20170110225402690.jpg.chip.jpg   \n",
       "4       10          0       0  20170110225421531.jpg.chip.jpg   \n",
       "...    ...        ...     ...                             ...   \n",
       "20993    9          0       0  20170110215653284.jpg.chip.jpg   \n",
       "20994    9          0       0  20170110215848132.jpg.chip.jpg   \n",
       "20995    9          0       0  20170110220005370.jpg.chip.jpg   \n",
       "20996    9          0       0  20170110220016235.jpg.chip.jpg   \n",
       "20997    9          0       0  20170110215516060.jpg.chip.jpg   \n",
       "\n",
       "                                                  pixels  \n",
       "0      30 38 50 90 109 113 126 130 136 139 147 149 15...  \n",
       "1      72 81 94 96 77 85 90 71 76 90 87 80 91 103 118...  \n",
       "2      255 253 252 221 144 174 165 151 151 186 185 14...  \n",
       "3      62 53 55 62 73 74 86 94 106 121 139 161 170 15...  \n",
       "4      28 60 55 55 74 74 62 101 147 140 166 147 161 1...  \n",
       "...                                                  ...  \n",
       "20993  73 66 78 108 112 124 128 133 142 152 161 169 1...  \n",
       "20994  74 89 51 63 69 80 94 95 92 105 121 136 147 156...  \n",
       "20995  98 90 90 111 133 149 169 171 169 168 163 154 1...  \n",
       "20996  57 74 93 92 110 124 130 133 153 161 159 152 14...  \n",
       "20997  156 161 139 140 103 89 95 123 142 147 146 143 ...  \n",
       "\n",
       "[20998 rows x 5 columns]"
      ]
     },
     "execution_count": 3,
     "metadata": {},
     "output_type": "execute_result"
    }
   ],
   "source": [
    "#data = data.drop(data[data.age==26].index).copy()\n",
    "data = data.drop(data[data.age<5].index).copy()\n",
    "data = data.drop(data[data.age>80].index).copy()\n",
    "\n",
    "data.reset_index(drop=True)"
   ]
  },
  {
   "cell_type": "code",
   "execution_count": null,
   "metadata": {
    "colab": {
     "base_uri": "https://localhost:8080/",
     "height": 279
    },
    "id": "_nXr4EkELDIg",
    "outputId": "0c20758b-46cc-4309-b84b-8c731546b61e"
   },
   "outputs": [],
   "source": [
    "fig, ax = plt.subplots(figsize=(12,8))\n",
    "sns.set(font_scale = 1.5)\n",
    "p = sns.histplot(data['age'], color='blue')\n",
    "p.set_title(\"Age distribution\")\n",
    "p.set_ylabel(\"Count\",fontsize=20)\n",
    "p.set_xlabel(\"Age\",fontsize=20)\n",
    "plt.savefig('filtered_age_distribution.png')"
   ]
  },
  {
   "cell_type": "code",
   "execution_count": null,
   "metadata": {
    "id": "PQdWmx4pLDM4"
   },
   "outputs": [],
   "source": [
    "# from PIL import Image, ImageOps\n",
    "# import numpy as np\n",
    "\n",
    "# def pixel_mirroring(pixel):\n",
    "#     '''Mirroring a pixel from the prepared dataset'''\n",
    "\n",
    "#     #Turn the pixel list into an array 48,48\n",
    "#     array=np.uint8(pixel.reshape((48,48)))\n",
    "\n",
    "#     #Turn the array into an image object and mirror it\n",
    "#     img=Image.fromarray(array, 'L')\n",
    "#     img=ImageOps.mirror(img)\n",
    "\n",
    "#     #Turn the image back into a pixel list\n",
    "#     img=img.getdata()\n",
    "#     pixel_mirror=np.array(img, dtype=np.float32)\n",
    "\n",
    "#     return pixel_mirror"
   ]
  },
  {
   "cell_type": "code",
   "execution_count": null,
   "metadata": {
    "id": "XXmngKW8LDPw"
   },
   "outputs": [],
   "source": [
    "# def count_amout_per_age(data):\n",
    "#     ages = data['age'].unique()\n",
    "#     counts = []\n",
    "#     for age in ages:\n",
    "#         counts.append(np.count_nonzero(data['age']==age))\n",
    "\n",
    "#     type(ages), type(counts)\n",
    "#     s =pd.DataFrame([ages.T, np.array(counts).T],['ages', 'counts'])\n",
    "#     s=s.transpose()\n",
    "#     more_dense = s.sort_values(by=['counts'], ascending=True)\n",
    "#     more_dense.head(15)\n",
    "#     return more_dense"
   ]
  },
  {
   "cell_type": "code",
   "execution_count": 5,
   "metadata": {
    "id": "c5C0RY6lLDTc"
   },
   "outputs": [],
   "source": [
    "# categorize age per range:\n",
    "def age_categorize(input_list, age_step=10):\n",
    "    '''\n",
    "    Enter the list of age into input_list and the age steps\n",
    "    with : age_step = 5;  age = 4   =>  1-5\n",
    "                          age = 12  =>  10-15                        \n",
    "    '''\n",
    "    \n",
    "    cat_age = []\n",
    "    for age in input_list:\n",
    "        \n",
    "        a = float(age)/float(age_step)\n",
    "        \n",
    "        if a > 1:\n",
    "            entero = int(a)\n",
    "            coma = a-entero\n",
    "            \n",
    "            if coma > 0:\n",
    "                entero = entero+1\n",
    "            \n",
    "            max = entero * age_step\n",
    "            min = max-(age_step-1)     \n",
    "            #cat_age.append(f'{min} to {max}')   # if the output is in the real intervale\n",
    "            cat_age.append(int(max/age_step)-1)  # if the output is in categorical int number\n",
    "        else:\n",
    "            min = 1\n",
    "            max = age_step\n",
    "            #cat_age.append(f'{min} to {max}')    # if the output is in the real intervale   \n",
    "            cat_age.append(int(max/age_step)-1)   # if the output is in categorical int number           \n",
    "    return cat_age\n",
    "\n",
    "\n",
    "\n",
    "\n",
    "def age_categorize_custom(input_list, custom = [0, 15, 35, 60, 150]):\n",
    "    category = list(range(0,len(custom)))\n",
    "    data['age'].unique()\n",
    "    cat_age = []\n",
    "\n",
    "    for edad in data['age']:\n",
    "        category = list(range(0,len(custom)))\n",
    "        for cate in category:\n",
    "            if edad<custom[cate]:\n",
    "                #print(edad, cate, custom[cate-1], custom[cate])\n",
    "                cat_age.append(cate)\n",
    "                break\n",
    "    return cat_age"
   ]
  },
  {
   "cell_type": "code",
   "execution_count": null,
   "metadata": {
    "id": "dxfr_bWALDVu"
   },
   "outputs": [],
   "source": [
    "# dense = count_amout_per_age(data)\n",
    "\n",
    "# more = dense[dense.counts>600].copy()['ages'].unique()\n",
    "# less = dense[dense.counts<600].copy()['ages'].unique()\n",
    "\n",
    "# data_less = data.copy()\n",
    "# data_more = data.copy()\n",
    "\n",
    "# for age in more:\n",
    "#     data_less = data_less.drop(data_less[data_less.age==age].index).copy()\n",
    "\n",
    "# for age in less:\n",
    "#     data_more = data_more.drop(data_more[data_more.age==age].index).copy()"
   ]
  },
  {
   "cell_type": "code",
   "execution_count": null,
   "metadata": {
    "id": "4HzaLWi-MLQ5"
   },
   "outputs": [],
   "source": [
    "# mirrored = []\n",
    "# for images in data_less['pixels']:\n",
    "#     mirrored.append(pixel_mirroring(images))\n",
    "\n",
    "# data_less_mirrored = data_less.copy()\n",
    "# data_less_mirrored['mirrored']=mirrored\n",
    "\n",
    "# data_less_mirrored.drop(columns=['pixels'], inplace=True)\n",
    "# data_less_mirrored.rename(columns={'mirrored':'pixels'}, inplace=True)\n",
    "\n",
    "\n",
    "# # merge two data frames, reste indexes\n",
    "# presque = pd.concat([data_less, data_less_mirrored, data_more]).reset_index(drop=True, inplace=False) \n",
    "\n",
    "# #presque.drop_duplicates(inplace=True)"
   ]
  },
  {
   "cell_type": "code",
   "execution_count": null,
   "metadata": {
    "colab": {
     "base_uri": "https://localhost:8080/",
     "height": 450
    },
    "id": "4HZGFWXBMXKB",
    "outputId": "fcabc69a-ba13-487c-8e67-fe0347c61697"
   },
   "outputs": [],
   "source": [
    "# sns.histplot(data.age);\n",
    "# sns.histplot(presque['age']);"
   ]
  },
  {
   "cell_type": "code",
   "execution_count": null,
   "metadata": {
    "id": "UYcxkgGEMXMj"
   },
   "outputs": [],
   "source": [
    "# data = presque.copy()"
   ]
  },
  {
   "cell_type": "code",
   "execution_count": 20,
   "metadata": {
    "colab": {
     "base_uri": "https://localhost:8080/",
     "height": 390
    },
    "id": "OApoeH4uMXPL",
    "outputId": "6463d4b8-23df-4744-c43d-1baa09236cdd"
   },
   "outputs": [
    {
     "name": "stderr",
     "output_type": "stream",
     "text": [
      "/tmp/ipykernel_6761/1749851224.py:27: UserWarning: FixedFormatter should only be used together with FixedLocator\n",
      "  p.set_xticklabels(['0.0','5-20','','','','21-50','','','','50-80'])\n"
     ]
    },
    {
     "data": {
      "image/png": "[encoded data removed]",
      "text/plain": [
       "<Figure size 864x576 with 1 Axes>"
      ]
     },
     "metadata": {},
     "output_type": "display_data"
    }
   ],
   "source": [
    "# step_size = 5\n",
    "# input_list = data['age']\n",
    "# cat = age_categorize(input_list, step_size)  # ====>>  INITIALIZE THIS FUNCTION  <<=========\n",
    "\n",
    "\n",
    "input_list = data['age']\n",
    "custom = [5, 20, 50, 85]\n",
    "cat = age_categorize_custom(input_list, custom)  # ====>>  INITIALIZE THIS FUNCTION  <<=========\n",
    "\n",
    "\n",
    "#pd.DataFrame(cat, data['age'].values).sample(100)\n",
    "\n",
    "\n",
    "# add categorical age clasification to original dataframe\n",
    "data['points_bin']=cat\n",
    "#data[['age','class_age']].sample(10)\n",
    "\n",
    "fig, ax = plt.subplots(figsize=(12,8))\n",
    "sns.set_theme(style=\"whitegrid\")\n",
    "sns.set(font_scale = 1.5)\n",
    "\n",
    "p = sns.histplot(data=data, x='points_bin', color='black');\n",
    "p.set_title(\"Categorical age distribution\")\n",
    "\n",
    "p.set_ylabel(\"Count\",fontsize=20)\n",
    "p.set_xlabel(\"Age_range\",fontsize=20)\n",
    "p.set_xticklabels(['0.0','5-20','','','','21-50','','','','50-80'])\n",
    "plt.savefig('categorical_age_distribution.png')"
   ]
  },
  {
   "cell_type": "code",
   "execution_count": null,
   "metadata": {
    "id": "8lkTvH7OMXW7"
   },
   "outputs": [],
   "source": [
    "### perform one-hot encoder\n",
    "from sklearn.preprocessing import OneHotEncoder\n",
    "ohe = OneHotEncoder(sparse = False)\n",
    "ohe.fit(data[['points_bin']])\n",
    "class_age_encoded = ohe.transform(data[['points_bin']])\n",
    "\n",
    "\n",
    "for elements in range(class_age_encoded.shape[1]):      # =====> THIS IS NEED WHATHERVER HOT ENCODER USED  <=====\n",
    "    data[str(elements)]=class_age_encoded[:,elements]"
   ]
  },
  {
   "cell_type": "code",
   "execution_count": null,
   "metadata": {
    "colab": {
     "base_uri": "https://localhost:8080/",
     "height": 363
    },
    "id": "xh8QL5tjMXcC",
    "outputId": "f2707a0f-1945-4501-963f-c2fcbd3f8645"
   },
   "outputs": [],
   "source": [
    "data.sample(10)"
   ]
  },
  {
   "cell_type": "markdown",
   "metadata": {
    "id": "J6vvOe9sPnyC"
   },
   "source": [
    "Preparing FIT"
   ]
  },
  {
   "cell_type": "code",
   "execution_count": null,
   "metadata": {
    "id": "eQAK-XerMXgo"
   },
   "outputs": [],
   "source": [
    "X = data['pixels'].tolist()\n",
    "X = np.reshape(X, (-1, 48, 48,1))\n",
    "\n",
    "y=data.drop(columns=['age','ethnicity','gender', 'pixels', 'points_bin', 'img_name'])\n",
    "\n",
    "X_train, X_test, y_train, y_test = train_test_split(X, y, test_size=0.3, random_state=3)"
   ]
  },
  {
   "cell_type": "code",
   "execution_count": null,
   "metadata": {
    "id": "HF19_qAsLC6p"
   },
   "outputs": [],
   "source": [
    "def initialize_model_catgorical(numb_int, numb_out):\n",
    "        \n",
    "    model = Sequential()\n",
    "    model.add(layers.Conv2D(32,(3,3), padding='same',activation='relu',input_shape=(48,48,numb_int)))\n",
    "    model.add(layers.MaxPooling2D(2,2))\n",
    "\n",
    "    model.add(layers.Conv2D(32,(3,3), padding='same',activation='relu'))\n",
    "    model.add(layers.MaxPooling2D(2,2))\n",
    "\n",
    "    model.add(layers.Conv2D(64,(3,3), padding='same',activation='relu'))\n",
    "    model.add(layers.MaxPooling2D(2,2))\n",
    "    model.add(layers.Dropout(0.2))\n",
    "\n",
    "    model.add(layers.Conv2D(64,(3,3), padding='same',activation='relu'))\n",
    "    model.add(layers.MaxPooling2D(2,2))\n",
    "    model.add(layers.Dropout(0.2))\n",
    "\n",
    "    model.add(layers.Conv2D(320,(3,3), padding='same',activation='relu'))\n",
    "    model.add(layers.Conv2D(320,(3,3), padding='same',activation='relu'))\n",
    "\n",
    "    model.add(layers.Conv2D(320,(3,3), padding='same',activation='relu'))\n",
    "\n",
    "\n",
    "    model.add(layers.Conv2D(520,(3,3), padding='same',activation='relu'))\n",
    "\n",
    "    model.add(layers.Conv2D(520,(3,3), padding='same',activation='relu'))\n",
    "\n",
    "    model.add(layers.Conv2D(520,(3,3), padding='same',activation='relu'))\n",
    "    model.add(layers.Conv2D(520,(3,3), padding='same',activation='relu'))\n",
    "\n",
    "    model.add(layers.Flatten())\n",
    "    model.add(layers.Dense(128,activation='relu'))\n",
    "   \n",
    "    model.add(layers.Dense(numb_out, activation='softmax'))   \n",
    "    return model"
   ]
  },
  {
   "cell_type": "code",
   "execution_count": null,
   "metadata": {
    "colab": {
     "base_uri": "https://localhost:8080/"
    },
    "id": "oPYcm1OWMrDS",
    "outputId": "4f540a1a-f835-428e-c77f-3bc8c3edbbf5"
   },
   "outputs": [],
   "source": [
    "model_cat = initialize_model_catgorical(X.shape[-1], y.shape[-1])\n",
    "    \n",
    "es = EarlyStopping(monitor='val_accuracy', patience=6, restore_best_weights=True)\n",
    "\n",
    "model_cat.compile(optimizer='adam' ,loss='categorical_crossentropy',metrics=['accuracy'])\n",
    "\n",
    "history_cat = model_cat.fit(X_train,y_train, validation_split=0.3, epochs=50, callbacks=[es])"
   ]
  },
  {
   "cell_type": "code",
   "execution_count": null,
   "metadata": {
    "colab": {
     "base_uri": "https://localhost:8080/",
     "height": 285
    },
    "id": "ZtKTFlyGMrF5",
    "outputId": "3b5dbcce-9591-432e-8f70-054dc953f771"
   },
   "outputs": [],
   "source": [
    "plt.plot(history_cat.history['accuracy'])\n",
    "plt.plot(history_cat.history['val_accuracy'])"
   ]
  },
  {
   "cell_type": "code",
   "execution_count": null,
   "metadata": {
    "id": "1wf_n9EHMrIx"
   },
   "outputs": [],
   "source": [
    "models.save_model(model_cat,'Model_cat_custom_Pierre')"
   ]
  },
  {
   "cell_type": "code",
   "execution_count": null,
   "metadata": {
    "colab": {
     "base_uri": "https://localhost:8080/"
    },
    "id": "9lggu9jBMrLY",
    "outputId": "25187afd-d86f-4c22-9263-e39981710b82"
   },
   "outputs": [],
   "source": [
    "model_cat.evaluate(X_test, y_test)"
   ]
  },
  {
   "cell_type": "markdown",
   "metadata": {},
   "source": [
    "# RUN LINEAR REGRESSION FOR EACH PART"
   ]
  },
  {
   "cell_type": "code",
   "execution_count": null,
   "metadata": {
    "colab": {
     "base_uri": "https://localhost:8080/"
    },
    "id": "0PPaJZv5MrON",
    "outputId": "239942ea-3d06-4479-b736-315624023c9c"
   },
   "outputs": [],
   "source": [
    "lower = data['points_bin'].unique()[1]\n",
    "upper = data['points_bin'].unique()[2]\n",
    "\n",
    "cacho = data.drop(data[data.points_bin<lower].index | data[data.points_bin>=upper].index).copy()\n",
    "cacho['age'].unique()"
   ]
  },
  {
   "cell_type": "code",
   "execution_count": null,
   "metadata": {
    "id": "VbW375bvLC4G"
   },
   "outputs": [],
   "source": [
    "def initialize_model_regression():\n",
    "    \n",
    "    model = Sequential()\n",
    "    model.add(layers.Conv2D(32, (3,3), activation='relu', input_shape=(48,48,1)))\n",
    "    model.add(layers.MaxPool2D(pool_size=(2,2)))\n",
    "\n",
    "    model.add(layers.Conv2D(64, (3,3), activation='relu', padding='same'))\n",
    "    model.add(layers.MaxPool2D(pool_size=(2,2)))\n",
    "   \n",
    "    model.add(layers.Conv2D(64,(3,3),activation='relu'))\n",
    "    model.add(layers.MaxPooling2D(2,2))\n",
    "    model.add(layers.Dropout(0.2))\n",
    "\n",
    "    model.add(layers.Conv2D(128,(3,3),activation='relu'))\n",
    "    model.add(layers.MaxPooling2D(2,2))\n",
    "    model.add(layers.Dropout(0.2))          \n",
    "\n",
    "    model.add(layers.Flatten())\n",
    "    model.add(layers.Dropout(0.5))\n",
    "    \n",
    "    model.add(layers.Dense(1, activation='relu'))\n",
    "   \n",
    "    return model"
   ]
  },
  {
   "cell_type": "code",
   "execution_count": null,
   "metadata": {
    "colab": {
     "base_uri": "https://localhost:8080/"
    },
    "id": "H-NjmRtltE4n",
    "outputId": "724ac6ee-e2bb-4694-bc9b-8c4bf31d121e"
   },
   "outputs": [],
   "source": [
    "print(np.sort(list(data['points_bin'].unique())))\n",
    "print(data['points_bin'].unique())"
   ]
  },
  {
   "cell_type": "code",
   "execution_count": null,
   "metadata": {
    "colab": {
     "base_uri": "https://localhost:8080/"
    },
    "id": "X1PULfkLMrRN",
    "outputId": "a48a50ba-86ee-4e88-ee0a-372d78c9b3d4"
   },
   "outputs": [],
   "source": [
    "# looping for all linear model\n",
    "Histories = []\n",
    "\n",
    "y = data['age']\n",
    "\n",
    "for i in range(len(np.sort(list(data['points_bin'].unique())))):\n",
    "\n",
    "\n",
    "    # slice the dataframe\n",
    "    \n",
    "    #lower = data['points_bin'].unique()[i].left  # ====>>  USING PIERRE FORMAT  <<=========\n",
    "    #upper = data['points_bin'].unique()[i].right\n",
    "    #cacho = data.drop(data[data.age<lower].index | data[data.age>=upper].index).copy()\n",
    "    \n",
    "    #lower = data['points_bin'].unique()[i]   # ====>>  USING JAVIER FORMAT  <<=========\n",
    "    #upper = data['points_bin'].unique()[i+1]\n",
    "\n",
    "    lower = np.sort(list(data['points_bin'].unique()))[i]   # ====>>  USING JAVIER FORMAT  <<=========\n",
    "    upper = np.sort(list(data['points_bin'].unique()))[i]+1\n",
    "\n",
    "    cacho = data.drop(data[data.points_bin<lower].index | data[data.points_bin>=upper].index).copy()\n",
    "    print(lower, upper)\n",
    "    \n",
    "    # prepare the data\n",
    "    X = cacho['pixels'].tolist()\n",
    "    X = np.reshape(X, (-1, 48, 48,1))\n",
    "\n",
    "    y=cacho['age']\n",
    "\n",
    "    # split data set\n",
    "    X_train, X_test, y_train, y_test = train_test_split(X, y,  test_size=0.3, random_state=1)\n",
    "    \n",
    "    \n",
    "    print(' ')\n",
    "    print('*****************************************************************************************')\n",
    "    print(f'STARTING MODEL =======>>>>>> {i} with age range {y.min()} to {y.max()} and {X.shape} samples')\n",
    "    print('*****************************************************************************************')\n",
    "    print(' ')\n",
    "\n",
    "\n",
    "    # initialize the model\n",
    "    model = initialize_model_regression()\n",
    "        \n",
    "    # compile the model\n",
    "    model.compile(loss='mean_squared_error', optimizer='adam', metrics=['mae'])\n",
    "    \n",
    "    # early stopping\n",
    "    es = EarlyStopping(monitor='val_mae', patience=6, restore_best_weights=True)\n",
    "\n",
    "\n",
    "    # fit\n",
    "    history = model.fit(X_train, y_train, validation_split=0.3, epochs=40, callbacks=[es])\n",
    "    \n",
    "    # save model\n",
    "    Histories.append(history)\n",
    "    \n",
    "    models.save_model(model, f'Model_linear_{y.min()}_{y.max()}')\n",
    "    \n",
    "    # delete variables to save RAM\n",
    "    del model, X, y, X_train, X_test, y_train, y_test, es, history, cacho"
   ]
  },
  {
   "cell_type": "code",
   "execution_count": null,
   "metadata": {
    "id": "1dALyahbMrXZ"
   },
   "outputs": [],
   "source": [
    "X = data['pixels'].tolist()\n",
    "X = np.reshape(X, (-1, 48, 48))\n"
   ]
  },
  {
   "cell_type": "code",
   "execution_count": null,
   "metadata": {
    "colab": {
     "base_uri": "https://localhost:8080/",
     "height": 640
    },
    "id": "zimGq_7IM7Jm",
    "outputId": "f3fa7db7-331b-42f2-fcdd-97b2d88ff340"
   },
   "outputs": [],
   "source": [
    "n=279\n",
    "plt.imshow(X[n], cmap='gray');\n",
    "#np.where(y.iloc[n]==1)[0]\n",
    "print(f\"real age is {data.iloc[n]}\")"
   ]
  },
  {
   "cell_type": "code",
   "execution_count": null,
   "metadata": {
    "colab": {
     "base_uri": "https://localhost:8080/"
    },
    "id": "qtRIUm0jM7MT",
    "outputId": "cea4e1bf-d603-470c-db0e-2468f8614192"
   },
   "outputs": [],
   "source": [
    "# try_inp = np.expand_dims(X[n], axis=0)\n",
    "# model_cat.predict(try_inp).max()\n",
    "# index = np.where(model_cat.predict(try_inp)==(model_cat.predict(try_inp).max()))\n",
    "# print(f'slot number {index[1][0]}, correspond to range {(index[1][0]+1)*step_size-step_size} to {(index[1][0]+1)*step_size}')"
   ]
  },
  {
   "cell_type": "code",
   "execution_count": null,
   "metadata": {
    "id": "Z8OHJoe3n6dj"
   },
   "outputs": [],
   "source": [
    "try_inp = np.expand_dims(X[n], axis=0)\n",
    "model_cat.predict(try_inp).max()\n",
    "index = np.where(model_cat.predict(try_inp)==(model_cat.predict(try_inp).max()))\n",
    "print(f'slot number {index[1][0]}, correspond to range {custom[index[1][0]-1]} to {custom[index[1][0]]}')"
   ]
  },
  {
   "cell_type": "code",
   "execution_count": null,
   "metadata": {
    "colab": {
     "base_uri": "https://localhost:8080/"
    },
    "id": "ypQP75XNxaR0",
    "outputId": "28a338e1-b427-48a0-ffe4-381ce31a4bbb"
   },
   "outputs": [],
   "source": [
    "! ls"
   ]
  },
  {
   "cell_type": "code",
   "execution_count": null,
   "metadata": {
    "id": "w5DlG4reM7PI"
   },
   "outputs": [],
   "source": [
    "# load corresponding regresional model\n",
    "predict_model = models.load_model('Model_linear_1_10')"
   ]
  },
  {
   "cell_type": "code",
   "execution_count": null,
   "metadata": {
    "colab": {
     "base_uri": "https://localhost:8080/"
    },
    "id": "MbeT4MJmM7SA",
    "outputId": "726c09d0-8a0b-430c-9738-88a6819bc9a0"
   },
   "outputs": [],
   "source": [
    "# predict regresional\n",
    "predict_model.predict(try_inp)"
   ]
  }
 ],
 "metadata": {
  "accelerator": "GPU",
  "colab": {
   "collapsed_sections": [],
   "name": "Untitled2.ipynb",
   "provenance": []
  },
  "kernelspec": {
   "display_name": "Python 3 (ipykernel)",
   "language": "python",
   "name": "python3"
  },
  "language_info": {
   "codemirror_mode": {
    "name": "ipython",
    "version": 3
   },
   "file_extension": ".py",
   "mimetype": "text/x-python",
   "name": "python",
   "nbconvert_exporter": "python",
   "pygments_lexer": "ipython3",
   "version": "3.8.12"
  },
  "toc": {
   "base_numbering": 1,
   "nav_menu": {},
   "number_sections": true,
   "sideBar": true,
   "skip_h1_title": false,
   "title_cell": "Table of Contents",
   "title_sidebar": "Contents",
   "toc_cell": false,
   "toc_position": {},
   "toc_section_display": true,
   "toc_window_display": false
  }
 },
 "nbformat": 4,
 "nbformat_minor": 1
}
