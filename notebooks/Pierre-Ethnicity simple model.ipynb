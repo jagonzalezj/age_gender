{
 "cells": [
  {
   "cell_type": "code",
   "execution_count": 2,
   "id": "3c28aaaa",
   "metadata": {},
   "outputs": [],
   "source": [
    "import requests\n",
    "import numpy as np\n",
    "import pandas as pd\n",
    "import seaborn as sns\n",
    "import matplotlib.pyplot as plt\n",
    "import io\n",
    "import csv\n",
    "from PIL import Image, ImageOps"
   ]
  },
  {
   "cell_type": "code",
   "execution_count": 3,
   "id": "12834277",
   "metadata": {},
   "outputs": [],
   "source": [
    "data_path = '../raw_data/age_gender.csv'"
   ]
  },
  {
   "cell_type": "code",
   "execution_count": 4,
   "id": "2cdc2231",
   "metadata": {},
   "outputs": [],
   "source": [
    "data = pd.read_csv(data_path)"
   ]
  },
  {
   "cell_type": "code",
   "execution_count": 5,
   "id": "33d6ecb4",
   "metadata": {},
   "outputs": [
    {
     "data": {
      "text/plain": [
       "Index(['age', 'ethnicity', 'gender', 'img_name', 'pixels'], dtype='object')"
      ]
     },
     "execution_count": 5,
     "metadata": {},
     "output_type": "execute_result"
    }
   ],
   "source": [
    "data.columns"
   ]
  },
  {
   "cell_type": "code",
   "execution_count": 6,
   "id": "2407235e",
   "metadata": {},
   "outputs": [],
   "source": [
    "data['pixels']=data['pixels'].apply(lambda x:  np.array(x.split(), dtype=\"float32\"))"
   ]
  },
  {
   "cell_type": "code",
   "execution_count": 24,
   "id": "acfab236",
   "metadata": {},
   "outputs": [],
   "source": [
    "def pixel_mirroring(pixel):\n",
    "    array=np.uint8(pixel.reshape((48,48)))\n",
    "    img=Image.fromarray(array, 'L')\n",
    "    img=ImageOps.mirror(img)\n",
    "    img=img.getdata()\n",
    "    pixel_mirror=np.array(img, dtype=np.float32)\n",
    "    return pixel_mirror\n",
    "\n",
    "def ethnicity_label(index):\n",
    "    # Ethnicity labels\n",
    "    ETHNICITIES = { \n",
    "        0: \"White\", \n",
    "        1: \"Black\",\n",
    "        2: \"Asian\",\n",
    "        3: \"Indian\",\n",
    "        4: \"Hispanic\"\n",
    "    }\n",
    "\n",
    "    return ETHNICITIES[index]\n",
    "\n",
    "def gender_label(index):\n",
    "    # Gender labels\n",
    "    GENDERS = { \n",
    "        0: \"Male\", \n",
    "        1: \"Female\"\n",
    "    }"
   ]
  },
  {
   "cell_type": "markdown",
   "id": "b2d25ffb",
   "metadata": {},
   "source": [
    "# Modeling"
   ]
  },
  {
   "cell_type": "code",
   "execution_count": 8,
   "id": "d0717175",
   "metadata": {},
   "outputs": [
    {
     "name": "stderr",
     "output_type": "stream",
     "text": [
      "2022-06-07 11:08:01.142260: W tensorflow/stream_executor/platform/default/dso_loader.cc:64] Could not load dynamic library 'libcudart.so.11.0'; dlerror: libcudart.so.11.0: cannot open shared object file: No such file or directory\n",
      "2022-06-07 11:08:01.142431: I tensorflow/stream_executor/cuda/cudart_stub.cc:29] Ignore above cudart dlerror if you do not have a GPU set up on your machine.\n"
     ]
    }
   ],
   "source": [
    "from tensorflow.keras import Sequential, layers, models\n",
    "from tensorflow.keras import optimizers\n",
    "from tensorflow.keras.callbacks import EarlyStopping\n",
    "from tensorflow.keras.layers.experimental.preprocessing import Rescaling\n",
    "from tensorflow.keras.utils import to_categorical\n",
    "from sklearn.model_selection import train_test_split\n",
    "from tensorflow.keras import optimizers\n",
    "from tensorflow.keras.optimizers.schedules import ExponentialDecay"
   ]
  },
  {
   "cell_type": "code",
   "execution_count": 9,
   "id": "588ea64b",
   "metadata": {},
   "outputs": [],
   "source": [
    "X = data['pixels'].tolist()\n",
    "X = np.reshape(X, (-1, 48, 48,1))\n",
    "\n",
    "y = to_categorical(data['ethnicity'],num_classes=5)\n",
    "\n",
    "X_train, X_test, y_train, y_test = train_test_split(X, y, test_size=0.3, random_state=1)"
   ]
  },
  {
   "cell_type": "code",
   "execution_count": 9,
   "id": "870f6ee8",
   "metadata": {},
   "outputs": [
    {
     "data": {
      "text/plain": [
       "(23705, 48, 48, 1)"
      ]
     },
     "execution_count": 9,
     "metadata": {},
     "output_type": "execute_result"
    }
   ],
   "source": [
    "np.array(data['pixels'].tolist()).reshape((-1, 48, 48,1)).shape"
   ]
  },
  {
   "cell_type": "code",
   "execution_count": 11,
   "id": "d1e71936",
   "metadata": {},
   "outputs": [
    {
     "data": {
      "text/plain": [
       "(16593, 48, 48, 1)"
      ]
     },
     "execution_count": 11,
     "metadata": {},
     "output_type": "execute_result"
    }
   ],
   "source": [
    "X_train.shape"
   ]
  },
  {
   "cell_type": "code",
   "execution_count": 12,
   "id": "96a1c9d6",
   "metadata": {},
   "outputs": [],
   "source": [
    "data_train, data_test, y_train, y_test = train_test_split(data, y, test_size=0.3, random_state=1)\n",
    "data_train, data_validation, y_train, y_validation = train_test_split(data_train, y_train, test_size=0.2, random_state=1)"
   ]
  },
  {
   "cell_type": "code",
   "execution_count": 25,
   "id": "740d77a3",
   "metadata": {},
   "outputs": [],
   "source": [
    "labels=['White','Black','Asian','Indian','Hispanic']\n",
    "data['ethnicity_label']=data['ethnicity'].apply(ethnicity_label)"
   ]
  },
  {
   "cell_type": "code",
   "execution_count": 17,
   "id": "0d2925d1",
   "metadata": {},
   "outputs": [],
   "source": [
    "def display_feature(df,feature_name):\n",
    "    '''Display a countplot based on seaborn with a \"whitegrid\" style'''\n",
    "    fig = plt.figure(figsize=(10,6))\n",
    "    sns.set_style(\"whitegrid\")\n",
    "    ax = sns.countplot(x=df[feature_name],\n",
    "                       order=df[feature_name].value_counts(ascending=False).index);\n",
    "\n",
    "    abs_values = df[feature_name].value_counts(ascending=False).values\n",
    "\n",
    "    ax.bar_label(container=ax.containers[0], labels=abs_values)"
   ]
  },
  {
   "cell_type": "code",
   "execution_count": 26,
   "id": "aaebbc68",
   "metadata": {},
   "outputs": [
    {
     "data": {
      "image/png": "[encoded data removed]",
      "text/plain": [
       "<Figure size 720x432 with 1 Axes>"
      ]
     },
     "metadata": {},
     "output_type": "display_data"
    }
   ],
   "source": [
    "display_feature(data,'ethnicity_label')"
   ]
  },
  {
   "cell_type": "code",
   "execution_count": 13,
   "id": "4af7ea9b",
   "metadata": {},
   "outputs": [],
   "source": [
    "whites=data_train[data_train['ethnicity']==0]\n",
    "blacks=data_train[data_train['ethnicity']==1]\n",
    "asians=data_train[data_train['ethnicity']==2]\n",
    "indians=data_train[data_train['ethnicity']==3]\n",
    "hispanics=data_train[data_train['ethnicity']==4]\n",
    "hispanics_mirrored=hispanics.copy()\n",
    "hispanics_mirrored['pixels']=hispanics_mirrored['pixels'].apply(pixel_mirroring)\n",
    "indians_mirrored=indians.copy()\n",
    "indians_mirrored['pixels']=indians_mirrored['pixels'].apply(pixel_mirroring)\n",
    "asians_mirrored=asians.copy()\n",
    "asians_mirrored['pixels']=asians_mirrored['pixels'].apply(pixel_mirroring)"
   ]
  },
  {
   "cell_type": "code",
   "execution_count": 14,
   "id": "3d930fc9",
   "metadata": {},
   "outputs": [
    {
     "data": {
      "text/plain": [
       "((1177, 5), (4531, 5))"
      ]
     },
     "execution_count": 14,
     "metadata": {},
     "output_type": "execute_result"
    }
   ],
   "source": [
    "whites_under20=whites[whites['age']<=20]\n",
    "whites_over20=whites[whites['age']>20]\n",
    "whites_under20.shape, whites_over20.shape"
   ]
  },
  {
   "cell_type": "code",
   "execution_count": 22,
   "id": "7aced5ce",
   "metadata": {},
   "outputs": [
    {
     "name": "stderr",
     "output_type": "stream",
     "text": [
      "/tmp/ipykernel_1155/1909586986.py:3: SettingWithCopyWarning: \n",
      "A value is trying to be set on a copy of a slice from a DataFrame.\n",
      "Try using .loc[row_indexer,col_indexer] = value instead\n",
      "\n",
      "See the caveats in the documentation: https://pandas.pydata.org/pandas-docs/stable/user_guide/indexing.html#returning-a-view-versus-a-copy\n",
      "  data_test['ethnicity'] = data_test['ethnicity'].replace(4,3)\n"
     ]
    },
    {
     "data": {
      "text/plain": [
       "<AxesSubplot:xlabel='ethnicity', ylabel='count'>"
      ]
     },
     "execution_count": 22,
     "metadata": {},
     "output_type": "execute_result"
    },
    {
     "data": {
      "image/png": "[encoded data removed]",
      "text/plain": [
       "<Figure size 432x288 with 1 Axes>"
      ]
     },
     "metadata": {
      "needs_background": "light"
     },
     "output_type": "display_data"
    }
   ],
   "source": [
    "data_train=pd.concat([whites, blacks, asians, indians, hispanics, hispanics_mirrored, indians_mirrored, asians_mirrored])\n",
    "data_train['ethnicity'] = data_train['ethnicity'].replace(4,3)\n",
    "data_test['ethnicity'] = data_test['ethnicity'].replace(4,3)\n",
    "sns.countplot(data=data_test,x='ethnicity')"
   ]
  },
  {
   "cell_type": "code",
   "execution_count": 24,
   "id": "bbe2bb67",
   "metadata": {},
   "outputs": [],
   "source": [
    "y_train= to_categorical(data_train['ethnicity'],num_classes=4)\n",
    "y_test= to_categorical(data_test['ethnicity'],num_classes=4)\n",
    "\n",
    "X_train= np.reshape(data_train['pixels'].tolist(), (-1, 48, 48,1))\n",
    "X_test= np.reshape(data_test['pixels'].tolist(), (-1, 48, 48,1))"
   ]
  },
  {
   "cell_type": "code",
   "execution_count": 25,
   "id": "397a0431",
   "metadata": {},
   "outputs": [
    {
     "data": {
      "text/plain": [
       "((18330, 48, 48, 1), (18330, 4))"
      ]
     },
     "execution_count": 25,
     "metadata": {},
     "output_type": "execute_result"
    }
   ],
   "source": [
    "X_train.shape, y_train.shape"
   ]
  },
  {
   "cell_type": "markdown",
   "id": "c3be8db3",
   "metadata": {},
   "source": [
    "## Test 1"
   ]
  },
  {
   "cell_type": "code",
   "execution_count": 28,
   "id": "4fbb5c96",
   "metadata": {},
   "outputs": [],
   "source": [
    "def initialize_model():\n",
    "    \n",
    "    model = Sequential()\n",
    "    model.add(layers.Conv2D(128, (3,3), activation='relu', input_shape=(48,48,1)))\n",
    "    model.add(layers.MaxPool2D(pool_size=(2,2)))\n",
    "\n",
    "    model.add(layers.Conv2D(64, (3,3), activation='relu', padding='same'))\n",
    "    model.add(layers.MaxPool2D(pool_size=(2,2)))\n",
    "    \n",
    "    model.add(layers.Conv2D(64,(3,3),activation='relu'))\n",
    "    model.add(layers.MaxPooling2D(2,2))\n",
    "#     model.add(layers.Dropout(0.2))\n",
    "\n",
    "    model.add(layers.Conv2D(32,(3,3),activation='relu'))\n",
    "    model.add(layers.MaxPooling2D(2,2))\n",
    "    model.add(layers.Dropout(0.2))          \n",
    "\n",
    "    model.add(layers.Flatten())\n",
    "#     model.add(layers.Dropout(0.5))\n",
    "    \n",
    "    model.add(layers.Dense(4, activation='softmax'))\n",
    "    \n",
    "    opt = optimizers.Adam(learning_rate=0.001)\n",
    "    model.compile(loss='categorical_crossentropy',\n",
    "                  optimizer=opt,\n",
    "                  metrics=['accuracy','Precision','Recall'])\n",
    "    \n",
    "    return model"
   ]
  },
  {
   "cell_type": "code",
   "execution_count": 29,
   "id": "8857ceb1",
   "metadata": {},
   "outputs": [
    {
     "name": "stdout",
     "output_type": "stream",
     "text": [
      "Epoch 1/50\n",
      "459/459 [==============================] - 74s 156ms/step - loss: 1.4858 - accuracy: 0.3749 - precision: 0.3522 - recall: 0.0136 - val_loss: 1.4889 - val_accuracy: 8.1833e-04 - val_precision: 0.0000e+00 - val_recall: 0.0000e+00\n",
      "Epoch 2/50\n",
      "459/459 [==============================] - 70s 153ms/step - loss: 1.3088 - accuracy: 0.3886 - precision: 0.4103 - recall: 0.0011 - val_loss: 1.5458 - val_accuracy: 0.0000e+00 - val_precision: 0.0000e+00 - val_recall: 0.0000e+00\n",
      "Epoch 3/50\n",
      "459/459 [==============================] - 71s 155ms/step - loss: 1.3008 - accuracy: 0.3893 - precision: 0.0000e+00 - recall: 0.0000e+00 - val_loss: 1.5961 - val_accuracy: 0.0000e+00 - val_precision: 0.0000e+00 - val_recall: 0.0000e+00\n",
      "Epoch 4/50\n",
      "459/459 [==============================] - 72s 156ms/step - loss: 1.2996 - accuracy: 0.3893 - precision: 0.0000e+00 - recall: 0.0000e+00 - val_loss: 1.6104 - val_accuracy: 0.0000e+00 - val_precision: 0.0000e+00 - val_recall: 0.0000e+00\n",
      "Epoch 5/50\n",
      "415/459 [==========================>...] - ETA: 2:51 - loss: 1.2987 - accuracy: 0.3901 - precision: 0.0000e+00 - recall: 0.0000e+00"
     ]
    },
    {
     "ename": "KeyboardInterrupt",
     "evalue": "",
     "output_type": "error",
     "traceback": [
      "\u001b[0;31m---------------------------------------------------------------------------\u001b[0m",
      "\u001b[0;31mKeyboardInterrupt\u001b[0m                         Traceback (most recent call last)",
      "Input \u001b[0;32mIn [29]\u001b[0m, in \u001b[0;36m<cell line: 9>\u001b[0;34m()\u001b[0m\n\u001b[1;32m      1\u001b[0m model \u001b[38;5;241m=\u001b[39m initialize_model()\n\u001b[1;32m      3\u001b[0m es \u001b[38;5;241m=\u001b[39m EarlyStopping(monitor \u001b[38;5;241m=\u001b[39m \u001b[38;5;124m'\u001b[39m\u001b[38;5;124mval_accuracy\u001b[39m\u001b[38;5;124m'\u001b[39m, \n\u001b[1;32m      4\u001b[0m                    mode \u001b[38;5;241m=\u001b[39m \u001b[38;5;124m'\u001b[39m\u001b[38;5;124mmax\u001b[39m\u001b[38;5;124m'\u001b[39m, \n\u001b[1;32m      5\u001b[0m                    patience \u001b[38;5;241m=\u001b[39m \u001b[38;5;241m5\u001b[39m, \n\u001b[1;32m      6\u001b[0m                    verbose \u001b[38;5;241m=\u001b[39m \u001b[38;5;241m1\u001b[39m, \n\u001b[1;32m      7\u001b[0m                    restore_best_weights \u001b[38;5;241m=\u001b[39m \u001b[38;5;28;01mTrue\u001b[39;00m)\n\u001b[0;32m----> 9\u001b[0m history \u001b[38;5;241m=\u001b[39m \u001b[43mmodel\u001b[49m\u001b[38;5;241;43m.\u001b[39;49m\u001b[43mfit\u001b[49m\u001b[43m(\u001b[49m\u001b[43mX_train\u001b[49m\u001b[43m,\u001b[49m\u001b[43my_train\u001b[49m\u001b[43m,\u001b[49m\n\u001b[1;32m     10\u001b[0m \u001b[43m                    \u001b[49m\u001b[43mvalidation_split\u001b[49m\u001b[38;5;241;43m=\u001b[39;49m\u001b[38;5;241;43m0.2\u001b[39;49m\u001b[43m,\u001b[49m\n\u001b[1;32m     11\u001b[0m \u001b[43m                    \u001b[49m\u001b[43mepochs\u001b[49m\u001b[38;5;241;43m=\u001b[39;49m\u001b[38;5;241;43m50\u001b[39;49m\u001b[43m,\u001b[49m\u001b[43m \u001b[49m\n\u001b[1;32m     12\u001b[0m \u001b[43m                    \u001b[49m\u001b[43mbatch_size\u001b[49m\u001b[38;5;241;43m=\u001b[39;49m\u001b[38;5;241;43m32\u001b[39;49m\u001b[43m,\u001b[49m\n\u001b[1;32m     13\u001b[0m \u001b[43m                    \u001b[49m\u001b[43mcallbacks\u001b[49m\u001b[38;5;241;43m=\u001b[39;49m\u001b[43m[\u001b[49m\u001b[43mes\u001b[49m\u001b[43m]\u001b[49m\u001b[43m)\u001b[49m\n",
      "File \u001b[0;32m~/.pyenv/versions/3.8.12/envs/lewagon/lib/python3.8/site-packages/keras/utils/traceback_utils.py:64\u001b[0m, in \u001b[0;36mfilter_traceback.<locals>.error_handler\u001b[0;34m(*args, **kwargs)\u001b[0m\n\u001b[1;32m     62\u001b[0m filtered_tb \u001b[38;5;241m=\u001b[39m \u001b[38;5;28;01mNone\u001b[39;00m\n\u001b[1;32m     63\u001b[0m \u001b[38;5;28;01mtry\u001b[39;00m:\n\u001b[0;32m---> 64\u001b[0m   \u001b[38;5;28;01mreturn\u001b[39;00m \u001b[43mfn\u001b[49m\u001b[43m(\u001b[49m\u001b[38;5;241;43m*\u001b[39;49m\u001b[43margs\u001b[49m\u001b[43m,\u001b[49m\u001b[43m \u001b[49m\u001b[38;5;241;43m*\u001b[39;49m\u001b[38;5;241;43m*\u001b[39;49m\u001b[43mkwargs\u001b[49m\u001b[43m)\u001b[49m\n\u001b[1;32m     65\u001b[0m \u001b[38;5;28;01mexcept\u001b[39;00m \u001b[38;5;167;01mException\u001b[39;00m \u001b[38;5;28;01mas\u001b[39;00m e:  \u001b[38;5;66;03m# pylint: disable=broad-except\u001b[39;00m\n\u001b[1;32m     66\u001b[0m   filtered_tb \u001b[38;5;241m=\u001b[39m _process_traceback_frames(e\u001b[38;5;241m.\u001b[39m__traceback__)\n",
      "File \u001b[0;32m~/.pyenv/versions/3.8.12/envs/lewagon/lib/python3.8/site-packages/keras/engine/training.py:1384\u001b[0m, in \u001b[0;36mModel.fit\u001b[0;34m(self, x, y, batch_size, epochs, verbose, callbacks, validation_split, validation_data, shuffle, class_weight, sample_weight, initial_epoch, steps_per_epoch, validation_steps, validation_batch_size, validation_freq, max_queue_size, workers, use_multiprocessing)\u001b[0m\n\u001b[1;32m   1377\u001b[0m \u001b[38;5;28;01mwith\u001b[39;00m tf\u001b[38;5;241m.\u001b[39mprofiler\u001b[38;5;241m.\u001b[39mexperimental\u001b[38;5;241m.\u001b[39mTrace(\n\u001b[1;32m   1378\u001b[0m     \u001b[38;5;124m'\u001b[39m\u001b[38;5;124mtrain\u001b[39m\u001b[38;5;124m'\u001b[39m,\n\u001b[1;32m   1379\u001b[0m     epoch_num\u001b[38;5;241m=\u001b[39mepoch,\n\u001b[1;32m   1380\u001b[0m     step_num\u001b[38;5;241m=\u001b[39mstep,\n\u001b[1;32m   1381\u001b[0m     batch_size\u001b[38;5;241m=\u001b[39mbatch_size,\n\u001b[1;32m   1382\u001b[0m     _r\u001b[38;5;241m=\u001b[39m\u001b[38;5;241m1\u001b[39m):\n\u001b[1;32m   1383\u001b[0m   callbacks\u001b[38;5;241m.\u001b[39mon_train_batch_begin(step)\n\u001b[0;32m-> 1384\u001b[0m   tmp_logs \u001b[38;5;241m=\u001b[39m \u001b[38;5;28;43mself\u001b[39;49m\u001b[38;5;241;43m.\u001b[39;49m\u001b[43mtrain_function\u001b[49m\u001b[43m(\u001b[49m\u001b[43miterator\u001b[49m\u001b[43m)\u001b[49m\n\u001b[1;32m   1385\u001b[0m   \u001b[38;5;28;01mif\u001b[39;00m data_handler\u001b[38;5;241m.\u001b[39mshould_sync:\n\u001b[1;32m   1386\u001b[0m     context\u001b[38;5;241m.\u001b[39masync_wait()\n",
      "File \u001b[0;32m~/.pyenv/versions/3.8.12/envs/lewagon/lib/python3.8/site-packages/tensorflow/python/util/traceback_utils.py:150\u001b[0m, in \u001b[0;36mfilter_traceback.<locals>.error_handler\u001b[0;34m(*args, **kwargs)\u001b[0m\n\u001b[1;32m    148\u001b[0m filtered_tb \u001b[38;5;241m=\u001b[39m \u001b[38;5;28;01mNone\u001b[39;00m\n\u001b[1;32m    149\u001b[0m \u001b[38;5;28;01mtry\u001b[39;00m:\n\u001b[0;32m--> 150\u001b[0m   \u001b[38;5;28;01mreturn\u001b[39;00m \u001b[43mfn\u001b[49m\u001b[43m(\u001b[49m\u001b[38;5;241;43m*\u001b[39;49m\u001b[43margs\u001b[49m\u001b[43m,\u001b[49m\u001b[43m \u001b[49m\u001b[38;5;241;43m*\u001b[39;49m\u001b[38;5;241;43m*\u001b[39;49m\u001b[43mkwargs\u001b[49m\u001b[43m)\u001b[49m\n\u001b[1;32m    151\u001b[0m \u001b[38;5;28;01mexcept\u001b[39;00m \u001b[38;5;167;01mException\u001b[39;00m \u001b[38;5;28;01mas\u001b[39;00m e:\n\u001b[1;32m    152\u001b[0m   filtered_tb \u001b[38;5;241m=\u001b[39m _process_traceback_frames(e\u001b[38;5;241m.\u001b[39m__traceback__)\n",
      "File \u001b[0;32m~/.pyenv/versions/3.8.12/envs/lewagon/lib/python3.8/site-packages/tensorflow/python/eager/def_function.py:915\u001b[0m, in \u001b[0;36mFunction.__call__\u001b[0;34m(self, *args, **kwds)\u001b[0m\n\u001b[1;32m    912\u001b[0m compiler \u001b[38;5;241m=\u001b[39m \u001b[38;5;124m\"\u001b[39m\u001b[38;5;124mxla\u001b[39m\u001b[38;5;124m\"\u001b[39m \u001b[38;5;28;01mif\u001b[39;00m \u001b[38;5;28mself\u001b[39m\u001b[38;5;241m.\u001b[39m_jit_compile \u001b[38;5;28;01melse\u001b[39;00m \u001b[38;5;124m\"\u001b[39m\u001b[38;5;124mnonXla\u001b[39m\u001b[38;5;124m\"\u001b[39m\n\u001b[1;32m    914\u001b[0m \u001b[38;5;28;01mwith\u001b[39;00m OptionalXlaContext(\u001b[38;5;28mself\u001b[39m\u001b[38;5;241m.\u001b[39m_jit_compile):\n\u001b[0;32m--> 915\u001b[0m   result \u001b[38;5;241m=\u001b[39m \u001b[38;5;28;43mself\u001b[39;49m\u001b[38;5;241;43m.\u001b[39;49m\u001b[43m_call\u001b[49m\u001b[43m(\u001b[49m\u001b[38;5;241;43m*\u001b[39;49m\u001b[43margs\u001b[49m\u001b[43m,\u001b[49m\u001b[43m \u001b[49m\u001b[38;5;241;43m*\u001b[39;49m\u001b[38;5;241;43m*\u001b[39;49m\u001b[43mkwds\u001b[49m\u001b[43m)\u001b[49m\n\u001b[1;32m    917\u001b[0m new_tracing_count \u001b[38;5;241m=\u001b[39m \u001b[38;5;28mself\u001b[39m\u001b[38;5;241m.\u001b[39mexperimental_get_tracing_count()\n\u001b[1;32m    918\u001b[0m without_tracing \u001b[38;5;241m=\u001b[39m (tracing_count \u001b[38;5;241m==\u001b[39m new_tracing_count)\n",
      "File \u001b[0;32m~/.pyenv/versions/3.8.12/envs/lewagon/lib/python3.8/site-packages/tensorflow/python/eager/def_function.py:947\u001b[0m, in \u001b[0;36mFunction._call\u001b[0;34m(self, *args, **kwds)\u001b[0m\n\u001b[1;32m    944\u001b[0m   \u001b[38;5;28mself\u001b[39m\u001b[38;5;241m.\u001b[39m_lock\u001b[38;5;241m.\u001b[39mrelease()\n\u001b[1;32m    945\u001b[0m   \u001b[38;5;66;03m# In this case we have created variables on the first call, so we run the\u001b[39;00m\n\u001b[1;32m    946\u001b[0m   \u001b[38;5;66;03m# defunned version which is guaranteed to never create variables.\u001b[39;00m\n\u001b[0;32m--> 947\u001b[0m   \u001b[38;5;28;01mreturn\u001b[39;00m \u001b[38;5;28;43mself\u001b[39;49m\u001b[38;5;241;43m.\u001b[39;49m\u001b[43m_stateless_fn\u001b[49m\u001b[43m(\u001b[49m\u001b[38;5;241;43m*\u001b[39;49m\u001b[43margs\u001b[49m\u001b[43m,\u001b[49m\u001b[43m \u001b[49m\u001b[38;5;241;43m*\u001b[39;49m\u001b[38;5;241;43m*\u001b[39;49m\u001b[43mkwds\u001b[49m\u001b[43m)\u001b[49m  \u001b[38;5;66;03m# pylint: disable=not-callable\u001b[39;00m\n\u001b[1;32m    948\u001b[0m \u001b[38;5;28;01melif\u001b[39;00m \u001b[38;5;28mself\u001b[39m\u001b[38;5;241m.\u001b[39m_stateful_fn \u001b[38;5;129;01mis\u001b[39;00m \u001b[38;5;129;01mnot\u001b[39;00m \u001b[38;5;28;01mNone\u001b[39;00m:\n\u001b[1;32m    949\u001b[0m   \u001b[38;5;66;03m# Release the lock early so that multiple threads can perform the call\u001b[39;00m\n\u001b[1;32m    950\u001b[0m   \u001b[38;5;66;03m# in parallel.\u001b[39;00m\n\u001b[1;32m    951\u001b[0m   \u001b[38;5;28mself\u001b[39m\u001b[38;5;241m.\u001b[39m_lock\u001b[38;5;241m.\u001b[39mrelease()\n",
      "File \u001b[0;32m~/.pyenv/versions/3.8.12/envs/lewagon/lib/python3.8/site-packages/tensorflow/python/eager/function.py:2956\u001b[0m, in \u001b[0;36mFunction.__call__\u001b[0;34m(self, *args, **kwargs)\u001b[0m\n\u001b[1;32m   2953\u001b[0m \u001b[38;5;28;01mwith\u001b[39;00m \u001b[38;5;28mself\u001b[39m\u001b[38;5;241m.\u001b[39m_lock:\n\u001b[1;32m   2954\u001b[0m   (graph_function,\n\u001b[1;32m   2955\u001b[0m    filtered_flat_args) \u001b[38;5;241m=\u001b[39m \u001b[38;5;28mself\u001b[39m\u001b[38;5;241m.\u001b[39m_maybe_define_function(args, kwargs)\n\u001b[0;32m-> 2956\u001b[0m \u001b[38;5;28;01mreturn\u001b[39;00m \u001b[43mgraph_function\u001b[49m\u001b[38;5;241;43m.\u001b[39;49m\u001b[43m_call_flat\u001b[49m\u001b[43m(\u001b[49m\n\u001b[1;32m   2957\u001b[0m \u001b[43m    \u001b[49m\u001b[43mfiltered_flat_args\u001b[49m\u001b[43m,\u001b[49m\u001b[43m \u001b[49m\u001b[43mcaptured_inputs\u001b[49m\u001b[38;5;241;43m=\u001b[39;49m\u001b[43mgraph_function\u001b[49m\u001b[38;5;241;43m.\u001b[39;49m\u001b[43mcaptured_inputs\u001b[49m\u001b[43m)\u001b[49m\n",
      "File \u001b[0;32m~/.pyenv/versions/3.8.12/envs/lewagon/lib/python3.8/site-packages/tensorflow/python/eager/function.py:1853\u001b[0m, in \u001b[0;36mConcreteFunction._call_flat\u001b[0;34m(self, args, captured_inputs, cancellation_manager)\u001b[0m\n\u001b[1;32m   1849\u001b[0m possible_gradient_type \u001b[38;5;241m=\u001b[39m gradients_util\u001b[38;5;241m.\u001b[39mPossibleTapeGradientTypes(args)\n\u001b[1;32m   1850\u001b[0m \u001b[38;5;28;01mif\u001b[39;00m (possible_gradient_type \u001b[38;5;241m==\u001b[39m gradients_util\u001b[38;5;241m.\u001b[39mPOSSIBLE_GRADIENT_TYPES_NONE\n\u001b[1;32m   1851\u001b[0m     \u001b[38;5;129;01mand\u001b[39;00m executing_eagerly):\n\u001b[1;32m   1852\u001b[0m   \u001b[38;5;66;03m# No tape is watching; skip to running the function.\u001b[39;00m\n\u001b[0;32m-> 1853\u001b[0m   \u001b[38;5;28;01mreturn\u001b[39;00m \u001b[38;5;28mself\u001b[39m\u001b[38;5;241m.\u001b[39m_build_call_outputs(\u001b[38;5;28;43mself\u001b[39;49m\u001b[38;5;241;43m.\u001b[39;49m\u001b[43m_inference_function\u001b[49m\u001b[38;5;241;43m.\u001b[39;49m\u001b[43mcall\u001b[49m\u001b[43m(\u001b[49m\n\u001b[1;32m   1854\u001b[0m \u001b[43m      \u001b[49m\u001b[43mctx\u001b[49m\u001b[43m,\u001b[49m\u001b[43m \u001b[49m\u001b[43margs\u001b[49m\u001b[43m,\u001b[49m\u001b[43m \u001b[49m\u001b[43mcancellation_manager\u001b[49m\u001b[38;5;241;43m=\u001b[39;49m\u001b[43mcancellation_manager\u001b[49m\u001b[43m)\u001b[49m)\n\u001b[1;32m   1855\u001b[0m forward_backward \u001b[38;5;241m=\u001b[39m \u001b[38;5;28mself\u001b[39m\u001b[38;5;241m.\u001b[39m_select_forward_and_backward_functions(\n\u001b[1;32m   1856\u001b[0m     args,\n\u001b[1;32m   1857\u001b[0m     possible_gradient_type,\n\u001b[1;32m   1858\u001b[0m     executing_eagerly)\n\u001b[1;32m   1859\u001b[0m forward_function, args_with_tangents \u001b[38;5;241m=\u001b[39m forward_backward\u001b[38;5;241m.\u001b[39mforward()\n",
      "File \u001b[0;32m~/.pyenv/versions/3.8.12/envs/lewagon/lib/python3.8/site-packages/tensorflow/python/eager/function.py:499\u001b[0m, in \u001b[0;36m_EagerDefinedFunction.call\u001b[0;34m(self, ctx, args, cancellation_manager)\u001b[0m\n\u001b[1;32m    497\u001b[0m \u001b[38;5;28;01mwith\u001b[39;00m _InterpolateFunctionError(\u001b[38;5;28mself\u001b[39m):\n\u001b[1;32m    498\u001b[0m   \u001b[38;5;28;01mif\u001b[39;00m cancellation_manager \u001b[38;5;129;01mis\u001b[39;00m \u001b[38;5;28;01mNone\u001b[39;00m:\n\u001b[0;32m--> 499\u001b[0m     outputs \u001b[38;5;241m=\u001b[39m \u001b[43mexecute\u001b[49m\u001b[38;5;241;43m.\u001b[39;49m\u001b[43mexecute\u001b[49m\u001b[43m(\u001b[49m\n\u001b[1;32m    500\u001b[0m \u001b[43m        \u001b[49m\u001b[38;5;28;43mstr\u001b[39;49m\u001b[43m(\u001b[49m\u001b[38;5;28;43mself\u001b[39;49m\u001b[38;5;241;43m.\u001b[39;49m\u001b[43msignature\u001b[49m\u001b[38;5;241;43m.\u001b[39;49m\u001b[43mname\u001b[49m\u001b[43m)\u001b[49m\u001b[43m,\u001b[49m\n\u001b[1;32m    501\u001b[0m \u001b[43m        \u001b[49m\u001b[43mnum_outputs\u001b[49m\u001b[38;5;241;43m=\u001b[39;49m\u001b[38;5;28;43mself\u001b[39;49m\u001b[38;5;241;43m.\u001b[39;49m\u001b[43m_num_outputs\u001b[49m\u001b[43m,\u001b[49m\n\u001b[1;32m    502\u001b[0m \u001b[43m        \u001b[49m\u001b[43minputs\u001b[49m\u001b[38;5;241;43m=\u001b[39;49m\u001b[43margs\u001b[49m\u001b[43m,\u001b[49m\n\u001b[1;32m    503\u001b[0m \u001b[43m        \u001b[49m\u001b[43mattrs\u001b[49m\u001b[38;5;241;43m=\u001b[39;49m\u001b[43mattrs\u001b[49m\u001b[43m,\u001b[49m\n\u001b[1;32m    504\u001b[0m \u001b[43m        \u001b[49m\u001b[43mctx\u001b[49m\u001b[38;5;241;43m=\u001b[39;49m\u001b[43mctx\u001b[49m\u001b[43m)\u001b[49m\n\u001b[1;32m    505\u001b[0m   \u001b[38;5;28;01melse\u001b[39;00m:\n\u001b[1;32m    506\u001b[0m     outputs \u001b[38;5;241m=\u001b[39m execute\u001b[38;5;241m.\u001b[39mexecute_with_cancellation(\n\u001b[1;32m    507\u001b[0m         \u001b[38;5;28mstr\u001b[39m(\u001b[38;5;28mself\u001b[39m\u001b[38;5;241m.\u001b[39msignature\u001b[38;5;241m.\u001b[39mname),\n\u001b[1;32m    508\u001b[0m         num_outputs\u001b[38;5;241m=\u001b[39m\u001b[38;5;28mself\u001b[39m\u001b[38;5;241m.\u001b[39m_num_outputs,\n\u001b[0;32m   (...)\u001b[0m\n\u001b[1;32m    511\u001b[0m         ctx\u001b[38;5;241m=\u001b[39mctx,\n\u001b[1;32m    512\u001b[0m         cancellation_manager\u001b[38;5;241m=\u001b[39mcancellation_manager)\n",
      "File \u001b[0;32m~/.pyenv/versions/3.8.12/envs/lewagon/lib/python3.8/site-packages/tensorflow/python/eager/execute.py:54\u001b[0m, in \u001b[0;36mquick_execute\u001b[0;34m(op_name, num_outputs, inputs, attrs, ctx, name)\u001b[0m\n\u001b[1;32m     52\u001b[0m \u001b[38;5;28;01mtry\u001b[39;00m:\n\u001b[1;32m     53\u001b[0m   ctx\u001b[38;5;241m.\u001b[39mensure_initialized()\n\u001b[0;32m---> 54\u001b[0m   tensors \u001b[38;5;241m=\u001b[39m \u001b[43mpywrap_tfe\u001b[49m\u001b[38;5;241;43m.\u001b[39;49m\u001b[43mTFE_Py_Execute\u001b[49m\u001b[43m(\u001b[49m\u001b[43mctx\u001b[49m\u001b[38;5;241;43m.\u001b[39;49m\u001b[43m_handle\u001b[49m\u001b[43m,\u001b[49m\u001b[43m \u001b[49m\u001b[43mdevice_name\u001b[49m\u001b[43m,\u001b[49m\u001b[43m \u001b[49m\u001b[43mop_name\u001b[49m\u001b[43m,\u001b[49m\n\u001b[1;32m     55\u001b[0m \u001b[43m                                      \u001b[49m\u001b[43minputs\u001b[49m\u001b[43m,\u001b[49m\u001b[43m \u001b[49m\u001b[43mattrs\u001b[49m\u001b[43m,\u001b[49m\u001b[43m \u001b[49m\u001b[43mnum_outputs\u001b[49m\u001b[43m)\u001b[49m\n\u001b[1;32m     56\u001b[0m \u001b[38;5;28;01mexcept\u001b[39;00m core\u001b[38;5;241m.\u001b[39m_NotOkStatusException \u001b[38;5;28;01mas\u001b[39;00m e:\n\u001b[1;32m     57\u001b[0m   \u001b[38;5;28;01mif\u001b[39;00m name \u001b[38;5;129;01mis\u001b[39;00m \u001b[38;5;129;01mnot\u001b[39;00m \u001b[38;5;28;01mNone\u001b[39;00m:\n",
      "\u001b[0;31mKeyboardInterrupt\u001b[0m: "
     ]
    }
   ],
   "source": [
    "model = initialize_model()\n",
    "\n",
    "es = EarlyStopping(monitor = 'val_accuracy', \n",
    "                   mode = 'max', \n",
    "                   patience = 5, \n",
    "                   verbose = 1, \n",
    "                   restore_best_weights = True)\n",
    "\n",
    "history = model.fit(X_train,y_train,\n",
    "                    validation_split=0.2,\n",
    "                    epochs=50, \n",
    "                    batch_size=32,\n",
    "                    callbacks=[es])"
   ]
  },
  {
   "cell_type": "code",
   "execution_count": 72,
   "id": "0d878772",
   "metadata": {},
   "outputs": [],
   "source": [
    "#plot Accuracy\n",
    "\n",
    "def plot_loss_accuracy(history, title=None):\n",
    "    fig, ax = plt.subplots(1,2, figsize=(20,7))\n",
    "    \n",
    "    # --- LOSS --- \n",
    "    \n",
    "    ax[0].plot(history.history['loss'])\n",
    "    ax[0].plot(history.history['val_loss'])\n",
    "    ax[0].set_title('Model loss')\n",
    "    ax[0].set_ylabel('Loss')\n",
    "    ax[0].set_xlabel('Epoch')\n",
    "    ax[0].set_ylim((0,3))\n",
    "    ax[0].legend(['Train', 'Test'], loc='best')\n",
    "    ax[0].grid(axis=\"x\",linewidth=0.5)\n",
    "    ax[0].grid(axis=\"y\",linewidth=0.5)\n",
    "    \n",
    "    # --- ACCURACY\n",
    "    \n",
    "    ax[1].plot(history.history['accuracy'])\n",
    "    ax[1].plot(history.history['val_accuracy'])\n",
    "    ax[1].set_title('Model Accuracy')\n",
    "    ax[1].set_ylabel('Accuracy')\n",
    "    ax[1].set_xlabel('Epoch')\n",
    "    ax[1].legend(['Train', 'Test'], loc='best')\n",
    "    ax[1].set_ylim((0,1))\n",
    "    ax[1].grid(axis=\"x\",linewidth=0.5)\n",
    "    ax[1].grid(axis=\"y\",linewidth=0.5)\n",
    "    \n",
    "    if title:\n",
    "        fig.suptitle(title)"
   ]
  },
  {
   "cell_type": "code",
   "execution_count": 20,
   "id": "05a455ad",
   "metadata": {
    "scrolled": true
   },
   "outputs": [
    {
     "data": {
      "image/png": "[encoded data removed]",
      "text/plain": [
       "<Figure size 1440x504 with 2 Axes>"
      ]
     },
     "metadata": {
      "needs_background": "light"
     },
     "output_type": "display_data"
    }
   ],
   "source": [
    "plot_loss_accuracy(history, title=None)"
   ]
  },
  {
   "cell_type": "code",
   "execution_count": 112,
   "id": "9fe1eee9",
   "metadata": {},
   "outputs": [],
   "source": [
    "results_test = model.evaluate(X_test, y_test, verbose = 0)"
   ]
  },
  {
   "cell_type": "code",
   "execution_count": 113,
   "id": "515d919f",
   "metadata": {},
   "outputs": [
    {
     "data": {
      "text/plain": [
       "[0.8164066672325134, 0.7414229512214661]"
      ]
     },
     "execution_count": 113,
     "metadata": {},
     "output_type": "execute_result"
    }
   ],
   "source": [
    "results_test"
   ]
  },
  {
   "cell_type": "code",
   "execution_count": 114,
   "id": "8a972ee8",
   "metadata": {},
   "outputs": [],
   "source": [
    "predictions=model.predict(X_test)"
   ]
  },
  {
   "cell_type": "code",
   "execution_count": 144,
   "id": "25590e39",
   "metadata": {},
   "outputs": [],
   "source": [
    "y_test_1d=[np.argmax(y) for y in y_test]\n",
    "predictions_1d=[np.argmax(y) for y in predictions]"
   ]
  },
  {
   "cell_type": "code",
   "execution_count": 151,
   "id": "7478043e",
   "metadata": {},
   "outputs": [
    {
     "data": {
      "text/html": [
       "<div>\n",
       "<style scoped>\n",
       "    .dataframe tbody tr th:only-of-type {\n",
       "        vertical-align: middle;\n",
       "    }\n",
       "\n",
       "    .dataframe tbody tr th {\n",
       "        vertical-align: top;\n",
       "    }\n",
       "\n",
       "    .dataframe thead th {\n",
       "        text-align: right;\n",
       "    }\n",
       "</style>\n",
       "<table border=\"1\" class=\"dataframe\">\n",
       "  <thead>\n",
       "    <tr style=\"text-align: right;\">\n",
       "      <th></th>\n",
       "      <th>y_test</th>\n",
       "      <th>predictions</th>\n",
       "      <th>results</th>\n",
       "    </tr>\n",
       "  </thead>\n",
       "  <tbody>\n",
       "    <tr>\n",
       "      <th>0</th>\n",
       "      <td>2</td>\n",
       "      <td>2</td>\n",
       "      <td>True</td>\n",
       "    </tr>\n",
       "    <tr>\n",
       "      <th>1</th>\n",
       "      <td>0</td>\n",
       "      <td>0</td>\n",
       "      <td>True</td>\n",
       "    </tr>\n",
       "    <tr>\n",
       "      <th>2</th>\n",
       "      <td>1</td>\n",
       "      <td>1</td>\n",
       "      <td>True</td>\n",
       "    </tr>\n",
       "    <tr>\n",
       "      <th>3</th>\n",
       "      <td>3</td>\n",
       "      <td>3</td>\n",
       "      <td>True</td>\n",
       "    </tr>\n",
       "    <tr>\n",
       "      <th>4</th>\n",
       "      <td>0</td>\n",
       "      <td>0</td>\n",
       "      <td>True</td>\n",
       "    </tr>\n",
       "    <tr>\n",
       "      <th>...</th>\n",
       "      <td>...</td>\n",
       "      <td>...</td>\n",
       "      <td>...</td>\n",
       "    </tr>\n",
       "    <tr>\n",
       "      <th>7107</th>\n",
       "      <td>0</td>\n",
       "      <td>0</td>\n",
       "      <td>True</td>\n",
       "    </tr>\n",
       "    <tr>\n",
       "      <th>7108</th>\n",
       "      <td>1</td>\n",
       "      <td>1</td>\n",
       "      <td>True</td>\n",
       "    </tr>\n",
       "    <tr>\n",
       "      <th>7109</th>\n",
       "      <td>3</td>\n",
       "      <td>3</td>\n",
       "      <td>True</td>\n",
       "    </tr>\n",
       "    <tr>\n",
       "      <th>7110</th>\n",
       "      <td>2</td>\n",
       "      <td>2</td>\n",
       "      <td>True</td>\n",
       "    </tr>\n",
       "    <tr>\n",
       "      <th>7111</th>\n",
       "      <td>1</td>\n",
       "      <td>0</td>\n",
       "      <td>False</td>\n",
       "    </tr>\n",
       "  </tbody>\n",
       "</table>\n",
       "<p>7112 rows × 3 columns</p>\n",
       "</div>"
      ],
      "text/plain": [
       "      y_test  predictions  results\n",
       "0          2            2     True\n",
       "1          0            0     True\n",
       "2          1            1     True\n",
       "3          3            3     True\n",
       "4          0            0     True\n",
       "...      ...          ...      ...\n",
       "7107       0            0     True\n",
       "7108       1            1     True\n",
       "7109       3            3     True\n",
       "7110       2            2     True\n",
       "7111       1            0    False\n",
       "\n",
       "[7112 rows x 3 columns]"
      ]
     },
     "execution_count": 151,
     "metadata": {},
     "output_type": "execute_result"
    }
   ],
   "source": [
    "dict={'y_test':y_test_1d,'predictions':predictions_1d}\n",
    "df=pd.DataFrame.from_dict(dict)\n",
    "df['results']=(df['y_test']==df['predictions'])\n",
    "df"
   ]
  },
  {
   "cell_type": "code",
   "execution_count": 153,
   "id": "9010c9e2",
   "metadata": {},
   "outputs": [
    {
     "data": {
      "text/plain": [
       "y_test\n",
       "0    0.901974\n",
       "1    0.789165\n",
       "2    0.734177\n",
       "3    0.614557\n",
       "4    0.003839\n",
       "Name: results, dtype: float64"
      ]
     },
     "execution_count": 153,
     "metadata": {},
     "output_type": "execute_result"
    }
   ],
   "source": [
    "df.groupby(['y_test']).mean()['results']"
   ]
  },
  {
   "cell_type": "code",
   "execution_count": 37,
   "id": "2027c6d3",
   "metadata": {},
   "outputs": [
    {
     "ename": "NameError",
     "evalue": "name 'model' is not defined",
     "output_type": "error",
     "traceback": [
      "\u001b[0;31m---------------------------------------------------------------------------\u001b[0m",
      "\u001b[0;31mNameError\u001b[0m                                 Traceback (most recent call last)",
      "Input \u001b[0;32mIn [37]\u001b[0m, in \u001b[0;36m<cell line: 1>\u001b[0;34m()\u001b[0m\n\u001b[0;32m----> 1\u001b[0m prediction\u001b[38;5;241m=\u001b[39m\u001b[43mmodel\u001b[49m\u001b[38;5;241m.\u001b[39mpredict(X_test[\u001b[38;5;241m0\u001b[39m])\n",
      "\u001b[0;31mNameError\u001b[0m: name 'model' is not defined"
     ]
    }
   ],
   "source": [
    "prediction=model.predict(X_test[0])"
   ]
  },
  {
   "cell_type": "code",
   "execution_count": null,
   "id": "fe8000cf",
   "metadata": {},
   "outputs": [],
   "source": []
  },
  {
   "cell_type": "code",
   "execution_count": null,
   "id": "a5bc63eb",
   "metadata": {},
   "outputs": [],
   "source": []
  },
  {
   "cell_type": "code",
   "execution_count": null,
   "id": "a3d5b1ac",
   "metadata": {},
   "outputs": [],
   "source": []
  },
  {
   "cell_type": "markdown",
   "id": "ed765196",
   "metadata": {},
   "source": [
    "## Test 2"
   ]
  },
  {
   "cell_type": "code",
   "execution_count": 23,
   "id": "f9f6fd18",
   "metadata": {},
   "outputs": [],
   "source": [
    "def initialize_model():\n",
    "    \n",
    "    model = Sequential()\n",
    "    model.add(layers.Conv2D(128, (3,3), activation='relu', input_shape=(48,48,1)))\n",
    "    model.add(layers.MaxPool2D(pool_size=(2,2)))\n",
    "\n",
    "    model.add(layers.Conv2D(64, (3,3), activation='relu', padding='same'))\n",
    "    model.add(layers.MaxPool2D(pool_size=(2,2)))\n",
    "    \n",
    "    model.add(layers.Conv2D(64,(3,3),activation='relu'))\n",
    "    model.add(layers.MaxPooling2D(2,2))\n",
    "#     model.add(layers.Dropout(0.2))\n",
    "\n",
    "    model.add(layers.Conv2D(32,(2,2),activation='relu'))\n",
    "    \n",
    "    model.add(layers.Conv2D(32,(2,2),activation='relu'))\n",
    "\n",
    "    model.add(layers.Conv2D(16,(2,2),activation='relu'))\n",
    "    model.add(layers.Dropout(0.2)) \n",
    "\n",
    "    model.add(layers.Flatten())\n",
    "#     model.add(layers.Dropout(0.5))\n",
    "    \n",
    "    model.add(layers.Dense(5, activation='softmax'))\n",
    "    \n",
    "    opt = optimizers.Adam(learning_rate=0.001)\n",
    "    model.compile(loss='categorical_crossentropy',\n",
    "                  optimizer=opt,\n",
    "                  metrics=['accuracy'])\n",
    "    \n",
    "    return model"
   ]
  },
  {
   "cell_type": "code",
   "execution_count": 24,
   "id": "72970da0",
   "metadata": {},
   "outputs": [
    {
     "name": "stdout",
     "output_type": "stream",
     "text": [
      "Epoch 1/50\n"
     ]
    },
    {
     "name": "stderr",
     "output_type": "stream",
     "text": [
      "2022-05-31 14:39:48.527824: W tensorflow/core/framework/cpu_allocator_impl.cc:82] Allocation of 122333184 exceeds 10% of free system memory.\n"
     ]
    },
    {
     "name": "stdout",
     "output_type": "stream",
     "text": [
      "415/415 [==============================] - 61s 145ms/step - loss: 1.3679 - accuracy: 0.4413 - val_loss: 1.1260 - val_accuracy: 0.5806\n",
      "Epoch 2/50\n",
      "415/415 [==============================] - 60s 145ms/step - loss: 1.1227 - accuracy: 0.5715 - val_loss: 0.9760 - val_accuracy: 0.6659\n",
      "Epoch 3/50\n",
      "415/415 [==============================] - 58s 139ms/step - loss: 0.9884 - accuracy: 0.6332 - val_loss: 0.9194 - val_accuracy: 0.6939\n",
      "Epoch 4/50\n",
      "415/415 [==============================] - 57s 137ms/step - loss: 0.9427 - accuracy: 0.6586 - val_loss: 0.8989 - val_accuracy: 0.6909\n",
      "Epoch 5/50\n",
      "415/415 [==============================] - 57s 137ms/step - loss: 0.9070 - accuracy: 0.6718 - val_loss: 0.8603 - val_accuracy: 0.6981\n",
      "Epoch 6/50\n",
      "415/415 [==============================] - 57s 137ms/step - loss: 0.8686 - accuracy: 0.6840 - val_loss: 0.8464 - val_accuracy: 0.7096\n",
      "Epoch 7/50\n",
      "415/415 [==============================] - 56s 134ms/step - loss: 0.8389 - accuracy: 0.7020 - val_loss: 0.8900 - val_accuracy: 0.6936\n",
      "Epoch 8/50\n",
      "415/415 [==============================] - 56s 136ms/step - loss: 0.8085 - accuracy: 0.7045 - val_loss: 0.7980 - val_accuracy: 0.7312\n",
      "Epoch 9/50\n",
      "415/415 [==============================] - 57s 137ms/step - loss: 0.7782 - accuracy: 0.7189 - val_loss: 0.8096 - val_accuracy: 0.7246\n",
      "Epoch 10/50\n",
      "415/415 [==============================] - 55s 133ms/step - loss: 0.7626 - accuracy: 0.7270 - val_loss: 0.8298 - val_accuracy: 0.7343\n",
      "Epoch 11/50\n",
      "415/415 [==============================] - 56s 135ms/step - loss: 0.7431 - accuracy: 0.7384 - val_loss: 0.8606 - val_accuracy: 0.7135\n",
      "Epoch 12/50\n",
      "415/415 [==============================] - 55s 134ms/step - loss: 0.7333 - accuracy: 0.7407 - val_loss: 0.8511 - val_accuracy: 0.7189\n",
      "Epoch 13/50\n",
      "415/415 [==============================] - 56s 135ms/step - loss: 0.7160 - accuracy: 0.7462 - val_loss: 0.8279 - val_accuracy: 0.7303\n",
      "Epoch 14/50\n",
      "415/415 [==============================] - 60s 144ms/step - loss: 0.6923 - accuracy: 0.7549 - val_loss: 0.8608 - val_accuracy: 0.7246\n",
      "Epoch 15/50\n",
      "415/415 [==============================] - ETA: 0s - loss: 0.6882 - accuracy: 0.7583Restoring model weights from the end of the best epoch: 10.\n",
      "415/415 [==============================] - 59s 142ms/step - loss: 0.6882 - accuracy: 0.7583 - val_loss: 0.8227 - val_accuracy: 0.7318\n",
      "Epoch 15: early stopping\n"
     ]
    }
   ],
   "source": [
    "model2 = initialize_model()\n",
    "\n",
    "es = EarlyStopping(monitor = 'val_accuracy', \n",
    "                   mode = 'max', \n",
    "                   patience = 5, \n",
    "                   verbose = 1, \n",
    "                   restore_best_weights = True)\n",
    "\n",
    "history2 = model2.fit(X_train,y_train,\n",
    "                    validation_split=0.2,\n",
    "                    epochs=50, \n",
    "                    batch_size=32,\n",
    "                    callbacks=[es])"
   ]
  },
  {
   "cell_type": "code",
   "execution_count": 25,
   "id": "df4469fd",
   "metadata": {},
   "outputs": [
    {
     "data": {
      "image/png": "[encoded data removed]",
      "text/plain": [
       "<Figure size 1440x504 with 2 Axes>"
      ]
     },
     "metadata": {
      "needs_background": "light"
     },
     "output_type": "display_data"
    }
   ],
   "source": [
    "plot_loss_accuracy(history2, title=None)"
   ]
  },
  {
   "cell_type": "code",
   "execution_count": 26,
   "id": "5236b0e1",
   "metadata": {},
   "outputs": [],
   "source": [
    "model2.evaluate(X_test, y_test, verbose = 0)"
   ]
  },
  {
   "cell_type": "markdown",
   "id": "0ad04f2c",
   "metadata": {},
   "source": [
    "## Test 3"
   ]
  },
  {
   "cell_type": "code",
   "execution_count": 40,
   "id": "d446bdf0",
   "metadata": {},
   "outputs": [],
   "source": [
    "def initialize_model():\n",
    "    \n",
    "    model = Sequential()\n",
    "    model.add(layers.Conv2D(128, (3,3), activation='relu', input_shape=(48,48,1), padding='same'))\n",
    "    model.add(layers.Conv2D(128, (3,3), activation='relu', padding='same'))\n",
    "    \n",
    "    model.add(layers.Conv2D(64, (3,3), activation='relu', padding='same'))\n",
    "    model.add(layers.Conv2D(64, (3,3),activation='relu', padding='same'))\n",
    "    model.add(layers.MaxPooling2D(2,2))\n",
    "#     model.add(layers.Dropout(0.2))\n",
    "\n",
    "    model.add(layers.Conv2D(32,(2,2),activation='relu'))\n",
    "    model.add(layers.Conv2D(32,(2,2),activation='relu'))\n",
    "    model.add(layers.MaxPooling2D(2,2))\n",
    "              \n",
    "    model.add(layers.Conv2D(16,(2,2),activation='relu'))\n",
    "\n",
    "    model.add(layers.Flatten())\n",
    "#     model.add(layers.Dropout(0.5))\n",
    "    \n",
    "    model.add(layers.Dense(5, activation='softmax'))\n",
    "    \n",
    "    opt = optimizers.Adam(learning_rate=0.001)\n",
    "    model.compile(loss='categorical_crossentropy',\n",
    "                  optimizer=opt,\n",
    "                  metrics=['accuracy'])\n",
    "    \n",
    "    return model"
   ]
  },
  {
   "cell_type": "code",
   "execution_count": 41,
   "id": "e785a3d5",
   "metadata": {},
   "outputs": [
    {
     "name": "stdout",
     "output_type": "stream",
     "text": [
      "Epoch 1/50\n",
      "415/415 [==============================] - 355s 854ms/step - loss: 1.5678 - accuracy: 0.4152 - val_loss: 1.5047 - val_accuracy: 0.4284\n",
      "Epoch 2/50\n",
      "415/415 [==============================] - 363s 876ms/step - loss: 1.4690 - accuracy: 0.4338 - val_loss: 1.4591 - val_accuracy: 0.4327\n",
      "Epoch 3/50\n",
      "415/415 [==============================] - 365s 880ms/step - loss: 1.3378 - accuracy: 0.4898 - val_loss: 1.1812 - val_accuracy: 0.5553\n",
      "Epoch 4/50\n",
      "415/415 [==============================] - 368s 888ms/step - loss: 1.0467 - accuracy: 0.6196 - val_loss: 1.0305 - val_accuracy: 0.6342\n",
      "Epoch 5/50\n",
      "415/415 [==============================] - 362s 873ms/step - loss: 0.9415 - accuracy: 0.6624 - val_loss: 0.9460 - val_accuracy: 0.6574\n",
      "Epoch 6/50\n",
      "415/415 [==============================] - 358s 863ms/step - loss: 0.8740 - accuracy: 0.6897 - val_loss: 0.9076 - val_accuracy: 0.6770\n",
      "Epoch 7/50\n",
      "415/415 [==============================] - 356s 858ms/step - loss: 0.8374 - accuracy: 0.7045 - val_loss: 0.8538 - val_accuracy: 0.7056\n",
      "Epoch 8/50\n",
      "415/415 [==============================] - ETA: 0s - loss: 0.8017 - accuracy: 0.7148Restoring model weights from the end of the best epoch: 7.\n",
      "415/415 [==============================] - 361s 870ms/step - loss: 0.8017 - accuracy: 0.7148 - val_loss: 0.8900 - val_accuracy: 0.6728\n",
      "Epoch 8: early stopping\n"
     ]
    }
   ],
   "source": [
    "model3 = initialize_model()\n",
    "\n",
    "es = EarlyStopping(monitor = 'val_accuracy', \n",
    "                   mode = 'max', \n",
    "                   patience = 1, \n",
    "                   verbose = 1, \n",
    "                   restore_best_weights = True)\n",
    "\n",
    "history3 = model3.fit(X_train,y_train,\n",
    "                    validation_split=0.2,\n",
    "                    epochs=50, \n",
    "                    batch_size=32,\n",
    "                    callbacks=[es])"
   ]
  },
  {
   "cell_type": "code",
   "execution_count": 43,
   "id": "6ce53856",
   "metadata": {},
   "outputs": [
    {
     "data": {
      "image/png": "[encoded data removed]",
      "text/plain": [
       "<Figure size 1440x504 with 2 Axes>"
      ]
     },
     "metadata": {
      "needs_background": "light"
     },
     "output_type": "display_data"
    }
   ],
   "source": [
    "plot_loss_accuracy(history3, title=None)"
   ]
  },
  {
   "cell_type": "code",
   "execution_count": 44,
   "id": "f981a00f",
   "metadata": {},
   "outputs": [
    {
     "data": {
      "text/plain": [
       "[0.8403927683830261, 0.7017716765403748]"
      ]
     },
     "execution_count": 44,
     "metadata": {},
     "output_type": "execute_result"
    }
   ],
   "source": [
    "model3.evaluate(X_test, y_test, verbose = 0)"
   ]
  },
  {
   "cell_type": "markdown",
   "id": "d7f9e24d",
   "metadata": {},
   "source": [
    "## Test 4"
   ]
  },
  {
   "cell_type": "code",
   "execution_count": 126,
   "id": "a5c78886",
   "metadata": {},
   "outputs": [],
   "source": [
    "def initialize_model():\n",
    "    \n",
    "    model = Sequential()\n",
    "\n",
    "    model.add(layers.Conv2D(64,(3,3),activation='relu',padding = \"same\",input_shape=(48,48,1)))\n",
    "    model.add(layers.MaxPooling2D(2,2))\n",
    "    model.add(layers.Conv2D(32,(3,3),activation='relu'))\n",
    "    model.add(layers.MaxPooling2D(2,2))\n",
    "    model.add(layers.Conv2D(64,(3,3),activation='relu'))\n",
    "    model.add(layers.MaxPooling2D(2,2))\n",
    "    model.add(layers.Flatten())\n",
    "    \n",
    "    model.add(layers.Dense(5, activation='softmax'))\n",
    "    \n",
    "    opt = optimizers.Adam(learning_rate=0.001)\n",
    "    \n",
    "    model.compile(loss='categorical_crossentropy',\n",
    "                  optimizer=opt,\n",
    "                  metrics=['accuracy'])\n",
    "    \n",
    "    return model"
   ]
  },
  {
   "cell_type": "code",
   "execution_count": 129,
   "id": "3f08867a",
   "metadata": {},
   "outputs": [
    {
     "name": "stdout",
     "output_type": "stream",
     "text": [
      "Epoch 1/50\n",
      "415/415 [==============================] - 23s 54ms/step - loss: 1.4242 - accuracy: 0.5431 - val_loss: 1.0908 - val_accuracy: 0.5957\n",
      "Epoch 2/50\n",
      "415/415 [==============================] - 22s 53ms/step - loss: 1.0028 - accuracy: 0.6338 - val_loss: 1.0137 - val_accuracy: 0.6255\n",
      "Epoch 3/50\n",
      "415/415 [==============================] - 22s 54ms/step - loss: 0.9334 - accuracy: 0.6602 - val_loss: 0.9566 - val_accuracy: 0.6547\n",
      "Epoch 4/50\n",
      "415/415 [==============================] - 23s 55ms/step - loss: 0.8944 - accuracy: 0.6815 - val_loss: 0.9193 - val_accuracy: 0.6710\n",
      "Epoch 5/50\n",
      "415/415 [==============================] - 22s 53ms/step - loss: 0.8688 - accuracy: 0.6901 - val_loss: 0.9232 - val_accuracy: 0.6674\n",
      "Epoch 6/50\n",
      "415/415 [==============================] - 22s 54ms/step - loss: 0.8451 - accuracy: 0.6951 - val_loss: 0.9001 - val_accuracy: 0.6794\n",
      "Epoch 7/50\n",
      "415/415 [==============================] - 23s 55ms/step - loss: 0.8120 - accuracy: 0.7105 - val_loss: 0.9241 - val_accuracy: 0.6704\n",
      "Epoch 8/50\n",
      "415/415 [==============================] - 22s 54ms/step - loss: 0.7930 - accuracy: 0.7169 - val_loss: 0.9102 - val_accuracy: 0.6824\n",
      "Epoch 9/50\n",
      "415/415 [==============================] - 22s 53ms/step - loss: 0.7610 - accuracy: 0.7265 - val_loss: 0.9151 - val_accuracy: 0.6821\n",
      "Epoch 10/50\n",
      "415/415 [==============================] - 22s 53ms/step - loss: 0.7485 - accuracy: 0.7319 - val_loss: 0.9433 - val_accuracy: 0.6656\n",
      "Epoch 11/50\n",
      "415/415 [==============================] - 22s 53ms/step - loss: 0.7508 - accuracy: 0.7329 - val_loss: 0.9236 - val_accuracy: 0.6845\n",
      "Epoch 12/50\n",
      "415/415 [==============================] - 23s 54ms/step - loss: 0.7112 - accuracy: 0.7453 - val_loss: 0.9292 - val_accuracy: 0.6942\n",
      "Epoch 13/50\n",
      "415/415 [==============================] - 23s 55ms/step - loss: 0.6882 - accuracy: 0.7546 - val_loss: 0.9541 - val_accuracy: 0.6815\n",
      "Epoch 14/50\n",
      "415/415 [==============================] - 22s 53ms/step - loss: 0.6818 - accuracy: 0.7557 - val_loss: 0.9204 - val_accuracy: 0.6794\n",
      "Epoch 15/50\n",
      "415/415 [==============================] - 22s 52ms/step - loss: 0.6517 - accuracy: 0.7680 - val_loss: 0.9382 - val_accuracy: 0.6879\n",
      "Epoch 16/50\n",
      "415/415 [==============================] - 22s 54ms/step - loss: 0.6382 - accuracy: 0.7749 - val_loss: 0.9548 - val_accuracy: 0.6851\n",
      "Epoch 17/50\n",
      "414/415 [============================>.] - ETA: 0s - loss: 0.6112 - accuracy: 0.7831Restoring model weights from the end of the best epoch: 12.\n",
      "415/415 [==============================] - 22s 54ms/step - loss: 0.6113 - accuracy: 0.7831 - val_loss: 1.0518 - val_accuracy: 0.6764\n",
      "Epoch 17: early stopping\n"
     ]
    }
   ],
   "source": [
    "model4 = initialize_model()\n",
    "\n",
    "es = EarlyStopping(monitor = 'val_accuracy', \n",
    "                   mode = 'max', \n",
    "                   patience = 5, \n",
    "                   verbose = 1, \n",
    "                   restore_best_weights = True)\n",
    "\n",
    "history4 = model4.fit(X_train,y_train,\n",
    "                    validation_split=0.2,\n",
    "                    epochs=50, \n",
    "                    batch_size=32,\n",
    "                    callbacks=[es])"
   ]
  },
  {
   "cell_type": "code",
   "execution_count": null,
   "id": "153e3325",
   "metadata": {},
   "outputs": [],
   "source": [
    "plot_loss_accuracy(history4, title=None)"
   ]
  },
  {
   "cell_type": "code",
   "execution_count": null,
   "id": "b18c0dba",
   "metadata": {},
   "outputs": [],
   "source": [
    "model4.evaluate(X_test, y_test, verbose = 0)"
   ]
  },
  {
   "cell_type": "markdown",
   "id": "b391fa6e",
   "metadata": {},
   "source": [
    "## Test 5"
   ]
  },
  {
   "cell_type": "code",
   "execution_count": 31,
   "id": "32d29eab",
   "metadata": {},
   "outputs": [
    {
     "data": {
      "text/plain": [
       "<AxesSubplot:xlabel='ethnicity', ylabel='count'>"
      ]
     },
     "execution_count": 31,
     "metadata": {},
     "output_type": "execute_result"
    },
    {
     "data": {
      "image/png": "[encoded data removed]",
      "text/plain": [
       "<Figure size 432x288 with 1 Axes>"
      ]
     },
     "metadata": {},
     "output_type": "display_data"
    }
   ],
   "source": [
    "sns.countplot(data=data,x='ethnicity')"
   ]
  },
  {
   "cell_type": "code",
   "execution_count": 32,
   "id": "318382f2",
   "metadata": {},
   "outputs": [],
   "source": [
    "whites=data[data['ethnicity']==0].sample(6000)\n",
    "blacks=data[data['ethnicity']==1]\n",
    "asians=data[data['ethnicity']==2]\n",
    "indians=data[data['ethnicity']==3]\n",
    "hispanics=data[data['ethnicity']==4]"
   ]
  },
  {
   "cell_type": "code",
   "execution_count": 36,
   "id": "e180dd95",
   "metadata": {},
   "outputs": [
    {
     "name": "stderr",
     "output_type": "stream",
     "text": [
      "/tmp/ipykernel_28790/3330660995.py:1: SettingWithCopyWarning: \n",
      "A value is trying to be set on a copy of a slice from a DataFrame.\n",
      "Try using .loc[row_indexer,col_indexer] = value instead\n",
      "\n",
      "See the caveats in the documentation: https://pandas.pydata.org/pandas-docs/stable/user_guide/indexing.html#returning-a-view-versus-a-copy\n",
      "  hispanics['ethnicity']=3\n",
      "/tmp/ipykernel_28790/3330660995.py:2: SettingWithCopyWarning: \n",
      "A value is trying to be set on a copy of a slice from a DataFrame.\n",
      "Try using .loc[row_indexer,col_indexer] = value instead\n",
      "\n",
      "See the caveats in the documentation: https://pandas.pydata.org/pandas-docs/stable/user_guide/indexing.html#returning-a-view-versus-a-copy\n",
      "  hispanics['ethnicity_label']='Indian/hispanic'\n",
      "/tmp/ipykernel_28790/3330660995.py:3: SettingWithCopyWarning: \n",
      "A value is trying to be set on a copy of a slice from a DataFrame.\n",
      "Try using .loc[row_indexer,col_indexer] = value instead\n",
      "\n",
      "See the caveats in the documentation: https://pandas.pydata.org/pandas-docs/stable/user_guide/indexing.html#returning-a-view-versus-a-copy\n",
      "  indians['ethnicity_label']='Indian/hispanic'\n"
     ]
    }
   ],
   "source": [
    "hispanics['ethnicity']=3\n",
    "hispanics['ethnicity_label']='Indian/hispanic'\n",
    "indians['ethnicity_label']='Indian/hispanic'"
   ]
  },
  {
   "cell_type": "code",
   "execution_count": 37,
   "id": "4eb44257",
   "metadata": {},
   "outputs": [
    {
     "data": {
      "text/plain": [
       "<AxesSubplot:xlabel='ethnicity', ylabel='count'>"
      ]
     },
     "execution_count": 37,
     "metadata": {},
     "output_type": "execute_result"
    },
    {
     "data": {
      "image/png": "[encoded data removed]",
      "text/plain": [
       "<Figure size 432x288 with 1 Axes>"
      ]
     },
     "metadata": {},
     "output_type": "display_data"
    }
   ],
   "source": [
    "data_new=pd.concat([whites, blacks, asians, indians, hispanics])\n",
    "sns.countplot(data=data_new,x='ethnicity')"
   ]
  },
  {
   "cell_type": "code",
   "execution_count": 38,
   "id": "002921be",
   "metadata": {},
   "outputs": [
    {
     "data": {
      "image/png": "[encoded data removed]",
      "text/plain": [
       "<Figure size 720x432 with 1 Axes>"
      ]
     },
     "metadata": {},
     "output_type": "display_data"
    }
   ],
   "source": [
    "display_feature(data_new,'ethnicity_label')"
   ]
  },
  {
   "cell_type": "code",
   "execution_count": null,
   "id": "71f4423c",
   "metadata": {},
   "outputs": [],
   "source": []
  },
  {
   "cell_type": "code",
   "execution_count": 12,
   "id": "e9b8f0d0",
   "metadata": {},
   "outputs": [],
   "source": [
    "X = data_new['pixels'].tolist()\n",
    "X = np.reshape(X, (-1, 48, 48,1))\n",
    "\n",
    "y = to_categorical(data_new['ethnicity'],num_classes=4)\n",
    "\n",
    "X_train, X_test, y_train, y_test = train_test_split(X, y, test_size=0.3, random_state=1)"
   ]
  },
  {
   "cell_type": "code",
   "execution_count": 13,
   "id": "10130ae2",
   "metadata": {},
   "outputs": [],
   "source": [
    "def initialize_model():\n",
    "    \n",
    "    model = Sequential()\n",
    "    model.add(layers.Conv2D(128, (3,3), activation='relu', input_shape=(48,48,1)))\n",
    "    model.add(layers.MaxPool2D(pool_size=(2,2)))\n",
    "\n",
    "    model.add(layers.Conv2D(64, (3,3), activation='relu', padding='same'))\n",
    "    model.add(layers.MaxPool2D(pool_size=(2,2)))\n",
    "    \n",
    "    model.add(layers.Conv2D(64,(3,3),activation='relu'))\n",
    "    model.add(layers.MaxPooling2D(2,2))\n",
    "#     model.add(layers.Dropout(0.2))\n",
    "\n",
    "    model.add(layers.Conv2D(32,(3,3),activation='relu'))\n",
    "    model.add(layers.MaxPooling2D(2,2))\n",
    "    model.add(layers.Dropout(0.1))          \n",
    "\n",
    "    model.add(layers.Flatten())\n",
    "#     model.add(layers.Dropout(0.5))\n",
    "    \n",
    "    model.add(layers.Dense(4, activation='softmax'))\n",
    "    \n",
    "    initial_learning_rate = 0.001 # start with default Adam value\n",
    "\n",
    "    lr_schedule = ExponentialDecay(\n",
    "        # Every 4000 iterations, multiply the learning rate by 0.7\n",
    "        initial_learning_rate, decay_steps = 4000, decay_rate = 0.7,\n",
    "    )\n",
    "    \n",
    "    opt = optimizers.Adam(learning_rate=lr_schedule)\n",
    "    model.compile(loss='categorical_crossentropy',\n",
    "                  optimizer=opt,\n",
    "                  metrics=['accuracy','Precision','Recall'])\n",
    "    \n",
    "    return model"
   ]
  },
  {
   "cell_type": "code",
   "execution_count": 209,
   "id": "a9dca895",
   "metadata": {},
   "outputs": [
    {
     "name": "stdout",
     "output_type": "stream",
     "text": [
      "Epoch 1/200\n",
      "415/415 [==============================] - 59s 139ms/step - loss: 1.3227 - accuracy: 0.4772 - precision: 0.5986 - recall: 0.2532 - val_loss: 0.9700 - val_accuracy: 0.6062 - val_precision: 0.7162 - val_recall: 0.4411\n",
      "Epoch 2/200\n",
      "415/415 [==============================] - 60s 144ms/step - loss: 0.9172 - accuracy: 0.6254 - precision: 0.7140 - recall: 0.4848 - val_loss: 0.8003 - val_accuracy: 0.6851 - val_precision: 0.7669 - val_recall: 0.5779\n",
      "Epoch 3/200\n",
      "415/415 [==============================] - 59s 142ms/step - loss: 0.8100 - accuracy: 0.6785 - precision: 0.7466 - recall: 0.5728 - val_loss: 0.8210 - val_accuracy: 0.6752 - val_precision: 0.7558 - val_recall: 0.5577\n",
      "Epoch 4/200\n",
      "415/415 [==============================] - 61s 147ms/step - loss: 0.7637 - accuracy: 0.7044 - precision: 0.7658 - recall: 0.6068 - val_loss: 0.7479 - val_accuracy: 0.7156 - val_precision: 0.7826 - val_recall: 0.6107\n",
      "Epoch 5/200\n",
      "415/415 [==============================] - 58s 140ms/step - loss: 0.7196 - accuracy: 0.7209 - precision: 0.7778 - recall: 0.6364 - val_loss: 0.7470 - val_accuracy: 0.7180 - val_precision: 0.7675 - val_recall: 0.6583\n",
      "Epoch 6/200\n",
      "415/415 [==============================] - 60s 144ms/step - loss: 0.6911 - accuracy: 0.7324 - precision: 0.7910 - recall: 0.6559 - val_loss: 0.7876 - val_accuracy: 0.6857 - val_precision: 0.7364 - val_recall: 0.6119\n",
      "Epoch 7/200\n",
      "415/415 [==============================] - 60s 145ms/step - loss: 0.6656 - accuracy: 0.7445 - precision: 0.8005 - recall: 0.6721 - val_loss: 0.6960 - val_accuracy: 0.7391 - val_precision: 0.7860 - val_recall: 0.6885\n",
      "Epoch 8/200\n",
      "415/415 [==============================] - 60s 146ms/step - loss: 0.6474 - accuracy: 0.7559 - precision: 0.8106 - recall: 0.6887 - val_loss: 0.7072 - val_accuracy: 0.7309 - val_precision: 0.7784 - val_recall: 0.6638\n",
      "Epoch 9/200\n",
      "415/415 [==============================] - 59s 141ms/step - loss: 0.6350 - accuracy: 0.7600 - precision: 0.8140 - recall: 0.6928 - val_loss: 0.7206 - val_accuracy: 0.7328 - val_precision: 0.7904 - val_recall: 0.6580\n",
      "Epoch 10/200\n",
      "415/415 [==============================] - 60s 145ms/step - loss: 0.6136 - accuracy: 0.7687 - precision: 0.8184 - recall: 0.7036 - val_loss: 0.6988 - val_accuracy: 0.7343 - val_precision: 0.7868 - val_recall: 0.6806\n",
      "Epoch 11/200\n",
      "415/415 [==============================] - 58s 140ms/step - loss: 0.5875 - accuracy: 0.7776 - precision: 0.8264 - recall: 0.7184 - val_loss: 0.6913 - val_accuracy: 0.7376 - val_precision: 0.7778 - val_recall: 0.6918\n",
      "Epoch 12/200\n",
      "415/415 [==============================] - 57s 138ms/step - loss: 0.5711 - accuracy: 0.7830 - precision: 0.8294 - recall: 0.7273 - val_loss: 0.6725 - val_accuracy: 0.7526 - val_precision: 0.8006 - val_recall: 0.6978\n",
      "Epoch 13/200\n",
      "415/415 [==============================] - 57s 138ms/step - loss: 0.5530 - accuracy: 0.7911 - precision: 0.8361 - recall: 0.7372 - val_loss: 0.6741 - val_accuracy: 0.7502 - val_precision: 0.7990 - val_recall: 0.6996\n",
      "Epoch 14/200\n",
      "415/415 [==============================] - 57s 138ms/step - loss: 0.5269 - accuracy: 0.8004 - precision: 0.8461 - recall: 0.7518 - val_loss: 0.6802 - val_accuracy: 0.7532 - val_precision: 0.7934 - val_recall: 0.7071\n",
      "Epoch 15/200\n",
      "415/415 [==============================] - 59s 141ms/step - loss: 0.5186 - accuracy: 0.8028 - precision: 0.8437 - recall: 0.7550 - val_loss: 0.6860 - val_accuracy: 0.7460 - val_precision: 0.7865 - val_recall: 0.6948\n",
      "Epoch 16/200\n",
      "415/415 [==============================] - 60s 144ms/step - loss: 0.5008 - accuracy: 0.8096 - precision: 0.8498 - recall: 0.7623 - val_loss: 0.6685 - val_accuracy: 0.7653 - val_precision: 0.7991 - val_recall: 0.7264\n",
      "Epoch 17/200\n",
      "415/415 [==============================] - 62s 150ms/step - loss: 0.4776 - accuracy: 0.8202 - precision: 0.8598 - recall: 0.7785 - val_loss: 0.7240 - val_accuracy: 0.7596 - val_precision: 0.7902 - val_recall: 0.7129\n",
      "Epoch 18/200\n",
      "415/415 [==============================] - 61s 146ms/step - loss: 0.4580 - accuracy: 0.8285 - precision: 0.8659 - recall: 0.7871 - val_loss: 0.7243 - val_accuracy: 0.7469 - val_precision: 0.7725 - val_recall: 0.7204\n",
      "Epoch 19/200\n",
      "415/415 [==============================] - 57s 138ms/step - loss: 0.4407 - accuracy: 0.8355 - precision: 0.8713 - recall: 0.7983 - val_loss: 0.7231 - val_accuracy: 0.7496 - val_precision: 0.7780 - val_recall: 0.7126\n",
      "Epoch 20/200\n",
      "415/415 [==============================] - 57s 137ms/step - loss: 0.4298 - accuracy: 0.8370 - precision: 0.8717 - recall: 0.8017 - val_loss: 0.7452 - val_accuracy: 0.7584 - val_precision: 0.7810 - val_recall: 0.7294\n",
      "Epoch 21/200\n",
      "415/415 [==============================] - ETA: 0s - loss: 0.4113 - accuracy: 0.8470 - precision: 0.8790 - recall: 0.8113Restoring model weights from the end of the best epoch: 16.\n",
      "415/415 [==============================] - 58s 141ms/step - loss: 0.4113 - accuracy: 0.8470 - precision: 0.8790 - recall: 0.8113 - val_loss: 0.7649 - val_accuracy: 0.7457 - val_precision: 0.7738 - val_recall: 0.6999\n",
      "Epoch 21: early stopping\n"
     ]
    }
   ],
   "source": [
    "model5 = initialize_model()\n",
    "\n",
    "es = EarlyStopping(monitor = 'val_accuracy', \n",
    "                   mode = 'max', \n",
    "                   patience = 5, \n",
    "                   verbose = 1, \n",
    "                   restore_best_weights = True)\n",
    "\n",
    "history5 = model5.fit(X_train,y_train,\n",
    "                    validation_split=0.2,\n",
    "                    epochs=200, \n",
    "                    batch_size=32,\n",
    "                    callbacks=[es])"
   ]
  },
  {
   "cell_type": "code",
   "execution_count": 182,
   "id": "fe0df659",
   "metadata": {},
   "outputs": [
    {
     "data": {
      "image/png": "[encoded data removed]",
      "text/plain": [
       "<Figure size 1440x504 with 2 Axes>"
      ]
     },
     "metadata": {
      "needs_background": "light"
     },
     "output_type": "display_data"
    }
   ],
   "source": [
    "plot_loss_accuracy(history5, title=None)"
   ]
  },
  {
   "cell_type": "code",
   "execution_count": 183,
   "id": "f322198a",
   "metadata": {},
   "outputs": [
    {
     "data": {
      "text/plain": [
       "[0.6513257622718811,\n",
       " 0.7591394782066345,\n",
       " 0.8351158499717712,\n",
       " 0.6587457656860352]"
      ]
     },
     "execution_count": 183,
     "metadata": {},
     "output_type": "execute_result"
    }
   ],
   "source": [
    "model5.evaluate(X_test, y_test, verbose = 0)"
   ]
  },
  {
   "cell_type": "code",
   "execution_count": 170,
   "id": "0da21df4",
   "metadata": {},
   "outputs": [],
   "source": [
    "predictions=model.predict(X_test)"
   ]
  },
  {
   "cell_type": "code",
   "execution_count": 171,
   "id": "d5e55e98",
   "metadata": {},
   "outputs": [],
   "source": [
    "y_test_1d=[np.argmax(y) for y in y_test]\n",
    "predictions_1d=[np.argmax(y) for y in predictions]"
   ]
  },
  {
   "cell_type": "code",
   "execution_count": 172,
   "id": "11c6f45e",
   "metadata": {},
   "outputs": [
    {
     "data": {
      "text/html": [
       "<div>\n",
       "<style scoped>\n",
       "    .dataframe tbody tr th:only-of-type {\n",
       "        vertical-align: middle;\n",
       "    }\n",
       "\n",
       "    .dataframe tbody tr th {\n",
       "        vertical-align: top;\n",
       "    }\n",
       "\n",
       "    .dataframe thead th {\n",
       "        text-align: right;\n",
       "    }\n",
       "</style>\n",
       "<table border=\"1\" class=\"dataframe\">\n",
       "  <thead>\n",
       "    <tr style=\"text-align: right;\">\n",
       "      <th></th>\n",
       "      <th>y_test</th>\n",
       "      <th>predictions</th>\n",
       "      <th>results</th>\n",
       "    </tr>\n",
       "  </thead>\n",
       "  <tbody>\n",
       "    <tr>\n",
       "      <th>0</th>\n",
       "      <td>1</td>\n",
       "      <td>2</td>\n",
       "      <td>False</td>\n",
       "    </tr>\n",
       "    <tr>\n",
       "      <th>1</th>\n",
       "      <td>0</td>\n",
       "      <td>2</td>\n",
       "      <td>False</td>\n",
       "    </tr>\n",
       "    <tr>\n",
       "      <th>2</th>\n",
       "      <td>1</td>\n",
       "      <td>1</td>\n",
       "      <td>True</td>\n",
       "    </tr>\n",
       "    <tr>\n",
       "      <th>3</th>\n",
       "      <td>0</td>\n",
       "      <td>0</td>\n",
       "      <td>True</td>\n",
       "    </tr>\n",
       "    <tr>\n",
       "      <th>4</th>\n",
       "      <td>3</td>\n",
       "      <td>3</td>\n",
       "      <td>True</td>\n",
       "    </tr>\n",
       "    <tr>\n",
       "      <th>...</th>\n",
       "      <td>...</td>\n",
       "      <td>...</td>\n",
       "      <td>...</td>\n",
       "    </tr>\n",
       "    <tr>\n",
       "      <th>7107</th>\n",
       "      <td>1</td>\n",
       "      <td>1</td>\n",
       "      <td>True</td>\n",
       "    </tr>\n",
       "    <tr>\n",
       "      <th>7108</th>\n",
       "      <td>0</td>\n",
       "      <td>0</td>\n",
       "      <td>True</td>\n",
       "    </tr>\n",
       "    <tr>\n",
       "      <th>7109</th>\n",
       "      <td>0</td>\n",
       "      <td>0</td>\n",
       "      <td>True</td>\n",
       "    </tr>\n",
       "    <tr>\n",
       "      <th>7110</th>\n",
       "      <td>0</td>\n",
       "      <td>0</td>\n",
       "      <td>True</td>\n",
       "    </tr>\n",
       "    <tr>\n",
       "      <th>7111</th>\n",
       "      <td>3</td>\n",
       "      <td>3</td>\n",
       "      <td>True</td>\n",
       "    </tr>\n",
       "  </tbody>\n",
       "</table>\n",
       "<p>7112 rows × 3 columns</p>\n",
       "</div>"
      ],
      "text/plain": [
       "      y_test  predictions  results\n",
       "0          1            2    False\n",
       "1          0            2    False\n",
       "2          1            1     True\n",
       "3          0            0     True\n",
       "4          3            3     True\n",
       "...      ...          ...      ...\n",
       "7107       1            1     True\n",
       "7108       0            0     True\n",
       "7109       0            0     True\n",
       "7110       0            0     True\n",
       "7111       3            3     True\n",
       "\n",
       "[7112 rows x 3 columns]"
      ]
     },
     "execution_count": 172,
     "metadata": {},
     "output_type": "execute_result"
    }
   ],
   "source": [
    "dict={'y_test':y_test_1d,'predictions':predictions_1d}\n",
    "df=pd.DataFrame.from_dict(dict)\n",
    "df['results']=(df['y_test']==df['predictions'])\n",
    "df"
   ]
  },
  {
   "cell_type": "code",
   "execution_count": 173,
   "id": "37b59d83",
   "metadata": {
    "scrolled": true
   },
   "outputs": [
    {
     "data": {
      "text/plain": [
       "y_test\n",
       "0    0.834476\n",
       "1    0.804878\n",
       "2    0.722278\n",
       "3    0.539823\n",
       "Name: results, dtype: float64"
      ]
     },
     "execution_count": 173,
     "metadata": {},
     "output_type": "execute_result"
    }
   ],
   "source": [
    "df.groupby(['y_test']).mean()['results']"
   ]
  },
  {
   "cell_type": "markdown",
   "id": "1e857e58",
   "metadata": {},
   "source": [
    "## Model 6"
   ]
  },
  {
   "cell_type": "code",
   "execution_count": 24,
   "id": "5ed7eda3",
   "metadata": {},
   "outputs": [],
   "source": [
    "whites=data[data['ethnicity']==0].sample(4000)\n",
    "blacks=data[data['ethnicity']==1]\n",
    "asians=data[data['ethnicity']==2]\n",
    "indians=data[data['ethnicity']==3].sample(2000)\n",
    "hispanics=data[data['ethnicity']==4]"
   ]
  },
  {
   "cell_type": "code",
   "execution_count": 25,
   "id": "dff43836",
   "metadata": {},
   "outputs": [
    {
     "name": "stderr",
     "output_type": "stream",
     "text": [
      "/tmp/ipykernel_16051/3121248631.py:1: SettingWithCopyWarning: \n",
      "A value is trying to be set on a copy of a slice from a DataFrame.\n",
      "Try using .loc[row_indexer,col_indexer] = value instead\n",
      "\n",
      "See the caveats in the documentation: https://pandas.pydata.org/pandas-docs/stable/user_guide/indexing.html#returning-a-view-versus-a-copy\n",
      "  hispanics['ethnicity']=3\n"
     ]
    }
   ],
   "source": [
    "hispanics['ethnicity']=3\n"
   ]
  },
  {
   "cell_type": "code",
   "execution_count": 26,
   "id": "98cf4da3",
   "metadata": {},
   "outputs": [
    {
     "data": {
      "text/plain": [
       "<AxesSubplot:xlabel='ethnicity', ylabel='count'>"
      ]
     },
     "execution_count": 26,
     "metadata": {},
     "output_type": "execute_result"
    },
    {
     "data": {
      "image/png": "[encoded data removed]",
      "text/plain": [
       "<Figure size 432x288 with 1 Axes>"
      ]
     },
     "metadata": {
      "needs_background": "light"
     },
     "output_type": "display_data"
    }
   ],
   "source": [
    "data_new=pd.concat([whites, blacks, asians, indians, hispanics])\n",
    "sns.countplot(data=data_new,x='ethnicity')"
   ]
  },
  {
   "cell_type": "code",
   "execution_count": 27,
   "id": "24ebf2ec",
   "metadata": {},
   "outputs": [],
   "source": [
    "X = data_new['pixels'].tolist()\n",
    "X = np.reshape(X, (-1, 48, 48,1))\n",
    "X=X/255\n",
    "y = to_categorical(data_new['ethnicity'],num_classes=4)\n",
    "\n",
    "X_train, X_test, y_train, y_test = train_test_split(X, y, test_size=0.3, random_state=1)"
   ]
  },
  {
   "cell_type": "code",
   "execution_count": 44,
   "id": "25d36492",
   "metadata": {},
   "outputs": [],
   "source": [
    "from tensorflow.keras.losses import SparseCategoricalCrossentropy"
   ]
  },
  {
   "cell_type": "code",
   "execution_count": 70,
   "id": "ca73b2e3",
   "metadata": {},
   "outputs": [
    {
     "data": {
      "text/plain": [
       "array([[[[0.03137255],\n",
       "         [0.10588235],\n",
       "         [0.21960784],\n",
       "         ...,\n",
       "         [0.3137255 ],\n",
       "         [0.63529414],\n",
       "         [0.25490198]],\n",
       "\n",
       "        [[0.03137255],\n",
       "         [0.09411765],\n",
       "         [0.1882353 ],\n",
       "         ...,\n",
       "         [0.56078434],\n",
       "         [0.34901962],\n",
       "         [0.1764706 ]],\n",
       "\n",
       "        [[0.02745098],\n",
       "         [0.07450981],\n",
       "         [0.12941177],\n",
       "         ...,\n",
       "         [0.43137255],\n",
       "         [0.21960784],\n",
       "         [0.15294118]],\n",
       "\n",
       "        ...,\n",
       "\n",
       "        [[0.40784314],\n",
       "         [0.9254902 ],\n",
       "         [0.94509804],\n",
       "         ...,\n",
       "         [0.84705883],\n",
       "         [0.7764706 ],\n",
       "         [0.8666667 ]],\n",
       "\n",
       "        [[0.10980392],\n",
       "         [0.90588236],\n",
       "         [0.9607843 ],\n",
       "         ...,\n",
       "         [0.77254903],\n",
       "         [0.69803923],\n",
       "         [0.7647059 ]],\n",
       "\n",
       "        [[0.05882353],\n",
       "         [0.7137255 ],\n",
       "         [0.9647059 ],\n",
       "         ...,\n",
       "         [0.69411767],\n",
       "         [0.7882353 ],\n",
       "         [0.8352941 ]]],\n",
       "\n",
       "\n",
       "       [[[0.24313726],\n",
       "         [0.1882353 ],\n",
       "         [0.27450982],\n",
       "         ...,\n",
       "         [0.34509805],\n",
       "         [0.37254903],\n",
       "         [0.37254903]],\n",
       "\n",
       "        [[0.20784314],\n",
       "         [0.33333334],\n",
       "         [0.27450982],\n",
       "         ...,\n",
       "         [0.36078432],\n",
       "         [0.39607844],\n",
       "         [0.4       ]],\n",
       "\n",
       "        [[0.3137255 ],\n",
       "         [0.36078432],\n",
       "         [0.25490198],\n",
       "         ...,\n",
       "         [0.42352942],\n",
       "         [0.45490196],\n",
       "         [0.45882353]],\n",
       "\n",
       "        ...,\n",
       "\n",
       "        [[0.47058824],\n",
       "         [0.4745098 ],\n",
       "         [0.47058824],\n",
       "         ...,\n",
       "         [0.30980393],\n",
       "         [0.26666668],\n",
       "         [0.2784314 ]],\n",
       "\n",
       "        [[0.47058824],\n",
       "         [0.46666667],\n",
       "         [0.4627451 ],\n",
       "         ...,\n",
       "         [0.34117648],\n",
       "         [0.3019608 ],\n",
       "         [0.31764707]],\n",
       "\n",
       "        [[0.47843137],\n",
       "         [0.4627451 ],\n",
       "         [0.49019608],\n",
       "         ...,\n",
       "         [0.27058825],\n",
       "         [0.25490198],\n",
       "         [0.25882354]]],\n",
       "\n",
       "\n",
       "       [[[0.01960784],\n",
       "         [0.02352941],\n",
       "         [0.03529412],\n",
       "         ...,\n",
       "         [0.10588235],\n",
       "         [0.08627451],\n",
       "         [0.05882353]],\n",
       "\n",
       "        [[0.01176471],\n",
       "         [0.02352941],\n",
       "         [0.03137255],\n",
       "         ...,\n",
       "         [0.10588235],\n",
       "         [0.09411765],\n",
       "         [0.0627451 ]],\n",
       "\n",
       "        [[0.01176471],\n",
       "         [0.01176471],\n",
       "         [0.01568628],\n",
       "         ...,\n",
       "         [0.09411765],\n",
       "         [0.09803922],\n",
       "         [0.07058824]],\n",
       "\n",
       "        ...,\n",
       "\n",
       "        [[0.02352941],\n",
       "         [0.05490196],\n",
       "         [0.10588235],\n",
       "         ...,\n",
       "         [0.08235294],\n",
       "         [0.09019608],\n",
       "         [0.09019608]],\n",
       "\n",
       "        [[0.12941177],\n",
       "         [0.1882353 ],\n",
       "         [0.24313726],\n",
       "         ...,\n",
       "         [0.08235294],\n",
       "         [0.08627451],\n",
       "         [0.09019608]],\n",
       "\n",
       "        [[0.3019608 ],\n",
       "         [0.34901962],\n",
       "         [0.3764706 ],\n",
       "         ...,\n",
       "         [0.09019608],\n",
       "         [0.09803922],\n",
       "         [0.08627451]]],\n",
       "\n",
       "\n",
       "       ...,\n",
       "\n",
       "\n",
       "       [[[0.24313726],\n",
       "         [0.24313726],\n",
       "         [0.24705882],\n",
       "         ...,\n",
       "         [0.24705882],\n",
       "         [0.1882353 ],\n",
       "         [0.13725491]],\n",
       "\n",
       "        [[0.2509804 ],\n",
       "         [0.2509804 ],\n",
       "         [0.2509804 ],\n",
       "         ...,\n",
       "         [0.21960784],\n",
       "         [0.1882353 ],\n",
       "         [0.14117648]],\n",
       "\n",
       "        [[0.25882354],\n",
       "         [0.25490198],\n",
       "         [0.25490198],\n",
       "         ...,\n",
       "         [0.26666668],\n",
       "         [0.19607843],\n",
       "         [0.16078432]],\n",
       "\n",
       "        ...,\n",
       "\n",
       "        [[0.32156864],\n",
       "         [0.32941177],\n",
       "         [0.33333334],\n",
       "         ...,\n",
       "         [0.5803922 ],\n",
       "         [0.50980395],\n",
       "         [0.34117648]],\n",
       "\n",
       "        [[0.31764707],\n",
       "         [0.32156864],\n",
       "         [0.3254902 ],\n",
       "         ...,\n",
       "         [0.5568628 ],\n",
       "         [0.43529412],\n",
       "         [0.30588236]],\n",
       "\n",
       "        [[0.32156864],\n",
       "         [0.3254902 ],\n",
       "         [0.32941177],\n",
       "         ...,\n",
       "         [0.5058824 ],\n",
       "         [0.39607844],\n",
       "         [0.34117648]]],\n",
       "\n",
       "\n",
       "       [[[0.06666667],\n",
       "         [0.05882353],\n",
       "         [0.07058824],\n",
       "         ...,\n",
       "         [0.05882353],\n",
       "         [0.06666667],\n",
       "         [0.0627451 ]],\n",
       "\n",
       "        [[0.06666667],\n",
       "         [0.05882353],\n",
       "         [0.07058824],\n",
       "         ...,\n",
       "         [0.04705882],\n",
       "         [0.0627451 ],\n",
       "         [0.06666667]],\n",
       "\n",
       "        [[0.06666667],\n",
       "         [0.04313726],\n",
       "         [0.06666667],\n",
       "         ...,\n",
       "         [0.05490196],\n",
       "         [0.0627451 ],\n",
       "         [0.07058824]],\n",
       "\n",
       "        ...,\n",
       "\n",
       "        [[0.0627451 ],\n",
       "         [0.09411765],\n",
       "         [0.11764706],\n",
       "         ...,\n",
       "         [0.05490196],\n",
       "         [0.05490196],\n",
       "         [0.05490196]],\n",
       "\n",
       "        [[0.11764706],\n",
       "         [0.12941177],\n",
       "         [0.12941177],\n",
       "         ...,\n",
       "         [0.05490196],\n",
       "         [0.05882353],\n",
       "         [0.05490196]],\n",
       "\n",
       "        [[0.1764706 ],\n",
       "         [0.15294118],\n",
       "         [0.14509805],\n",
       "         ...,\n",
       "         [0.06666667],\n",
       "         [0.0627451 ],\n",
       "         [0.05882353]]],\n",
       "\n",
       "\n",
       "       [[[0.62352943],\n",
       "         [0.7058824 ],\n",
       "         [0.7137255 ],\n",
       "         ...,\n",
       "         [0.72156864],\n",
       "         [0.84313726],\n",
       "         [0.9843137 ]],\n",
       "\n",
       "        [[0.6666667 ],\n",
       "         [0.7058824 ],\n",
       "         [0.7019608 ],\n",
       "         ...,\n",
       "         [0.7529412 ],\n",
       "         [0.8509804 ],\n",
       "         [0.99215686]],\n",
       "\n",
       "        [[0.6784314 ],\n",
       "         [0.69803923],\n",
       "         [0.69411767],\n",
       "         ...,\n",
       "         [0.73333335],\n",
       "         [0.8352941 ],\n",
       "         [0.99215686]],\n",
       "\n",
       "        ...,\n",
       "\n",
       "        [[0.35686275],\n",
       "         [0.34117648],\n",
       "         [0.3372549 ],\n",
       "         ...,\n",
       "         [0.49411765],\n",
       "         [0.5882353 ],\n",
       "         [0.6784314 ]],\n",
       "\n",
       "        [[0.3529412 ],\n",
       "         [0.34509805],\n",
       "         [0.34509805],\n",
       "         ...,\n",
       "         [0.48235294],\n",
       "         [0.5803922 ],\n",
       "         [0.6313726 ]],\n",
       "\n",
       "        [[0.36078432],\n",
       "         [0.34901962],\n",
       "         [0.34901962],\n",
       "         ...,\n",
       "         [0.4392157 ],\n",
       "         [0.54901963],\n",
       "         [0.5764706 ]]]], dtype=float32)"
      ]
     },
     "execution_count": 70,
     "metadata": {},
     "output_type": "execute_result"
    }
   ],
   "source": [
    "X_train"
   ]
  },
  {
   "cell_type": "code",
   "execution_count": 28,
   "id": "f82c4e54",
   "metadata": {},
   "outputs": [],
   "source": [
    "def initialize_model():\n",
    "    \n",
    "    model = Sequential()\n",
    "    model.add(layers.Conv2D(32, (3,3), activation='relu', input_shape=(48,48,1)))\n",
    "    model.add(layers.MaxPool2D(pool_size=(2,2)))\n",
    "\n",
    "    model.add(layers.Conv2D(64, (3,3), activation='relu'))\n",
    "    model.add(layers.MaxPool2D(pool_size=(2,2)))         \n",
    "\n",
    "    model.add(layers.Flatten())\n",
    "\n",
    "    \n",
    "    model.add(layers.Dense(64, activation='relu'))\n",
    "    model.add(layers.Dropout(0.5))    \n",
    "    model.add(layers.Dense(4, activation='softmax'))\n",
    "    \n",
    "    model.compile(loss='categorical_crossentropy',\n",
    "                  optimizer='rmsprop',\n",
    "                  metrics=['accuracy','Precision','Recall'])\n",
    "    \n",
    "    return model"
   ]
  },
  {
   "cell_type": "code",
   "execution_count": 29,
   "id": "57927ec1",
   "metadata": {},
   "outputs": [
    {
     "name": "stdout",
     "output_type": "stream",
     "text": [
      "Epoch 1/200\n",
      "137/137 [==============================] - 12s 73ms/step - loss: 1.2328 - accuracy: 0.4485 - precision: 0.6784 - recall: 0.1259 - val_loss: 0.9850 - val_accuracy: 0.6077 - val_precision: 0.8092 - val_recall: 0.3307\n",
      "Epoch 2/200\n",
      "137/137 [==============================] - 9s 65ms/step - loss: 0.9396 - accuracy: 0.6260 - precision: 0.7539 - recall: 0.4318 - val_loss: 0.8675 - val_accuracy: 0.6369 - val_precision: 0.7198 - val_recall: 0.5132\n",
      "Epoch 3/200\n",
      "137/137 [==============================] - 9s 68ms/step - loss: 0.8484 - accuracy: 0.6790 - precision: 0.7733 - recall: 0.5306 - val_loss: 0.7464 - val_accuracy: 0.7172 - val_precision: 0.8091 - val_recall: 0.5976\n",
      "Epoch 4/200\n",
      "137/137 [==============================] - 9s 65ms/step - loss: 0.7865 - accuracy: 0.7017 - precision: 0.7870 - recall: 0.5763 - val_loss: 0.7284 - val_accuracy: 0.7153 - val_precision: 0.7982 - val_recall: 0.6118\n",
      "Epoch 5/200\n",
      "137/137 [==============================] - 9s 66ms/step - loss: 0.7436 - accuracy: 0.7185 - precision: 0.7974 - recall: 0.6125 - val_loss: 0.7030 - val_accuracy: 0.7308 - val_precision: 0.8154 - val_recall: 0.6227\n",
      "Epoch 6/200\n",
      "137/137 [==============================] - 9s 66ms/step - loss: 0.7017 - accuracy: 0.7379 - precision: 0.8060 - recall: 0.6451 - val_loss: 0.6728 - val_accuracy: 0.7418 - val_precision: 0.7997 - val_recall: 0.6665\n",
      "Epoch 7/200\n",
      "137/137 [==============================] - 9s 67ms/step - loss: 0.6733 - accuracy: 0.7484 - precision: 0.8143 - recall: 0.6580 - val_loss: 0.6363 - val_accuracy: 0.7550 - val_precision: 0.8205 - val_recall: 0.6861\n",
      "Epoch 8/200\n",
      "137/137 [==============================] - 9s 66ms/step - loss: 0.6481 - accuracy: 0.7624 - precision: 0.8254 - recall: 0.6779 - val_loss: 0.6718 - val_accuracy: 0.7432 - val_precision: 0.7850 - val_recall: 0.6911\n",
      "Epoch 9/200\n",
      "137/137 [==============================] - 9s 68ms/step - loss: 0.6117 - accuracy: 0.7718 - precision: 0.8321 - recall: 0.6997 - val_loss: 0.6407 - val_accuracy: 0.7505 - val_precision: 0.7934 - val_recall: 0.7112\n",
      "Epoch 10/200\n",
      "137/137 [==============================] - 9s 66ms/step - loss: 0.5894 - accuracy: 0.7864 - precision: 0.8421 - recall: 0.7168 - val_loss: 0.6012 - val_accuracy: 0.7641 - val_precision: 0.8056 - val_recall: 0.7185\n",
      "Epoch 11/200\n",
      "137/137 [==============================] - 9s 65ms/step - loss: 0.5597 - accuracy: 0.7920 - precision: 0.8433 - recall: 0.7260 - val_loss: 0.6213 - val_accuracy: 0.7673 - val_precision: 0.7934 - val_recall: 0.7304\n",
      "Epoch 12/200\n",
      "137/137 [==============================] - 9s 66ms/step - loss: 0.5428 - accuracy: 0.8005 - precision: 0.8524 - recall: 0.7382 - val_loss: 0.5910 - val_accuracy: 0.7838 - val_precision: 0.8104 - val_recall: 0.7409\n",
      "Epoch 13/200\n",
      "137/137 [==============================] - 9s 67ms/step - loss: 0.5169 - accuracy: 0.8099 - precision: 0.8555 - recall: 0.7551 - val_loss: 0.5889 - val_accuracy: 0.7856 - val_precision: 0.8212 - val_recall: 0.7208\n",
      "Epoch 14/200\n",
      "137/137 [==============================] - 9s 66ms/step - loss: 0.4966 - accuracy: 0.8173 - precision: 0.8605 - recall: 0.7620 - val_loss: 0.6051 - val_accuracy: 0.7737 - val_precision: 0.8095 - val_recall: 0.7445\n",
      "Epoch 15/200\n",
      "137/137 [==============================] - 9s 66ms/step - loss: 0.4760 - accuracy: 0.8298 - precision: 0.8668 - recall: 0.7831 - val_loss: 0.6168 - val_accuracy: 0.7797 - val_precision: 0.8047 - val_recall: 0.7518\n",
      "Epoch 16/200\n",
      "137/137 [==============================] - 9s 68ms/step - loss: 0.4544 - accuracy: 0.8343 - precision: 0.8717 - recall: 0.7894 - val_loss: 0.5902 - val_accuracy: 0.7838 - val_precision: 0.8115 - val_recall: 0.7482\n",
      "Epoch 17/200\n",
      "137/137 [==============================] - 9s 68ms/step - loss: 0.4320 - accuracy: 0.8445 - precision: 0.8784 - recall: 0.7993 - val_loss: 0.5891 - val_accuracy: 0.7783 - val_precision: 0.8082 - val_recall: 0.7363\n",
      "Epoch 18/200\n",
      "137/137 [==============================] - ETA: 0s - loss: 0.4205 - accuracy: 0.8453 - precision: 0.8816 - recall: 0.8057Restoring model weights from the end of the best epoch: 13.\n",
      "137/137 [==============================] - 9s 66ms/step - loss: 0.4205 - accuracy: 0.8453 - precision: 0.8816 - recall: 0.8057 - val_loss: 0.6403 - val_accuracy: 0.7760 - val_precision: 0.8030 - val_recall: 0.7477\n",
      "Epoch 18: early stopping\n"
     ]
    }
   ],
   "source": [
    "model6 = initialize_model()\n",
    "\n",
    "es = EarlyStopping(monitor = 'val_accuracy', \n",
    "                   mode = 'max', \n",
    "                   patience = 5, \n",
    "                   verbose = 1, \n",
    "                   restore_best_weights = True)\n",
    "\n",
    "history6 = model6.fit(X_train,y_train,\n",
    "                    validation_split=0.2,\n",
    "                    epochs=200, \n",
    "                    batch_size=64,\n",
    "                    callbacks=[es])"
   ]
  },
  {
   "cell_type": "code",
   "execution_count": 30,
   "id": "3fdfeb35",
   "metadata": {},
   "outputs": [
    {
     "name": "stdout",
     "output_type": "stream",
     "text": [
      "147/147 [==============================] - 2s 14ms/step - loss: 0.6006 - accuracy: 0.7796 - precision: 0.8242 - recall: 0.7206\n"
     ]
    },
    {
     "data": {
      "text/plain": [
       "[0.6005611419677734, 0.779599666595459, 0.8241597414016724, 0.7206133008003235]"
      ]
     },
     "execution_count": 30,
     "metadata": {},
     "output_type": "execute_result"
    }
   ],
   "source": [
    "model6.evaluate(X_test,y_test)"
   ]
  },
  {
   "cell_type": "code",
   "execution_count": 21,
   "id": "4ad6ec00",
   "metadata": {},
   "outputs": [
    {
     "ename": "NameError",
     "evalue": "name 'plot_loss_accuracy' is not defined",
     "output_type": "error",
     "traceback": [
      "\u001b[0;31m---------------------------------------------------------------------------\u001b[0m",
      "\u001b[0;31mNameError\u001b[0m                                 Traceback (most recent call last)",
      "Input \u001b[0;32mIn [21]\u001b[0m, in \u001b[0;36m<cell line: 1>\u001b[0;34m()\u001b[0m\n\u001b[0;32m----> 1\u001b[0m \u001b[43mplot_loss_accuracy\u001b[49m(history6, title\u001b[38;5;241m=\u001b[39m\u001b[38;5;124m\"\u001b[39m\u001b[38;5;124mEntraînement du modèle retenu pour les ethnies\u001b[39m\u001b[38;5;124m\"\u001b[39m)\n",
      "\u001b[0;31mNameError\u001b[0m: name 'plot_loss_accuracy' is not defined"
     ]
    }
   ],
   "source": [
    "plot_loss_accuracy(history6, title=\"Entraînement du modèle retenu pour les ethnies\")"
   ]
  },
  {
   "cell_type": "code",
   "execution_count": null,
   "id": "7475fb6c",
   "metadata": {},
   "outputs": [],
   "source": []
  },
  {
   "cell_type": "code",
   "execution_count": 22,
   "id": "83b81e2f",
   "metadata": {},
   "outputs": [],
   "source": [
    "import joblib"
   ]
  },
  {
   "cell_type": "code",
   "execution_count": 31,
   "id": "fe32cbf0",
   "metadata": {},
   "outputs": [
    {
     "name": "stdout",
     "output_type": "stream",
     "text": [
      "INFO:tensorflow:Assets written to: ram://b4dd187f-e24c-4cf8-9eb3-ba2a59d5baf0/assets\n"
     ]
    },
    {
     "data": {
      "text/plain": [
       "['model_ethnicity_v3.joblib']"
      ]
     },
     "execution_count": 31,
     "metadata": {},
     "output_type": "execute_result"
    }
   ],
   "source": [
    "joblib.dump(model6, \"model_ethnicity_v3.joblib\")"
   ]
  },
  {
   "cell_type": "code",
   "execution_count": 69,
   "id": "708fa591",
   "metadata": {},
   "outputs": [
    {
     "name": "stdout",
     "output_type": "stream",
     "text": [
      " age_gender.csv:Zone.Identifier\r\n",
      " images\r\n",
      " Javier_age.ipynb\r\n",
      " model_ethnicity_v2.joblib\r\n",
      " new_data.csv:Zone.Identifier\r\n",
      " Paul_age.ipynb\r\n",
      " Paul_Gender.ipynb\r\n",
      " paul.jfif\r\n",
      " paul.jfif:Zone.Identifier\r\n",
      " Pierre-Ethnicity.ipynb\r\n",
      "'Pierre-Ethnicity simple model.ipynb'\r\n",
      "'Pierre - Original dataset transformation.ipynb'\r\n"
     ]
    }
   ],
   "source": [
    "!ls"
   ]
  },
  {
   "cell_type": "markdown",
   "id": "d3a00752",
   "metadata": {},
   "source": [
    "## Testing gender"
   ]
  },
  {
   "cell_type": "code",
   "execution_count": 48,
   "id": "5815641c",
   "metadata": {},
   "outputs": [],
   "source": [
    "X_gender = data['pixels'].tolist()\n",
    "X_gender = np.reshape(X, (-1, 48, 48,1))\n",
    "\n",
    "y_gender = data['gender']\n",
    "\n",
    "X_train_gender, X_test_gender, y_train_gender, y_test_gender = train_test_split(X_gender, y_gender, test_size=0.3, random_state=1)"
   ]
  },
  {
   "cell_type": "code",
   "execution_count": 64,
   "id": "096ed5e7",
   "metadata": {},
   "outputs": [
    {
     "data": {
      "text/plain": [
       "4535     1\n",
       "8027     1\n",
       "22626    1\n",
       "1771     1\n",
       "14476    1\n",
       "        ..\n",
       "10955    1\n",
       "17289    0\n",
       "5192     1\n",
       "12172    0\n",
       "235      0\n",
       "Name: gender, Length: 16593, dtype: int64"
      ]
     },
     "execution_count": 64,
     "metadata": {},
     "output_type": "execute_result"
    }
   ],
   "source": [
    "y_train_gender"
   ]
  },
  {
   "cell_type": "code",
   "execution_count": 61,
   "id": "08ec0040",
   "metadata": {},
   "outputs": [],
   "source": [
    "def initialize_model_gender():\n",
    "    \n",
    "    model = Sequential()\n",
    "    model.add(layers.Conv2D(32, (3,3), activation='relu', input_shape=(48,48,1)))\n",
    "    model.add(layers.BatchNormalization())\n",
    "    model.add(layers.MaxPool2D(pool_size=(2,2)))\n",
    "\n",
    "    model.add(layers.Conv2D(64, (3,3), activation='relu'))\n",
    "    model.add(layers.MaxPool2D(pool_size=(2,2)))         \n",
    "\n",
    "    model.add(layers.Flatten())\n",
    "\n",
    "    \n",
    "    model.add(layers.Dense(64, activation='relu'))\n",
    "    model.add(layers.Dropout(0.5))    \n",
    "    model.add(layers.Dense(1, activation='sigmoid'))\n",
    "    \n",
    "    model.compile(loss='binary_crossentropy',\n",
    "                  optimizer='sgd',\n",
    "                  metrics=['accuracy','Precision','Recall'])\n",
    "    \n",
    "    return model"
   ]
  },
  {
   "cell_type": "code",
   "execution_count": 62,
   "id": "ab34590f",
   "metadata": {},
   "outputs": [],
   "source": [
    "X_train_gender=X_train_gender/255"
   ]
  },
  {
   "cell_type": "code",
   "execution_count": 65,
   "id": "f4743388",
   "metadata": {},
   "outputs": [
    {
     "name": "stdout",
     "output_type": "stream",
     "text": [
      "Epoch 1/200\n",
      "208/208 [==============================] - 18s 81ms/step - loss: 0.6927 - accuracy: 0.5195 - precision: 0.4883 - recall: 0.0626 - val_loss: 0.6924 - val_accuracy: 0.5221 - val_precision: 0.0000e+00 - val_recall: 0.0000e+00\n",
      "Epoch 2/200\n",
      "208/208 [==============================] - 17s 81ms/step - loss: 0.6924 - accuracy: 0.5209 - precision: 0.0000e+00 - recall: 0.0000e+00 - val_loss: 0.6922 - val_accuracy: 0.5221 - val_precision: 0.0000e+00 - val_recall: 0.0000e+00\n",
      "Epoch 3/200\n",
      "208/208 [==============================] - 17s 82ms/step - loss: 0.6923 - accuracy: 0.5209 - precision: 0.0000e+00 - recall: 0.0000e+00 - val_loss: 0.6922 - val_accuracy: 0.5221 - val_precision: 0.0000e+00 - val_recall: 0.0000e+00\n",
      "Epoch 4/200\n",
      "208/208 [==============================] - 19s 90ms/step - loss: 0.6923 - accuracy: 0.5209 - precision: 0.0000e+00 - recall: 0.0000e+00 - val_loss: 0.6922 - val_accuracy: 0.5221 - val_precision: 0.0000e+00 - val_recall: 0.0000e+00\n",
      "Epoch 5/200\n",
      "208/208 [==============================] - 20s 97ms/step - loss: 0.6923 - accuracy: 0.5209 - precision: 0.0000e+00 - recall: 0.0000e+00 - val_loss: 0.6922 - val_accuracy: 0.5221 - val_precision: 0.0000e+00 - val_recall: 0.0000e+00\n",
      "Epoch 6/200\n",
      "208/208 [==============================] - ETA: 0s - loss: 0.6923 - accuracy: 0.5209 - precision: 0.0000e+00 - recall: 0.0000e+00Restoring model weights from the end of the best epoch: 1.\n",
      "208/208 [==============================] - 18s 85ms/step - loss: 0.6923 - accuracy: 0.5209 - precision: 0.0000e+00 - recall: 0.0000e+00 - val_loss: 0.6922 - val_accuracy: 0.5221 - val_precision: 0.0000e+00 - val_recall: 0.0000e+00\n",
      "Epoch 6: early stopping\n"
     ]
    }
   ],
   "source": [
    "model_gender = initialize_model_gender()\n",
    "\n",
    "es = EarlyStopping(monitor = 'val_accuracy', \n",
    "                   mode = 'max', \n",
    "                   patience = 5, \n",
    "                   verbose = 1, \n",
    "                   restore_best_weights = True)\n",
    "\n",
    "history_gender = model_gender.fit(X_train_gender,y_train_gender,\n",
    "                    validation_split=0.2,\n",
    "                    epochs=200, \n",
    "                    batch_size=64,\n",
    "                    callbacks=[es])"
   ]
  },
  {
   "cell_type": "code",
   "execution_count": null,
   "id": "7db1e602",
   "metadata": {},
   "outputs": [],
   "source": []
  },
  {
   "cell_type": "code",
   "execution_count": null,
   "id": "95ed9fcb",
   "metadata": {},
   "outputs": [],
   "source": []
  },
  {
   "cell_type": "markdown",
   "id": "1f7fcb80",
   "metadata": {},
   "source": [
    "# Miroring image"
   ]
  },
  {
   "cell_type": "code",
   "execution_count": 222,
   "id": "c25a1d5a",
   "metadata": {},
   "outputs": [],
   "source": [
    "from PIL import Image, ImageOps\n",
    "import matplotlib.pyplot as plt"
   ]
  },
  {
   "cell_type": "code",
   "execution_count": 217,
   "id": "0e9864f4",
   "metadata": {},
   "outputs": [
    {
     "data": {
      "text/plain": [
       "(48, 48)"
      ]
     },
     "execution_count": 217,
     "metadata": {},
     "output_type": "execute_result"
    }
   ],
   "source": [
    "np.array(data['pixels'][0]).reshape((48,48))"
   ]
  },
  {
   "cell_type": "code",
   "execution_count": 215,
   "id": "c3ac40da",
   "metadata": {},
   "outputs": [
    {
     "data": {
      "text/plain": [
       "(1, 48, 48, 1)"
      ]
     },
     "execution_count": 215,
     "metadata": {},
     "output_type": "execute_result"
    }
   ],
   "source": [
    "np.reshape(data['pixels'][0].tolist(), (-1, 48, 48,1)).shape"
   ]
  },
  {
   "cell_type": "code",
   "execution_count": 218,
   "id": "637702f0",
   "metadata": {},
   "outputs": [
    {
     "data": {
      "text/plain": [
       "<matplotlib.image.AxesImage at 0x7f06bb8b1e80>"
      ]
     },
     "execution_count": 218,
     "metadata": {},
     "output_type": "execute_result"
    },
    {
     "data": {
      "image/png": "[encoded data removed]",
      "text/plain": [
       "<Figure size 432x288 with 1 Axes>"
      ]
     },
     "metadata": {
      "needs_background": "light"
     },
     "output_type": "display_data"
    }
   ],
   "source": [
    "plt.imshow(np.array(data['pixels'][0]).reshape((48,48)),cmap='gray')"
   ]
  },
  {
   "cell_type": "code",
   "execution_count": 235,
   "id": "73b896be",
   "metadata": {},
   "outputs": [
    {
     "data": {
      "image/png": "[encoded data removed]",
      "text/plain": [
       "<PIL.Image.Image image mode=L size=48x48 at 0x7F06A5A258E0>"
      ]
     },
     "execution_count": 235,
     "metadata": {},
     "output_type": "execute_result"
    }
   ],
   "source": [
    "array=np.uint8(data['pixels'][0].reshape((48,48)))\n",
    "img=Image.fromarray(array, 'L')\n",
    "img"
   ]
  },
  {
   "cell_type": "code",
   "execution_count": 233,
   "id": "14de293b",
   "metadata": {},
   "outputs": [
    {
     "data": {
      "image/png": "[encoded data removed]",
      "text/plain": [
       "<PIL.Image.Image image mode=L size=48x48 at 0x7F06BB863D00>"
      ]
     },
     "execution_count": 233,
     "metadata": {},
     "output_type": "execute_result"
    }
   ],
   "source": [
    "img_mirror=ImageOps.mirror(img)\n",
    "img_mirror"
   ]
  },
  {
   "cell_type": "code",
   "execution_count": 234,
   "id": "c98a2a51",
   "metadata": {},
   "outputs": [
    {
     "data": {
      "text/plain": [
       "array([ 53.,  99., 118., ..., 142., 135., 115.], dtype=float32)"
      ]
     },
     "execution_count": 234,
     "metadata": {},
     "output_type": "execute_result"
    }
   ],
   "source": [
    "img_mirror = img_mirror.getdata()\n",
    "image_array = np.array(img_mirror, dtype=np.float32)\n",
    "image_array"
   ]
  },
  {
   "cell_type": "code",
   "execution_count": 228,
   "id": "f0a716c4",
   "metadata": {},
   "outputs": [
    {
     "data": {
      "text/plain": [
       "array([129., 128., 128., ..., 146., 146., 146.], dtype=float32)"
      ]
     },
     "execution_count": 228,
     "metadata": {},
     "output_type": "execute_result"
    }
   ],
   "source": [
    "data['pixels'][0]"
   ]
  },
  {
   "cell_type": "code",
   "execution_count": 237,
   "id": "0b0b85fb",
   "metadata": {},
   "outputs": [],
   "source": [
    "def pixel_mirroring(pixel):\n",
    "    array=np.uint8(pixel.reshape((48,48)))\n",
    "    img=Image.fromarray(array, 'L')\n",
    "    img=ImageOps.mirror(img)\n",
    "    img=img.getdata()\n",
    "    pixel_mirror=np.array(img, dtype=np.float32)\n",
    "    return pixel_mirror\n",
    "        "
   ]
  },
  {
   "cell_type": "code",
   "execution_count": 243,
   "id": "b7bbca9a",
   "metadata": {},
   "outputs": [
    {
     "data": {
      "image/png": "[encoded data removed]",
      "text/plain": [
       "<PIL.Image.Image image mode=L size=48x48 at 0x7F06BB86A670>"
      ]
     },
     "execution_count": 243,
     "metadata": {},
     "output_type": "execute_result"
    }
   ],
   "source": [
    "Image.fromarray(np.uint8(pixel_mirroring(data['pixels'][0]).reshape((48,48))), 'L')"
   ]
  },
  {
   "cell_type": "code",
   "execution_count": 244,
   "id": "5b06c979",
   "metadata": {},
   "outputs": [],
   "source": [
    "hispanics=data[data['ethnicity']==4]"
   ]
  },
  {
   "cell_type": "code",
   "execution_count": 247,
   "id": "7f2b14a1",
   "metadata": {},
   "outputs": [
    {
     "data": {
      "text/html": [
       "<div>\n",
       "<style scoped>\n",
       "    .dataframe tbody tr th:only-of-type {\n",
       "        vertical-align: middle;\n",
       "    }\n",
       "\n",
       "    .dataframe tbody tr th {\n",
       "        vertical-align: top;\n",
       "    }\n",
       "\n",
       "    .dataframe thead th {\n",
       "        text-align: right;\n",
       "    }\n",
       "</style>\n",
       "<table border=\"1\" class=\"dataframe\">\n",
       "  <thead>\n",
       "    <tr style=\"text-align: right;\">\n",
       "      <th></th>\n",
       "      <th>age</th>\n",
       "      <th>ethnicity</th>\n",
       "      <th>gender</th>\n",
       "      <th>img_name</th>\n",
       "      <th>pixels</th>\n",
       "    </tr>\n",
       "  </thead>\n",
       "  <tbody>\n",
       "    <tr>\n",
       "      <th>161</th>\n",
       "      <td>1</td>\n",
       "      <td>4</td>\n",
       "      <td>0</td>\n",
       "      <td>20161221192604164.jpg.chip.jpg</td>\n",
       "      <td>[180.0, 160.0, 56.0, 73.0, 76.0, 73.0, 80.0, 8...</td>\n",
       "    </tr>\n",
       "    <tr>\n",
       "      <th>162</th>\n",
       "      <td>1</td>\n",
       "      <td>4</td>\n",
       "      <td>0</td>\n",
       "      <td>20161221192855037.jpg.chip.jpg</td>\n",
       "      <td>[116.0, 120.0, 127.0, 137.0, 151.0, 158.0, 160...</td>\n",
       "    </tr>\n",
       "    <tr>\n",
       "      <th>163</th>\n",
       "      <td>1</td>\n",
       "      <td>4</td>\n",
       "      <td>0</td>\n",
       "      <td>20161221193016140.jpg.chip.jpg</td>\n",
       "      <td>[150.0, 87.0, 78.0, 83.0, 41.0, 12.0, 11.0, 20...</td>\n",
       "    </tr>\n",
       "    <tr>\n",
       "      <th>164</th>\n",
       "      <td>1</td>\n",
       "      <td>4</td>\n",
       "      <td>0</td>\n",
       "      <td>20161221193041157.jpg.chip.jpg</td>\n",
       "      <td>[186.0, 149.0, 73.0, 57.0, 67.0, 73.0, 67.0, 5...</td>\n",
       "    </tr>\n",
       "    <tr>\n",
       "      <th>165</th>\n",
       "      <td>1</td>\n",
       "      <td>4</td>\n",
       "      <td>0</td>\n",
       "      <td>20161221193434166.jpg.chip.jpg</td>\n",
       "      <td>[209.0, 210.0, 210.0, 207.0, 170.0, 56.0, 117....</td>\n",
       "    </tr>\n",
       "  </tbody>\n",
       "</table>\n",
       "</div>"
      ],
      "text/plain": [
       "     age  ethnicity  gender                        img_name  \\\n",
       "161    1          4       0  20161221192604164.jpg.chip.jpg   \n",
       "162    1          4       0  20161221192855037.jpg.chip.jpg   \n",
       "163    1          4       0  20161221193016140.jpg.chip.jpg   \n",
       "164    1          4       0  20161221193041157.jpg.chip.jpg   \n",
       "165    1          4       0  20161221193434166.jpg.chip.jpg   \n",
       "\n",
       "                                                pixels  \n",
       "161  [180.0, 160.0, 56.0, 73.0, 76.0, 73.0, 80.0, 8...  \n",
       "162  [116.0, 120.0, 127.0, 137.0, 151.0, 158.0, 160...  \n",
       "163  [150.0, 87.0, 78.0, 83.0, 41.0, 12.0, 11.0, 20...  \n",
       "164  [186.0, 149.0, 73.0, 57.0, 67.0, 73.0, 67.0, 5...  \n",
       "165  [209.0, 210.0, 210.0, 207.0, 170.0, 56.0, 117....  "
      ]
     },
     "execution_count": 247,
     "metadata": {},
     "output_type": "execute_result"
    }
   ],
   "source": [
    "hispanics_mirrored=hispanics.copy()\n",
    "hispanics_mirrored['pixels']=hispanics_mirrored['pixels'].apply(pixel_mirroring)\n",
    "hispanics_mirrored.head()"
   ]
  },
  {
   "cell_type": "code",
   "execution_count": 248,
   "id": "050876ed",
   "metadata": {},
   "outputs": [
    {
     "data": {
      "image/png": "[encoded data removed]",
      "text/plain": [
       "<PIL.Image.Image image mode=L size=48x48 at 0x7F069D242C10>"
      ]
     },
     "execution_count": 248,
     "metadata": {},
     "output_type": "execute_result"
    }
   ],
   "source": [
    "Image.fromarray(np.uint8(pixel_mirroring(hispanics_mirrored['pixels'][161]).reshape((48,48))), 'L')"
   ]
  },
  {
   "cell_type": "code",
   "execution_count": 249,
   "id": "bc4ff10b",
   "metadata": {},
   "outputs": [
    {
     "data": {
      "image/png": "[encoded data removed]",
      "text/plain": [
       "<PIL.Image.Image image mode=L size=48x48 at 0x7F069CF22CD0>"
      ]
     },
     "execution_count": 249,
     "metadata": {},
     "output_type": "execute_result"
    }
   ],
   "source": [
    "Image.fromarray(np.uint8(pixel_mirroring(hispanics['pixels'][161]).reshape((48,48))), 'L')"
   ]
  }
 ],
 "metadata": {
  "kernelspec": {
   "display_name": "Python 3 (ipykernel)",
   "language": "python",
   "name": "python3"
  },
  "language_info": {
   "codemirror_mode": {
    "name": "ipython",
    "version": 3
   },
   "file_extension": ".py",
   "mimetype": "text/x-python",
   "name": "python",
   "nbconvert_exporter": "python",
   "pygments_lexer": "ipython3",
   "version": "3.8.12"
  },
  "toc": {
   "base_numbering": 1,
   "nav_menu": {},
   "number_sections": true,
   "sideBar": true,
   "skip_h1_title": false,
   "title_cell": "Table of Contents",
   "title_sidebar": "Contents",
   "toc_cell": false,
   "toc_position": {},
   "toc_section_display": true,
   "toc_window_display": false
  }
 },
 "nbformat": 4,
 "nbformat_minor": 5
}
