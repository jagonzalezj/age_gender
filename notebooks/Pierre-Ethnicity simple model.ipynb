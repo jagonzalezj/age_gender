{
 "cells": [
  {
   "cell_type": "code",
   "execution_count": 16,
   "id": "3c28aaaa",
   "metadata": {},
   "outputs": [],
   "source": [
    "import requests\n",
    "import numpy as np\n",
    "import pandas as pd\n",
    "import seaborn as sns\n",
    "import matplotlib.pyplot as plt\n",
    "import io\n",
    "import csv\n",
    "from PIL import Image, ImageOps"
   ]
  },
  {
   "cell_type": "code",
   "execution_count": 17,
   "id": "12834277",
   "metadata": {},
   "outputs": [],
   "source": [
    "data_path = '../raw_data/age_gender.csv'"
   ]
  },
  {
   "cell_type": "code",
   "execution_count": 18,
   "id": "2cdc2231",
   "metadata": {},
   "outputs": [],
   "source": [
    "data = pd.read_csv(data_path)"
   ]
  },
  {
   "cell_type": "code",
   "execution_count": 19,
   "id": "33d6ecb4",
   "metadata": {},
   "outputs": [
    {
     "data": {
      "text/plain": [
       "Index(['age', 'ethnicity', 'gender', 'img_name', 'pixels'], dtype='object')"
      ]
     },
     "execution_count": 19,
     "metadata": {},
     "output_type": "execute_result"
    }
   ],
   "source": [
    "data.columns"
   ]
  },
  {
   "cell_type": "code",
   "execution_count": 20,
   "id": "2407235e",
   "metadata": {},
   "outputs": [],
   "source": [
    "data['pixels']=data['pixels'].apply(lambda x:  np.array(x.split(), dtype=\"float32\"))"
   ]
  },
  {
   "cell_type": "code",
   "execution_count": 21,
   "id": "acfab236",
   "metadata": {},
   "outputs": [],
   "source": [
    "def pixel_mirroring(pixel):\n",
    "    array=np.uint8(pixel.reshape((48,48)))\n",
    "    img=Image.fromarray(array, 'L')\n",
    "    img=ImageOps.mirror(img)\n",
    "    img=img.getdata()\n",
    "    pixel_mirror=np.array(img, dtype=np.float32)\n",
    "    return pixel_mirror"
   ]
  },
  {
   "cell_type": "markdown",
   "id": "b2d25ffb",
   "metadata": {},
   "source": [
    "# Modeling"
   ]
  },
  {
   "cell_type": "code",
   "execution_count": 22,
   "id": "d0717175",
   "metadata": {},
   "outputs": [],
   "source": [
    "from tensorflow.keras import Sequential, layers, models\n",
    "from tensorflow.keras import optimizers\n",
    "from tensorflow.keras.callbacks import EarlyStopping\n",
    "from tensorflow.keras.layers.experimental.preprocessing import Rescaling\n",
    "from tensorflow.keras.utils import to_categorical\n",
    "from sklearn.model_selection import train_test_split\n",
    "from tensorflow.keras import optimizers\n",
    "from tensorflow.keras.optimizers.schedules import ExponentialDecay"
   ]
  },
  {
   "cell_type": "code",
   "execution_count": 23,
   "id": "588ea64b",
   "metadata": {},
   "outputs": [],
   "source": [
    "X = data['pixels'].tolist()\n",
    "X = np.reshape(X, (-1, 48, 48,1))\n",
    "\n",
    "y = to_categorical(data['ethnicity'],num_classes=5)\n",
    "\n",
    "X_train, X_test, y_train, y_test = train_test_split(X, y, test_size=0.3, random_state=1)"
   ]
  },
  {
   "cell_type": "code",
   "execution_count": 24,
   "id": "870f6ee8",
   "metadata": {},
   "outputs": [
    {
     "data": {
      "text/plain": [
       "(23705, 48, 48, 1)"
      ]
     },
     "execution_count": 24,
     "metadata": {},
     "output_type": "execute_result"
    }
   ],
   "source": [
    "np.array(data['pixels'].tolist()).reshape((-1, 48, 48,1)).shape"
   ]
  },
  {
   "cell_type": "code",
   "execution_count": 25,
   "id": "d1e71936",
   "metadata": {},
   "outputs": [
    {
     "data": {
      "text/plain": [
       "(16593, 48, 48, 1)"
      ]
     },
     "execution_count": 25,
     "metadata": {},
     "output_type": "execute_result"
    }
   ],
   "source": [
    "X_train.shape"
   ]
  },
  {
   "cell_type": "code",
   "execution_count": 26,
   "id": "96a1c9d6",
   "metadata": {},
   "outputs": [],
   "source": [
    "data_train, data_test, y_train, y_test = train_test_split(data, y, test_size=0.3, random_state=1)\n",
    "data_train, data_validation, y_train, y_validation = train_test_split(data_train, y_train, test_size=0.2, random_state=1)"
   ]
  },
  {
   "cell_type": "code",
   "execution_count": 27,
   "id": "aaebbc68",
   "metadata": {},
   "outputs": [
    {
     "data": {
      "text/plain": [
       "<AxesSubplot:xlabel='ethnicity', ylabel='count'>"
      ]
     },
     "execution_count": 27,
     "metadata": {},
     "output_type": "execute_result"
    },
    {
     "data": {
      "image/png": "[encoded data removed]",
      "text/plain": [
       "<Figure size 432x288 with 1 Axes>"
      ]
     },
     "metadata": {
      "needs_background": "light"
     },
     "output_type": "display_data"
    }
   ],
   "source": [
    "sns.countplot(data=data_train,x='ethnicity')"
   ]
  },
  {
   "cell_type": "code",
   "execution_count": 28,
   "id": "4af7ea9b",
   "metadata": {},
   "outputs": [],
   "source": [
    "whites=data_train[data_train['ethnicity']==0]\n",
    "blacks=data_train[data_train['ethnicity']==1]\n",
    "asians=data_train[data_train['ethnicity']==2]\n",
    "indians=data_train[data_train['ethnicity']==3]\n",
    "hispanics=data_train[data_train['ethnicity']==4]\n",
    "hispanics_mirrored=hispanics.copy()\n",
    "hispanics_mirrored['pixels']=hispanics_mirrored['pixels'].apply(pixel_mirroring)"
   ]
  },
  {
   "cell_type": "code",
   "execution_count": 29,
   "id": "295f3e7f",
   "metadata": {},
   "outputs": [],
   "source": [
    "data_train['ethnicity'] = data_train['ethnicity'].replace(4,3)"
   ]
  },
  {
   "cell_type": "code",
   "execution_count": 30,
   "id": "1c3fe6d0",
   "metadata": {},
   "outputs": [
    {
     "data": {
      "text/plain": [
       "Series([], Name: ethnicity, dtype: int64)"
      ]
     },
     "execution_count": 30,
     "metadata": {},
     "output_type": "execute_result"
    }
   ],
   "source": [
    "data_train[data_train['ethnicity']==4]['ethnicity']"
   ]
  },
  {
   "cell_type": "code",
   "execution_count": 31,
   "id": "3d930fc9",
   "metadata": {},
   "outputs": [
    {
     "data": {
      "text/plain": [
       "((1177, 5), (4531, 5))"
      ]
     },
     "execution_count": 31,
     "metadata": {},
     "output_type": "execute_result"
    }
   ],
   "source": [
    "whites_under20=whites[whites['age']<=20]\n",
    "whites_over20=whites[whites['age']>20]\n",
    "whites_under20.shape, whites_over20.shape"
   ]
  },
  {
   "cell_type": "code",
   "execution_count": 32,
   "id": "7aced5ce",
   "metadata": {},
   "outputs": [
    {
     "data": {
      "text/plain": [
       "<AxesSubplot:xlabel='ethnicity', ylabel='count'>"
      ]
     },
     "execution_count": 32,
     "metadata": {},
     "output_type": "execute_result"
    },
    {
     "data": {
      "image/png": "[encoded data removed]",
      "text/plain": [
       "<Figure size 432x288 with 1 Axes>"
      ]
     },
     "metadata": {
      "needs_background": "light"
     },
     "output_type": "display_data"
    }
   ],
   "source": [
    "data_train=pd.concat([whites, blacks, asians, indians, hispanics, hispanics_mirrored])\n",
    "sns.countplot(data=data_train,x='ethnicity')"
   ]
  },
  {
   "cell_type": "code",
   "execution_count": 33,
   "id": "34e46ead",
   "metadata": {},
   "outputs": [
    {
     "ename": "NameError",
     "evalue": "name 'X_validation' is not defined",
     "output_type": "error",
     "traceback": [
      "\u001b[0;31m---------------------------------------------------------------------------\u001b[0m",
      "\u001b[0;31mNameError\u001b[0m                                 Traceback (most recent call last)",
      "Input \u001b[0;32mIn [33]\u001b[0m, in \u001b[0;36m<cell line: 1>\u001b[0;34m()\u001b[0m\n\u001b[0;32m----> 1\u001b[0m data_train\u001b[38;5;241m.\u001b[39mshape, X_train\u001b[38;5;241m.\u001b[39mshape, y_train\u001b[38;5;241m.\u001b[39mshape, \u001b[43mX_validation\u001b[49m\u001b[38;5;241m.\u001b[39mshape, y_validation\u001b[38;5;241m.\u001b[39mshape\n",
      "\u001b[0;31mNameError\u001b[0m: name 'X_validation' is not defined"
     ]
    }
   ],
   "source": [
    "data_train.shape, X_train.shape, y_train.shape, X_validation.shape, y_validation.shape"
   ]
  },
  {
   "cell_type": "code",
   "execution_count": 34,
   "id": "bbe2bb67",
   "metadata": {},
   "outputs": [],
   "source": [
    "y_train= to_categorical(data_train['ethnicity'],num_classes=5)\n",
    "y_validation= to_categorical(data_validation['ethnicity'],num_classes=5)\n",
    "y_test= to_categorical(data_test['ethnicity'],num_classes=5)\n",
    "\n",
    "X_train= np.reshape(data_train['pixels'].tolist(), (-1, 48, 48,1))\n",
    "X_validation= np.reshape(data_validation['pixels'].tolist(), (-1, 48, 48,1))\n",
    "X_test= np.reshape(data_test['pixels'].tolist(), (-1, 48, 48,1))"
   ]
  },
  {
   "cell_type": "code",
   "execution_count": 35,
   "id": "397a0431",
   "metadata": {},
   "outputs": [
    {
     "data": {
      "text/plain": [
       "((14211, 48, 48, 1), (14211, 5))"
      ]
     },
     "execution_count": 35,
     "metadata": {},
     "output_type": "execute_result"
    }
   ],
   "source": [
    "X_train.shape, y_train.shape"
   ]
  },
  {
   "cell_type": "code",
   "execution_count": 36,
   "id": "1a55e808",
   "metadata": {},
   "outputs": [
    {
     "data": {
      "text/plain": [
       "array([[[ 34.],\n",
       "        [ 42.],\n",
       "        [ 45.],\n",
       "        ...,\n",
       "        [ 60.],\n",
       "        [ 27.],\n",
       "        [ 25.]],\n",
       "\n",
       "       [[ 30.],\n",
       "        [ 47.],\n",
       "        [ 46.],\n",
       "        ...,\n",
       "        [ 78.],\n",
       "        [ 26.],\n",
       "        [ 17.]],\n",
       "\n",
       "       [[ 29.],\n",
       "        [ 51.],\n",
       "        [ 34.],\n",
       "        ...,\n",
       "        [110.],\n",
       "        [ 50.],\n",
       "        [ 21.]],\n",
       "\n",
       "       ...,\n",
       "\n",
       "       [[ 37.],\n",
       "        [ 24.],\n",
       "        [ 25.],\n",
       "        ...,\n",
       "        [139.],\n",
       "        [123.],\n",
       "        [116.]],\n",
       "\n",
       "       [[ 31.],\n",
       "        [ 29.],\n",
       "        [ 32.],\n",
       "        ...,\n",
       "        [165.],\n",
       "        [113.],\n",
       "        [116.]],\n",
       "\n",
       "       [[ 28.],\n",
       "        [ 32.],\n",
       "        [ 31.],\n",
       "        ...,\n",
       "        [210.],\n",
       "        [128.],\n",
       "        [117.]]], dtype=float32)"
      ]
     },
     "execution_count": 36,
     "metadata": {},
     "output_type": "execute_result"
    }
   ],
   "source": [
    "X_test[0]"
   ]
  },
  {
   "cell_type": "markdown",
   "id": "c3be8db3",
   "metadata": {},
   "source": [
    "## Test 1"
   ]
  },
  {
   "cell_type": "code",
   "execution_count": 38,
   "id": "4fbb5c96",
   "metadata": {},
   "outputs": [],
   "source": [
    "def initialize_model():\n",
    "    \n",
    "    model = Sequential()\n",
    "    model.add(layers.Conv2D(128, (3,3), activation='relu', input_shape=(48,48,1)))\n",
    "    model.add(layers.MaxPool2D(pool_size=(2,2)))\n",
    "\n",
    "    model.add(layers.Conv2D(64, (3,3), activation='relu', padding='same'))\n",
    "    model.add(layers.MaxPool2D(pool_size=(2,2)))\n",
    "    \n",
    "    model.add(layers.Conv2D(64,(3,3),activation='relu'))\n",
    "    model.add(layers.MaxPooling2D(2,2))\n",
    "#     model.add(layers.Dropout(0.2))\n",
    "\n",
    "    model.add(layers.Conv2D(32,(3,3),activation='relu'))\n",
    "    model.add(layers.MaxPooling2D(2,2))\n",
    "    model.add(layers.Dropout(0.2))          \n",
    "\n",
    "    model.add(layers.Flatten())\n",
    "#     model.add(layers.Dropout(0.5))\n",
    "    \n",
    "    model.add(layers.Dense(5, activation='softmax'))\n",
    "    \n",
    "    opt = optimizers.Adam(learning_rate=0.001)\n",
    "    model.compile(loss='categorical_crossentropy',\n",
    "                  optimizer=opt,\n",
    "                  metrics=['accuracy','Precision','Recall'])\n",
    "    \n",
    "    return model"
   ]
  },
  {
   "cell_type": "code",
   "execution_count": null,
   "id": "8857ceb1",
   "metadata": {},
   "outputs": [
    {
     "name": "stderr",
     "output_type": "stream",
     "text": [
      "2022-06-01 16:12:13.958375: E tensorflow/stream_executor/cuda/cuda_driver.cc:271] failed call to cuInit: CUDA_ERROR_NO_DEVICE: no CUDA-capable device is detected\n",
      "2022-06-01 16:12:13.958558: I tensorflow/stream_executor/cuda/cuda_diagnostics.cc:156] kernel driver does not appear to be running on this host (LAPTOP-RM2V0FMT): /proc/driver/nvidia/version does not exist\n",
      "2022-06-01 16:12:13.960210: I tensorflow/core/platform/cpu_feature_guard.cc:151] This TensorFlow binary is optimized with oneAPI Deep Neural Network Library (oneDNN) to use the following CPU instructions in performance-critical operations:  AVX2 FMA\n",
      "To enable them in other operations, rebuild TensorFlow with the appropriate compiler flags.\n",
      "2022-06-01 16:12:14.205568: W tensorflow/core/framework/cpu_allocator_impl.cc:82] Allocation of 130968576 exceeds 10% of free system memory.\n"
     ]
    },
    {
     "name": "stdout",
     "output_type": "stream",
     "text": [
      "Epoch 1/50\n",
      "445/445 [==============================] - 71s 156ms/step - loss: 1.6544 - accuracy: 0.4073 - precision: 0.5156 - recall: 0.0754 - val_loss: 1.2809 - val_accuracy: 0.5170 - val_precision: 0.7410 - val_recall: 0.1672\n",
      "Epoch 2/50\n",
      "445/445 [==============================] - 68s 152ms/step - loss: 1.2503 - accuracy: 0.5183 - precision: 0.6742 - recall: 0.2911 - val_loss: 1.1528 - val_accuracy: 0.5562 - val_precision: 0.7412 - val_recall: 0.3287\n",
      "Epoch 3/50\n",
      "445/445 [==============================] - 69s 155ms/step - loss: 1.1016 - accuracy: 0.5750 - precision: 0.7278 - recall: 0.4075 - val_loss: 0.9809 - val_accuracy: 0.6638 - val_precision: 0.8244 - val_recall: 0.4200\n",
      "Epoch 4/50\n",
      "445/445 [==============================] - 66s 149ms/step - loss: 1.0466 - accuracy: 0.5997 - precision: 0.7471 - recall: 0.4412 - val_loss: 0.9404 - val_accuracy: 0.6619 - val_precision: 0.8152 - val_recall: 0.4785\n",
      "Epoch 5/50\n",
      "445/445 [==============================] - 66s 149ms/step - loss: 1.0038 - accuracy: 0.6171 - precision: 0.7556 - recall: 0.4620 - val_loss: 0.9445 - val_accuracy: 0.6644 - val_precision: 0.8096 - val_recall: 0.4779\n",
      "Epoch 6/50\n",
      "445/445 [==============================] - 64s 144ms/step - loss: 0.9765 - accuracy: 0.6342 - precision: 0.7664 - recall: 0.4801 - val_loss: 0.8923 - val_accuracy: 0.6836 - val_precision: 0.8124 - val_recall: 0.5218\n",
      "Epoch 7/50\n",
      "445/445 [==============================] - 65s 147ms/step - loss: 0.9591 - accuracy: 0.6391 - precision: 0.7682 - recall: 0.4949 - val_loss: 0.9028 - val_accuracy: 0.6656 - val_precision: 0.7840 - val_recall: 0.5568\n",
      "Epoch 8/50\n",
      "445/445 [==============================] - 64s 144ms/step - loss: 0.9260 - accuracy: 0.6525 - precision: 0.7769 - recall: 0.5130 - val_loss: 0.8828 - val_accuracy: 0.6800 - val_precision: 0.8058 - val_recall: 0.5375\n",
      "Epoch 9/50\n",
      "445/445 [==============================] - 64s 145ms/step - loss: 0.9015 - accuracy: 0.6660 - precision: 0.7833 - recall: 0.5313 - val_loss: 0.8594 - val_accuracy: 0.6918 - val_precision: 0.8069 - val_recall: 0.5679\n",
      "Epoch 10/50\n",
      "197/445 [============>.................] - ETA: 37s - loss: 0.8777 - accuracy: 0.6758 - precision: 0.7974 - recall: 0.5449"
     ]
    }
   ],
   "source": [
    "model = initialize_model()\n",
    "\n",
    "es = EarlyStopping(monitor = 'val_accuracy', \n",
    "                   mode = 'max', \n",
    "                   patience = 5, \n",
    "                   verbose = 1, \n",
    "                   restore_best_weights = True)\n",
    "\n",
    "history = model.fit(X_train,y_train,\n",
    "                    validation_data=(X_validation,y_validation),\n",
    "                    epochs=50, \n",
    "                    batch_size=32,\n",
    "                    callbacks=[es])"
   ]
  },
  {
   "cell_type": "code",
   "execution_count": 111,
   "id": "0d878772",
   "metadata": {},
   "outputs": [],
   "source": [
    "#plot Accuracy\n",
    "\n",
    "def plot_loss_accuracy(history, title=None):\n",
    "    fig, ax = plt.subplots(1,2, figsize=(20,7))\n",
    "    \n",
    "    # --- LOSS --- \n",
    "    \n",
    "    ax[0].plot(history.history['loss'])\n",
    "    ax[0].plot(history.history['val_loss'])\n",
    "    ax[0].set_title('Model loss')\n",
    "    ax[0].set_ylabel('Loss')\n",
    "    ax[0].set_xlabel('Epoch')\n",
    "    ax[0].set_ylim((0,3))\n",
    "    ax[0].legend(['Train', 'Test'], loc='best')\n",
    "    ax[0].grid(axis=\"x\",linewidth=0.5)\n",
    "    ax[0].grid(axis=\"y\",linewidth=0.5)\n",
    "    \n",
    "    # --- ACCURACY\n",
    "    \n",
    "    ax[1].plot(history.history['accuracy'])\n",
    "    ax[1].plot(history.history['val_accuracy'])\n",
    "    ax[1].set_title('Model Accuracy')\n",
    "    ax[1].set_ylabel('Accuracy')\n",
    "    ax[1].set_xlabel('Epoch')\n",
    "    ax[1].legend(['Train', 'Test'], loc='best')\n",
    "    ax[1].set_ylim((0,1))\n",
    "    ax[1].grid(axis=\"x\",linewidth=0.5)\n",
    "    ax[1].grid(axis=\"y\",linewidth=0.5)\n",
    "    \n",
    "    if title:\n",
    "        fig.suptitle(title)"
   ]
  },
  {
   "cell_type": "code",
   "execution_count": 20,
   "id": "05a455ad",
   "metadata": {
    "scrolled": true
   },
   "outputs": [
    {
     "data": {
      "image/png": "[encoded data removed]",
      "text/plain": [
       "<Figure size 1440x504 with 2 Axes>"
      ]
     },
     "metadata": {
      "needs_background": "light"
     },
     "output_type": "display_data"
    }
   ],
   "source": [
    "plot_loss_accuracy(history, title=None)"
   ]
  },
  {
   "cell_type": "code",
   "execution_count": 112,
   "id": "9fe1eee9",
   "metadata": {},
   "outputs": [],
   "source": [
    "results_test = model.evaluate(X_test, y_test, verbose = 0)"
   ]
  },
  {
   "cell_type": "code",
   "execution_count": 113,
   "id": "515d919f",
   "metadata": {},
   "outputs": [
    {
     "data": {
      "text/plain": [
       "[0.8164066672325134, 0.7414229512214661]"
      ]
     },
     "execution_count": 113,
     "metadata": {},
     "output_type": "execute_result"
    }
   ],
   "source": [
    "results_test"
   ]
  },
  {
   "cell_type": "code",
   "execution_count": 114,
   "id": "8a972ee8",
   "metadata": {},
   "outputs": [],
   "source": [
    "predictions=model.predict(X_test)"
   ]
  },
  {
   "cell_type": "code",
   "execution_count": 144,
   "id": "25590e39",
   "metadata": {},
   "outputs": [],
   "source": [
    "y_test_1d=[np.argmax(y) for y in y_test]\n",
    "predictions_1d=[np.argmax(y) for y in predictions]"
   ]
  },
  {
   "cell_type": "code",
   "execution_count": 151,
   "id": "7478043e",
   "metadata": {},
   "outputs": [
    {
     "data": {
      "text/html": [
       "<div>\n",
       "<style scoped>\n",
       "    .dataframe tbody tr th:only-of-type {\n",
       "        vertical-align: middle;\n",
       "    }\n",
       "\n",
       "    .dataframe tbody tr th {\n",
       "        vertical-align: top;\n",
       "    }\n",
       "\n",
       "    .dataframe thead th {\n",
       "        text-align: right;\n",
       "    }\n",
       "</style>\n",
       "<table border=\"1\" class=\"dataframe\">\n",
       "  <thead>\n",
       "    <tr style=\"text-align: right;\">\n",
       "      <th></th>\n",
       "      <th>y_test</th>\n",
       "      <th>predictions</th>\n",
       "      <th>results</th>\n",
       "    </tr>\n",
       "  </thead>\n",
       "  <tbody>\n",
       "    <tr>\n",
       "      <th>0</th>\n",
       "      <td>2</td>\n",
       "      <td>2</td>\n",
       "      <td>True</td>\n",
       "    </tr>\n",
       "    <tr>\n",
       "      <th>1</th>\n",
       "      <td>0</td>\n",
       "      <td>0</td>\n",
       "      <td>True</td>\n",
       "    </tr>\n",
       "    <tr>\n",
       "      <th>2</th>\n",
       "      <td>1</td>\n",
       "      <td>1</td>\n",
       "      <td>True</td>\n",
       "    </tr>\n",
       "    <tr>\n",
       "      <th>3</th>\n",
       "      <td>3</td>\n",
       "      <td>3</td>\n",
       "      <td>True</td>\n",
       "    </tr>\n",
       "    <tr>\n",
       "      <th>4</th>\n",
       "      <td>0</td>\n",
       "      <td>0</td>\n",
       "      <td>True</td>\n",
       "    </tr>\n",
       "    <tr>\n",
       "      <th>...</th>\n",
       "      <td>...</td>\n",
       "      <td>...</td>\n",
       "      <td>...</td>\n",
       "    </tr>\n",
       "    <tr>\n",
       "      <th>7107</th>\n",
       "      <td>0</td>\n",
       "      <td>0</td>\n",
       "      <td>True</td>\n",
       "    </tr>\n",
       "    <tr>\n",
       "      <th>7108</th>\n",
       "      <td>1</td>\n",
       "      <td>1</td>\n",
       "      <td>True</td>\n",
       "    </tr>\n",
       "    <tr>\n",
       "      <th>7109</th>\n",
       "      <td>3</td>\n",
       "      <td>3</td>\n",
       "      <td>True</td>\n",
       "    </tr>\n",
       "    <tr>\n",
       "      <th>7110</th>\n",
       "      <td>2</td>\n",
       "      <td>2</td>\n",
       "      <td>True</td>\n",
       "    </tr>\n",
       "    <tr>\n",
       "      <th>7111</th>\n",
       "      <td>1</td>\n",
       "      <td>0</td>\n",
       "      <td>False</td>\n",
       "    </tr>\n",
       "  </tbody>\n",
       "</table>\n",
       "<p>7112 rows × 3 columns</p>\n",
       "</div>"
      ],
      "text/plain": [
       "      y_test  predictions  results\n",
       "0          2            2     True\n",
       "1          0            0     True\n",
       "2          1            1     True\n",
       "3          3            3     True\n",
       "4          0            0     True\n",
       "...      ...          ...      ...\n",
       "7107       0            0     True\n",
       "7108       1            1     True\n",
       "7109       3            3     True\n",
       "7110       2            2     True\n",
       "7111       1            0    False\n",
       "\n",
       "[7112 rows x 3 columns]"
      ]
     },
     "execution_count": 151,
     "metadata": {},
     "output_type": "execute_result"
    }
   ],
   "source": [
    "dict={'y_test':y_test_1d,'predictions':predictions_1d}\n",
    "df=pd.DataFrame.from_dict(dict)\n",
    "df['results']=(df['y_test']==df['predictions'])\n",
    "df"
   ]
  },
  {
   "cell_type": "code",
   "execution_count": 153,
   "id": "9010c9e2",
   "metadata": {},
   "outputs": [
    {
     "data": {
      "text/plain": [
       "y_test\n",
       "0    0.901974\n",
       "1    0.789165\n",
       "2    0.734177\n",
       "3    0.614557\n",
       "4    0.003839\n",
       "Name: results, dtype: float64"
      ]
     },
     "execution_count": 153,
     "metadata": {},
     "output_type": "execute_result"
    }
   ],
   "source": [
    "df.groupby(['y_test']).mean()['results']"
   ]
  },
  {
   "cell_type": "code",
   "execution_count": 37,
   "id": "2027c6d3",
   "metadata": {},
   "outputs": [
    {
     "ename": "NameError",
     "evalue": "name 'model' is not defined",
     "output_type": "error",
     "traceback": [
      "\u001b[0;31m---------------------------------------------------------------------------\u001b[0m",
      "\u001b[0;31mNameError\u001b[0m                                 Traceback (most recent call last)",
      "Input \u001b[0;32mIn [37]\u001b[0m, in \u001b[0;36m<cell line: 1>\u001b[0;34m()\u001b[0m\n\u001b[0;32m----> 1\u001b[0m prediction\u001b[38;5;241m=\u001b[39m\u001b[43mmodel\u001b[49m\u001b[38;5;241m.\u001b[39mpredict(X_test[\u001b[38;5;241m0\u001b[39m])\n",
      "\u001b[0;31mNameError\u001b[0m: name 'model' is not defined"
     ]
    }
   ],
   "source": [
    "prediction=model.predict(X_test[0])"
   ]
  },
  {
   "cell_type": "code",
   "execution_count": null,
   "id": "fe8000cf",
   "metadata": {},
   "outputs": [],
   "source": []
  },
  {
   "cell_type": "code",
   "execution_count": null,
   "id": "a5bc63eb",
   "metadata": {},
   "outputs": [],
   "source": []
  },
  {
   "cell_type": "code",
   "execution_count": null,
   "id": "a3d5b1ac",
   "metadata": {},
   "outputs": [],
   "source": []
  },
  {
   "cell_type": "markdown",
   "id": "ed765196",
   "metadata": {},
   "source": [
    "## Test 2"
   ]
  },
  {
   "cell_type": "code",
   "execution_count": 23,
   "id": "f9f6fd18",
   "metadata": {},
   "outputs": [],
   "source": [
    "def initialize_model():\n",
    "    \n",
    "    model = Sequential()\n",
    "    model.add(layers.Conv2D(128, (3,3), activation='relu', input_shape=(48,48,1)))\n",
    "    model.add(layers.MaxPool2D(pool_size=(2,2)))\n",
    "\n",
    "    model.add(layers.Conv2D(64, (3,3), activation='relu', padding='same'))\n",
    "    model.add(layers.MaxPool2D(pool_size=(2,2)))\n",
    "    \n",
    "    model.add(layers.Conv2D(64,(3,3),activation='relu'))\n",
    "    model.add(layers.MaxPooling2D(2,2))\n",
    "#     model.add(layers.Dropout(0.2))\n",
    "\n",
    "    model.add(layers.Conv2D(32,(2,2),activation='relu'))\n",
    "    \n",
    "    model.add(layers.Conv2D(32,(2,2),activation='relu'))\n",
    "\n",
    "    model.add(layers.Conv2D(16,(2,2),activation='relu'))\n",
    "    model.add(layers.Dropout(0.2)) \n",
    "\n",
    "    model.add(layers.Flatten())\n",
    "#     model.add(layers.Dropout(0.5))\n",
    "    \n",
    "    model.add(layers.Dense(5, activation='softmax'))\n",
    "    \n",
    "    opt = optimizers.Adam(learning_rate=0.001)\n",
    "    model.compile(loss='categorical_crossentropy',\n",
    "                  optimizer=opt,\n",
    "                  metrics=['accuracy'])\n",
    "    \n",
    "    return model"
   ]
  },
  {
   "cell_type": "code",
   "execution_count": 24,
   "id": "72970da0",
   "metadata": {},
   "outputs": [
    {
     "name": "stdout",
     "output_type": "stream",
     "text": [
      "Epoch 1/50\n"
     ]
    },
    {
     "name": "stderr",
     "output_type": "stream",
     "text": [
      "2022-05-31 14:39:48.527824: W tensorflow/core/framework/cpu_allocator_impl.cc:82] Allocation of 122333184 exceeds 10% of free system memory.\n"
     ]
    },
    {
     "name": "stdout",
     "output_type": "stream",
     "text": [
      "415/415 [==============================] - 61s 145ms/step - loss: 1.3679 - accuracy: 0.4413 - val_loss: 1.1260 - val_accuracy: 0.5806\n",
      "Epoch 2/50\n",
      "415/415 [==============================] - 60s 145ms/step - loss: 1.1227 - accuracy: 0.5715 - val_loss: 0.9760 - val_accuracy: 0.6659\n",
      "Epoch 3/50\n",
      "415/415 [==============================] - 58s 139ms/step - loss: 0.9884 - accuracy: 0.6332 - val_loss: 0.9194 - val_accuracy: 0.6939\n",
      "Epoch 4/50\n",
      "415/415 [==============================] - 57s 137ms/step - loss: 0.9427 - accuracy: 0.6586 - val_loss: 0.8989 - val_accuracy: 0.6909\n",
      "Epoch 5/50\n",
      "415/415 [==============================] - 57s 137ms/step - loss: 0.9070 - accuracy: 0.6718 - val_loss: 0.8603 - val_accuracy: 0.6981\n",
      "Epoch 6/50\n",
      "415/415 [==============================] - 57s 137ms/step - loss: 0.8686 - accuracy: 0.6840 - val_loss: 0.8464 - val_accuracy: 0.7096\n",
      "Epoch 7/50\n",
      "415/415 [==============================] - 56s 134ms/step - loss: 0.8389 - accuracy: 0.7020 - val_loss: 0.8900 - val_accuracy: 0.6936\n",
      "Epoch 8/50\n",
      "415/415 [==============================] - 56s 136ms/step - loss: 0.8085 - accuracy: 0.7045 - val_loss: 0.7980 - val_accuracy: 0.7312\n",
      "Epoch 9/50\n",
      "415/415 [==============================] - 57s 137ms/step - loss: 0.7782 - accuracy: 0.7189 - val_loss: 0.8096 - val_accuracy: 0.7246\n",
      "Epoch 10/50\n",
      "415/415 [==============================] - 55s 133ms/step - loss: 0.7626 - accuracy: 0.7270 - val_loss: 0.8298 - val_accuracy: 0.7343\n",
      "Epoch 11/50\n",
      "415/415 [==============================] - 56s 135ms/step - loss: 0.7431 - accuracy: 0.7384 - val_loss: 0.8606 - val_accuracy: 0.7135\n",
      "Epoch 12/50\n",
      "415/415 [==============================] - 55s 134ms/step - loss: 0.7333 - accuracy: 0.7407 - val_loss: 0.8511 - val_accuracy: 0.7189\n",
      "Epoch 13/50\n",
      "415/415 [==============================] - 56s 135ms/step - loss: 0.7160 - accuracy: 0.7462 - val_loss: 0.8279 - val_accuracy: 0.7303\n",
      "Epoch 14/50\n",
      "415/415 [==============================] - 60s 144ms/step - loss: 0.6923 - accuracy: 0.7549 - val_loss: 0.8608 - val_accuracy: 0.7246\n",
      "Epoch 15/50\n",
      "415/415 [==============================] - ETA: 0s - loss: 0.6882 - accuracy: 0.7583Restoring model weights from the end of the best epoch: 10.\n",
      "415/415 [==============================] - 59s 142ms/step - loss: 0.6882 - accuracy: 0.7583 - val_loss: 0.8227 - val_accuracy: 0.7318\n",
      "Epoch 15: early stopping\n"
     ]
    }
   ],
   "source": [
    "model2 = initialize_model()\n",
    "\n",
    "es = EarlyStopping(monitor = 'val_accuracy', \n",
    "                   mode = 'max', \n",
    "                   patience = 5, \n",
    "                   verbose = 1, \n",
    "                   restore_best_weights = True)\n",
    "\n",
    "history2 = model2.fit(X_train,y_train,\n",
    "                    validation_split=0.2,\n",
    "                    epochs=50, \n",
    "                    batch_size=32,\n",
    "                    callbacks=[es])"
   ]
  },
  {
   "cell_type": "code",
   "execution_count": 25,
   "id": "df4469fd",
   "metadata": {},
   "outputs": [
    {
     "data": {
      "image/png": "[encoded data removed]",
      "text/plain": [
       "<Figure size 1440x504 with 2 Axes>"
      ]
     },
     "metadata": {
      "needs_background": "light"
     },
     "output_type": "display_data"
    }
   ],
   "source": [
    "plot_loss_accuracy(history2, title=None)"
   ]
  },
  {
   "cell_type": "code",
   "execution_count": 26,
   "id": "5236b0e1",
   "metadata": {},
   "outputs": [],
   "source": [
    "model2.evaluate(X_test, y_test, verbose = 0)"
   ]
  },
  {
   "cell_type": "markdown",
   "id": "0ad04f2c",
   "metadata": {},
   "source": [
    "## Test 3"
   ]
  },
  {
   "cell_type": "code",
   "execution_count": 40,
   "id": "d446bdf0",
   "metadata": {},
   "outputs": [],
   "source": [
    "def initialize_model():\n",
    "    \n",
    "    model = Sequential()\n",
    "    model.add(layers.Conv2D(128, (3,3), activation='relu', input_shape=(48,48,1), padding='same'))\n",
    "    model.add(layers.Conv2D(128, (3,3), activation='relu', padding='same'))\n",
    "    \n",
    "    model.add(layers.Conv2D(64, (3,3), activation='relu', padding='same'))\n",
    "    model.add(layers.Conv2D(64, (3,3),activation='relu', padding='same'))\n",
    "    model.add(layers.MaxPooling2D(2,2))\n",
    "#     model.add(layers.Dropout(0.2))\n",
    "\n",
    "    model.add(layers.Conv2D(32,(2,2),activation='relu'))\n",
    "    model.add(layers.Conv2D(32,(2,2),activation='relu'))\n",
    "    model.add(layers.MaxPooling2D(2,2))\n",
    "              \n",
    "    model.add(layers.Conv2D(16,(2,2),activation='relu'))\n",
    "\n",
    "    model.add(layers.Flatten())\n",
    "#     model.add(layers.Dropout(0.5))\n",
    "    \n",
    "    model.add(layers.Dense(5, activation='softmax'))\n",
    "    \n",
    "    opt = optimizers.Adam(learning_rate=0.001)\n",
    "    model.compile(loss='categorical_crossentropy',\n",
    "                  optimizer=opt,\n",
    "                  metrics=['accuracy'])\n",
    "    \n",
    "    return model"
   ]
  },
  {
   "cell_type": "code",
   "execution_count": 41,
   "id": "e785a3d5",
   "metadata": {},
   "outputs": [
    {
     "name": "stdout",
     "output_type": "stream",
     "text": [
      "Epoch 1/50\n",
      "415/415 [==============================] - 355s 854ms/step - loss: 1.5678 - accuracy: 0.4152 - val_loss: 1.5047 - val_accuracy: 0.4284\n",
      "Epoch 2/50\n",
      "415/415 [==============================] - 363s 876ms/step - loss: 1.4690 - accuracy: 0.4338 - val_loss: 1.4591 - val_accuracy: 0.4327\n",
      "Epoch 3/50\n",
      "415/415 [==============================] - 365s 880ms/step - loss: 1.3378 - accuracy: 0.4898 - val_loss: 1.1812 - val_accuracy: 0.5553\n",
      "Epoch 4/50\n",
      "415/415 [==============================] - 368s 888ms/step - loss: 1.0467 - accuracy: 0.6196 - val_loss: 1.0305 - val_accuracy: 0.6342\n",
      "Epoch 5/50\n",
      "415/415 [==============================] - 362s 873ms/step - loss: 0.9415 - accuracy: 0.6624 - val_loss: 0.9460 - val_accuracy: 0.6574\n",
      "Epoch 6/50\n",
      "415/415 [==============================] - 358s 863ms/step - loss: 0.8740 - accuracy: 0.6897 - val_loss: 0.9076 - val_accuracy: 0.6770\n",
      "Epoch 7/50\n",
      "415/415 [==============================] - 356s 858ms/step - loss: 0.8374 - accuracy: 0.7045 - val_loss: 0.8538 - val_accuracy: 0.7056\n",
      "Epoch 8/50\n",
      "415/415 [==============================] - ETA: 0s - loss: 0.8017 - accuracy: 0.7148Restoring model weights from the end of the best epoch: 7.\n",
      "415/415 [==============================] - 361s 870ms/step - loss: 0.8017 - accuracy: 0.7148 - val_loss: 0.8900 - val_accuracy: 0.6728\n",
      "Epoch 8: early stopping\n"
     ]
    }
   ],
   "source": [
    "model3 = initialize_model()\n",
    "\n",
    "es = EarlyStopping(monitor = 'val_accuracy', \n",
    "                   mode = 'max', \n",
    "                   patience = 1, \n",
    "                   verbose = 1, \n",
    "                   restore_best_weights = True)\n",
    "\n",
    "history3 = model3.fit(X_train,y_train,\n",
    "                    validation_split=0.2,\n",
    "                    epochs=50, \n",
    "                    batch_size=32,\n",
    "                    callbacks=[es])"
   ]
  },
  {
   "cell_type": "code",
   "execution_count": 43,
   "id": "6ce53856",
   "metadata": {},
   "outputs": [
    {
     "data": {
      "image/png": "[encoded data removed]",
      "text/plain": [
       "<Figure size 1440x504 with 2 Axes>"
      ]
     },
     "metadata": {
      "needs_background": "light"
     },
     "output_type": "display_data"
    }
   ],
   "source": [
    "plot_loss_accuracy(history3, title=None)"
   ]
  },
  {
   "cell_type": "code",
   "execution_count": 44,
   "id": "f981a00f",
   "metadata": {},
   "outputs": [
    {
     "data": {
      "text/plain": [
       "[0.8403927683830261, 0.7017716765403748]"
      ]
     },
     "execution_count": 44,
     "metadata": {},
     "output_type": "execute_result"
    }
   ],
   "source": [
    "model3.evaluate(X_test, y_test, verbose = 0)"
   ]
  },
  {
   "cell_type": "markdown",
   "id": "d7f9e24d",
   "metadata": {},
   "source": [
    "## Test 4"
   ]
  },
  {
   "cell_type": "code",
   "execution_count": 126,
   "id": "a5c78886",
   "metadata": {},
   "outputs": [],
   "source": [
    "def initialize_model():\n",
    "    \n",
    "    model = Sequential()\n",
    "\n",
    "    model.add(layers.Conv2D(64,(3,3),activation='relu',padding = \"same\",input_shape=(48,48,1)))\n",
    "    model.add(layers.MaxPooling2D(2,2))\n",
    "    model.add(layers.Conv2D(32,(3,3),activation='relu'))\n",
    "    model.add(layers.MaxPooling2D(2,2))\n",
    "    model.add(layers.Conv2D(64,(3,3),activation='relu'))\n",
    "    model.add(layers.MaxPooling2D(2,2))\n",
    "    model.add(layers.Flatten())\n",
    "    \n",
    "    model.add(layers.Dense(5, activation='softmax'))\n",
    "    \n",
    "    opt = optimizers.Adam(learning_rate=0.001)\n",
    "    \n",
    "    model.compile(loss='categorical_crossentropy',\n",
    "                  optimizer=opt,\n",
    "                  metrics=['accuracy'])\n",
    "    \n",
    "    return model"
   ]
  },
  {
   "cell_type": "code",
   "execution_count": 129,
   "id": "3f08867a",
   "metadata": {},
   "outputs": [
    {
     "name": "stdout",
     "output_type": "stream",
     "text": [
      "Epoch 1/50\n",
      "415/415 [==============================] - 23s 54ms/step - loss: 1.4242 - accuracy: 0.5431 - val_loss: 1.0908 - val_accuracy: 0.5957\n",
      "Epoch 2/50\n",
      "415/415 [==============================] - 22s 53ms/step - loss: 1.0028 - accuracy: 0.6338 - val_loss: 1.0137 - val_accuracy: 0.6255\n",
      "Epoch 3/50\n",
      "415/415 [==============================] - 22s 54ms/step - loss: 0.9334 - accuracy: 0.6602 - val_loss: 0.9566 - val_accuracy: 0.6547\n",
      "Epoch 4/50\n",
      "415/415 [==============================] - 23s 55ms/step - loss: 0.8944 - accuracy: 0.6815 - val_loss: 0.9193 - val_accuracy: 0.6710\n",
      "Epoch 5/50\n",
      "415/415 [==============================] - 22s 53ms/step - loss: 0.8688 - accuracy: 0.6901 - val_loss: 0.9232 - val_accuracy: 0.6674\n",
      "Epoch 6/50\n",
      "415/415 [==============================] - 22s 54ms/step - loss: 0.8451 - accuracy: 0.6951 - val_loss: 0.9001 - val_accuracy: 0.6794\n",
      "Epoch 7/50\n",
      "415/415 [==============================] - 23s 55ms/step - loss: 0.8120 - accuracy: 0.7105 - val_loss: 0.9241 - val_accuracy: 0.6704\n",
      "Epoch 8/50\n",
      "415/415 [==============================] - 22s 54ms/step - loss: 0.7930 - accuracy: 0.7169 - val_loss: 0.9102 - val_accuracy: 0.6824\n",
      "Epoch 9/50\n",
      "415/415 [==============================] - 22s 53ms/step - loss: 0.7610 - accuracy: 0.7265 - val_loss: 0.9151 - val_accuracy: 0.6821\n",
      "Epoch 10/50\n",
      "415/415 [==============================] - 22s 53ms/step - loss: 0.7485 - accuracy: 0.7319 - val_loss: 0.9433 - val_accuracy: 0.6656\n",
      "Epoch 11/50\n",
      "415/415 [==============================] - 22s 53ms/step - loss: 0.7508 - accuracy: 0.7329 - val_loss: 0.9236 - val_accuracy: 0.6845\n",
      "Epoch 12/50\n",
      "415/415 [==============================] - 23s 54ms/step - loss: 0.7112 - accuracy: 0.7453 - val_loss: 0.9292 - val_accuracy: 0.6942\n",
      "Epoch 13/50\n",
      "415/415 [==============================] - 23s 55ms/step - loss: 0.6882 - accuracy: 0.7546 - val_loss: 0.9541 - val_accuracy: 0.6815\n",
      "Epoch 14/50\n",
      "415/415 [==============================] - 22s 53ms/step - loss: 0.6818 - accuracy: 0.7557 - val_loss: 0.9204 - val_accuracy: 0.6794\n",
      "Epoch 15/50\n",
      "415/415 [==============================] - 22s 52ms/step - loss: 0.6517 - accuracy: 0.7680 - val_loss: 0.9382 - val_accuracy: 0.6879\n",
      "Epoch 16/50\n",
      "415/415 [==============================] - 22s 54ms/step - loss: 0.6382 - accuracy: 0.7749 - val_loss: 0.9548 - val_accuracy: 0.6851\n",
      "Epoch 17/50\n",
      "414/415 [============================>.] - ETA: 0s - loss: 0.6112 - accuracy: 0.7831Restoring model weights from the end of the best epoch: 12.\n",
      "415/415 [==============================] - 22s 54ms/step - loss: 0.6113 - accuracy: 0.7831 - val_loss: 1.0518 - val_accuracy: 0.6764\n",
      "Epoch 17: early stopping\n"
     ]
    }
   ],
   "source": [
    "model4 = initialize_model()\n",
    "\n",
    "es = EarlyStopping(monitor = 'val_accuracy', \n",
    "                   mode = 'max', \n",
    "                   patience = 5, \n",
    "                   verbose = 1, \n",
    "                   restore_best_weights = True)\n",
    "\n",
    "history4 = model4.fit(X_train,y_train,\n",
    "                    validation_split=0.2,\n",
    "                    epochs=50, \n",
    "                    batch_size=32,\n",
    "                    callbacks=[es])"
   ]
  },
  {
   "cell_type": "code",
   "execution_count": null,
   "id": "153e3325",
   "metadata": {},
   "outputs": [],
   "source": [
    "plot_loss_accuracy(history4, title=None)"
   ]
  },
  {
   "cell_type": "code",
   "execution_count": null,
   "id": "b18c0dba",
   "metadata": {},
   "outputs": [],
   "source": [
    "model4.evaluate(X_test, y_test, verbose = 0)"
   ]
  },
  {
   "cell_type": "markdown",
   "id": "b391fa6e",
   "metadata": {},
   "source": [
    "## Test 5"
   ]
  },
  {
   "cell_type": "code",
   "execution_count": 203,
   "id": "32d29eab",
   "metadata": {},
   "outputs": [
    {
     "data": {
      "text/plain": [
       "<AxesSubplot:xlabel='ethnicity', ylabel='count'>"
      ]
     },
     "execution_count": 203,
     "metadata": {},
     "output_type": "execute_result"
    },
    {
     "data": {
      "image/png": "[encoded data removed]",
      "text/plain": [
       "<Figure size 432x288 with 1 Axes>"
      ]
     },
     "metadata": {
      "needs_background": "light"
     },
     "output_type": "display_data"
    }
   ],
   "source": [
    "sns.countplot(data=data,x='ethnicity')"
   ]
  },
  {
   "cell_type": "code",
   "execution_count": 204,
   "id": "318382f2",
   "metadata": {},
   "outputs": [],
   "source": [
    "whites=data[data['ethnicity']==0]\n",
    "blacks=data[data['ethnicity']==1]\n",
    "asians=data[data['ethnicity']==2]\n",
    "indians=data[data['ethnicity']==3]\n",
    "hispanics=data[data['ethnicity']==4]"
   ]
  },
  {
   "cell_type": "code",
   "execution_count": 205,
   "id": "e180dd95",
   "metadata": {},
   "outputs": [
    {
     "name": "stderr",
     "output_type": "stream",
     "text": [
      "/tmp/ipykernel_32545/390702453.py:1: SettingWithCopyWarning: \n",
      "A value is trying to be set on a copy of a slice from a DataFrame.\n",
      "Try using .loc[row_indexer,col_indexer] = value instead\n",
      "\n",
      "See the caveats in the documentation: https://pandas.pydata.org/pandas-docs/stable/user_guide/indexing.html#returning-a-view-versus-a-copy\n",
      "  hispanics['ethnicity']=3\n"
     ]
    }
   ],
   "source": [
    "hispanics['ethnicity']=3"
   ]
  },
  {
   "cell_type": "code",
   "execution_count": 206,
   "id": "4eb44257",
   "metadata": {},
   "outputs": [
    {
     "data": {
      "text/plain": [
       "<AxesSubplot:xlabel='ethnicity', ylabel='count'>"
      ]
     },
     "execution_count": 206,
     "metadata": {},
     "output_type": "execute_result"
    },
    {
     "data": {
      "image/png": "[encoded data removed]",
      "text/plain": [
       "<Figure size 432x288 with 1 Axes>"
      ]
     },
     "metadata": {
      "needs_background": "light"
     },
     "output_type": "display_data"
    }
   ],
   "source": [
    "data_new=pd.concat([whites, blacks, asians, indians, hispanics])\n",
    "sns.countplot(data=data_new,x='ethnicity')"
   ]
  },
  {
   "cell_type": "code",
   "execution_count": 207,
   "id": "e9b8f0d0",
   "metadata": {},
   "outputs": [],
   "source": [
    "X = data_new['pixels'].tolist()\n",
    "X = np.reshape(X, (-1, 48, 48,1))\n",
    "\n",
    "y = to_categorical(data_new['ethnicity'],num_classes=4)\n",
    "\n",
    "X_train, X_test, y_train, y_test = train_test_split(X, y, test_size=0.3, random_state=1)"
   ]
  },
  {
   "cell_type": "code",
   "execution_count": 208,
   "id": "10130ae2",
   "metadata": {},
   "outputs": [],
   "source": [
    "def initialize_model():\n",
    "    \n",
    "    model = Sequential()\n",
    "    model.add(layers.Conv2D(128, (3,3), activation='relu', input_shape=(48,48,1)))\n",
    "    model.add(layers.MaxPool2D(pool_size=(2,2)))\n",
    "\n",
    "    model.add(layers.Conv2D(64, (3,3), activation='relu', padding='same'))\n",
    "    model.add(layers.MaxPool2D(pool_size=(2,2)))\n",
    "    \n",
    "    model.add(layers.Conv2D(64,(3,3),activation='relu'))\n",
    "    model.add(layers.MaxPooling2D(2,2))\n",
    "#     model.add(layers.Dropout(0.2))\n",
    "\n",
    "    model.add(layers.Conv2D(32,(3,3),activation='relu'))\n",
    "    model.add(layers.MaxPooling2D(2,2))\n",
    "    model.add(layers.Dropout(0.1))          \n",
    "\n",
    "    model.add(layers.Flatten())\n",
    "#     model.add(layers.Dropout(0.5))\n",
    "    \n",
    "    model.add(layers.Dense(4, activation='softmax'))\n",
    "    \n",
    "    initial_learning_rate = 0.001 # start with default Adam value\n",
    "\n",
    "    lr_schedule = ExponentialDecay(\n",
    "        # Every 4000 iterations, multiply the learning rate by 0.7\n",
    "        initial_learning_rate, decay_steps = 4000, decay_rate = 0.7,\n",
    "    )\n",
    "    \n",
    "    opt = optimizers.Adam(learning_rate=lr_schedule)\n",
    "    model.compile(loss='categorical_crossentropy',\n",
    "                  optimizer=opt,\n",
    "                  metrics=['accuracy','Precision','Recall'])\n",
    "    \n",
    "    return model"
   ]
  },
  {
   "cell_type": "code",
   "execution_count": 209,
   "id": "a9dca895",
   "metadata": {},
   "outputs": [
    {
     "name": "stdout",
     "output_type": "stream",
     "text": [
      "Epoch 1/200\n",
      "415/415 [==============================] - 59s 139ms/step - loss: 1.3227 - accuracy: 0.4772 - precision: 0.5986 - recall: 0.2532 - val_loss: 0.9700 - val_accuracy: 0.6062 - val_precision: 0.7162 - val_recall: 0.4411\n",
      "Epoch 2/200\n",
      "415/415 [==============================] - 60s 144ms/step - loss: 0.9172 - accuracy: 0.6254 - precision: 0.7140 - recall: 0.4848 - val_loss: 0.8003 - val_accuracy: 0.6851 - val_precision: 0.7669 - val_recall: 0.5779\n",
      "Epoch 3/200\n",
      "415/415 [==============================] - 59s 142ms/step - loss: 0.8100 - accuracy: 0.6785 - precision: 0.7466 - recall: 0.5728 - val_loss: 0.8210 - val_accuracy: 0.6752 - val_precision: 0.7558 - val_recall: 0.5577\n",
      "Epoch 4/200\n",
      "415/415 [==============================] - 61s 147ms/step - loss: 0.7637 - accuracy: 0.7044 - precision: 0.7658 - recall: 0.6068 - val_loss: 0.7479 - val_accuracy: 0.7156 - val_precision: 0.7826 - val_recall: 0.6107\n",
      "Epoch 5/200\n",
      "415/415 [==============================] - 58s 140ms/step - loss: 0.7196 - accuracy: 0.7209 - precision: 0.7778 - recall: 0.6364 - val_loss: 0.7470 - val_accuracy: 0.7180 - val_precision: 0.7675 - val_recall: 0.6583\n",
      "Epoch 6/200\n",
      "415/415 [==============================] - 60s 144ms/step - loss: 0.6911 - accuracy: 0.7324 - precision: 0.7910 - recall: 0.6559 - val_loss: 0.7876 - val_accuracy: 0.6857 - val_precision: 0.7364 - val_recall: 0.6119\n",
      "Epoch 7/200\n",
      "415/415 [==============================] - 60s 145ms/step - loss: 0.6656 - accuracy: 0.7445 - precision: 0.8005 - recall: 0.6721 - val_loss: 0.6960 - val_accuracy: 0.7391 - val_precision: 0.7860 - val_recall: 0.6885\n",
      "Epoch 8/200\n",
      "415/415 [==============================] - 60s 146ms/step - loss: 0.6474 - accuracy: 0.7559 - precision: 0.8106 - recall: 0.6887 - val_loss: 0.7072 - val_accuracy: 0.7309 - val_precision: 0.7784 - val_recall: 0.6638\n",
      "Epoch 9/200\n",
      "415/415 [==============================] - 59s 141ms/step - loss: 0.6350 - accuracy: 0.7600 - precision: 0.8140 - recall: 0.6928 - val_loss: 0.7206 - val_accuracy: 0.7328 - val_precision: 0.7904 - val_recall: 0.6580\n",
      "Epoch 10/200\n",
      "415/415 [==============================] - 60s 145ms/step - loss: 0.6136 - accuracy: 0.7687 - precision: 0.8184 - recall: 0.7036 - val_loss: 0.6988 - val_accuracy: 0.7343 - val_precision: 0.7868 - val_recall: 0.6806\n",
      "Epoch 11/200\n",
      "415/415 [==============================] - 58s 140ms/step - loss: 0.5875 - accuracy: 0.7776 - precision: 0.8264 - recall: 0.7184 - val_loss: 0.6913 - val_accuracy: 0.7376 - val_precision: 0.7778 - val_recall: 0.6918\n",
      "Epoch 12/200\n",
      "415/415 [==============================] - 57s 138ms/step - loss: 0.5711 - accuracy: 0.7830 - precision: 0.8294 - recall: 0.7273 - val_loss: 0.6725 - val_accuracy: 0.7526 - val_precision: 0.8006 - val_recall: 0.6978\n",
      "Epoch 13/200\n",
      "415/415 [==============================] - 57s 138ms/step - loss: 0.5530 - accuracy: 0.7911 - precision: 0.8361 - recall: 0.7372 - val_loss: 0.6741 - val_accuracy: 0.7502 - val_precision: 0.7990 - val_recall: 0.6996\n",
      "Epoch 14/200\n",
      "415/415 [==============================] - 57s 138ms/step - loss: 0.5269 - accuracy: 0.8004 - precision: 0.8461 - recall: 0.7518 - val_loss: 0.6802 - val_accuracy: 0.7532 - val_precision: 0.7934 - val_recall: 0.7071\n",
      "Epoch 15/200\n",
      "415/415 [==============================] - 59s 141ms/step - loss: 0.5186 - accuracy: 0.8028 - precision: 0.8437 - recall: 0.7550 - val_loss: 0.6860 - val_accuracy: 0.7460 - val_precision: 0.7865 - val_recall: 0.6948\n",
      "Epoch 16/200\n",
      "415/415 [==============================] - 60s 144ms/step - loss: 0.5008 - accuracy: 0.8096 - precision: 0.8498 - recall: 0.7623 - val_loss: 0.6685 - val_accuracy: 0.7653 - val_precision: 0.7991 - val_recall: 0.7264\n",
      "Epoch 17/200\n",
      "415/415 [==============================] - 62s 150ms/step - loss: 0.4776 - accuracy: 0.8202 - precision: 0.8598 - recall: 0.7785 - val_loss: 0.7240 - val_accuracy: 0.7596 - val_precision: 0.7902 - val_recall: 0.7129\n",
      "Epoch 18/200\n",
      "415/415 [==============================] - 61s 146ms/step - loss: 0.4580 - accuracy: 0.8285 - precision: 0.8659 - recall: 0.7871 - val_loss: 0.7243 - val_accuracy: 0.7469 - val_precision: 0.7725 - val_recall: 0.7204\n",
      "Epoch 19/200\n",
      "415/415 [==============================] - 57s 138ms/step - loss: 0.4407 - accuracy: 0.8355 - precision: 0.8713 - recall: 0.7983 - val_loss: 0.7231 - val_accuracy: 0.7496 - val_precision: 0.7780 - val_recall: 0.7126\n",
      "Epoch 20/200\n",
      "415/415 [==============================] - 57s 137ms/step - loss: 0.4298 - accuracy: 0.8370 - precision: 0.8717 - recall: 0.8017 - val_loss: 0.7452 - val_accuracy: 0.7584 - val_precision: 0.7810 - val_recall: 0.7294\n",
      "Epoch 21/200\n",
      "415/415 [==============================] - ETA: 0s - loss: 0.4113 - accuracy: 0.8470 - precision: 0.8790 - recall: 0.8113Restoring model weights from the end of the best epoch: 16.\n",
      "415/415 [==============================] - 58s 141ms/step - loss: 0.4113 - accuracy: 0.8470 - precision: 0.8790 - recall: 0.8113 - val_loss: 0.7649 - val_accuracy: 0.7457 - val_precision: 0.7738 - val_recall: 0.6999\n",
      "Epoch 21: early stopping\n"
     ]
    }
   ],
   "source": [
    "model5 = initialize_model()\n",
    "\n",
    "es = EarlyStopping(monitor = 'val_accuracy', \n",
    "                   mode = 'max', \n",
    "                   patience = 5, \n",
    "                   verbose = 1, \n",
    "                   restore_best_weights = True)\n",
    "\n",
    "history5 = model5.fit(X_train,y_train,\n",
    "                    validation_split=0.2,\n",
    "                    epochs=200, \n",
    "                    batch_size=32,\n",
    "                    callbacks=[es])"
   ]
  },
  {
   "cell_type": "code",
   "execution_count": 182,
   "id": "fe0df659",
   "metadata": {},
   "outputs": [
    {
     "data": {
      "image/png": "[encoded data removed]",
      "text/plain": [
       "<Figure size 1440x504 with 2 Axes>"
      ]
     },
     "metadata": {
      "needs_background": "light"
     },
     "output_type": "display_data"
    }
   ],
   "source": [
    "plot_loss_accuracy(history5, title=None)"
   ]
  },
  {
   "cell_type": "code",
   "execution_count": 183,
   "id": "f322198a",
   "metadata": {},
   "outputs": [
    {
     "data": {
      "text/plain": [
       "[0.6513257622718811,\n",
       " 0.7591394782066345,\n",
       " 0.8351158499717712,\n",
       " 0.6587457656860352]"
      ]
     },
     "execution_count": 183,
     "metadata": {},
     "output_type": "execute_result"
    }
   ],
   "source": [
    "model5.evaluate(X_test, y_test, verbose = 0)"
   ]
  },
  {
   "cell_type": "code",
   "execution_count": 170,
   "id": "0da21df4",
   "metadata": {},
   "outputs": [],
   "source": [
    "predictions=model.predict(X_test)"
   ]
  },
  {
   "cell_type": "code",
   "execution_count": 171,
   "id": "d5e55e98",
   "metadata": {},
   "outputs": [],
   "source": [
    "y_test_1d=[np.argmax(y) for y in y_test]\n",
    "predictions_1d=[np.argmax(y) for y in predictions]"
   ]
  },
  {
   "cell_type": "code",
   "execution_count": 172,
   "id": "11c6f45e",
   "metadata": {},
   "outputs": [
    {
     "data": {
      "text/html": [
       "<div>\n",
       "<style scoped>\n",
       "    .dataframe tbody tr th:only-of-type {\n",
       "        vertical-align: middle;\n",
       "    }\n",
       "\n",
       "    .dataframe tbody tr th {\n",
       "        vertical-align: top;\n",
       "    }\n",
       "\n",
       "    .dataframe thead th {\n",
       "        text-align: right;\n",
       "    }\n",
       "</style>\n",
       "<table border=\"1\" class=\"dataframe\">\n",
       "  <thead>\n",
       "    <tr style=\"text-align: right;\">\n",
       "      <th></th>\n",
       "      <th>y_test</th>\n",
       "      <th>predictions</th>\n",
       "      <th>results</th>\n",
       "    </tr>\n",
       "  </thead>\n",
       "  <tbody>\n",
       "    <tr>\n",
       "      <th>0</th>\n",
       "      <td>1</td>\n",
       "      <td>2</td>\n",
       "      <td>False</td>\n",
       "    </tr>\n",
       "    <tr>\n",
       "      <th>1</th>\n",
       "      <td>0</td>\n",
       "      <td>2</td>\n",
       "      <td>False</td>\n",
       "    </tr>\n",
       "    <tr>\n",
       "      <th>2</th>\n",
       "      <td>1</td>\n",
       "      <td>1</td>\n",
       "      <td>True</td>\n",
       "    </tr>\n",
       "    <tr>\n",
       "      <th>3</th>\n",
       "      <td>0</td>\n",
       "      <td>0</td>\n",
       "      <td>True</td>\n",
       "    </tr>\n",
       "    <tr>\n",
       "      <th>4</th>\n",
       "      <td>3</td>\n",
       "      <td>3</td>\n",
       "      <td>True</td>\n",
       "    </tr>\n",
       "    <tr>\n",
       "      <th>...</th>\n",
       "      <td>...</td>\n",
       "      <td>...</td>\n",
       "      <td>...</td>\n",
       "    </tr>\n",
       "    <tr>\n",
       "      <th>7107</th>\n",
       "      <td>1</td>\n",
       "      <td>1</td>\n",
       "      <td>True</td>\n",
       "    </tr>\n",
       "    <tr>\n",
       "      <th>7108</th>\n",
       "      <td>0</td>\n",
       "      <td>0</td>\n",
       "      <td>True</td>\n",
       "    </tr>\n",
       "    <tr>\n",
       "      <th>7109</th>\n",
       "      <td>0</td>\n",
       "      <td>0</td>\n",
       "      <td>True</td>\n",
       "    </tr>\n",
       "    <tr>\n",
       "      <th>7110</th>\n",
       "      <td>0</td>\n",
       "      <td>0</td>\n",
       "      <td>True</td>\n",
       "    </tr>\n",
       "    <tr>\n",
       "      <th>7111</th>\n",
       "      <td>3</td>\n",
       "      <td>3</td>\n",
       "      <td>True</td>\n",
       "    </tr>\n",
       "  </tbody>\n",
       "</table>\n",
       "<p>7112 rows × 3 columns</p>\n",
       "</div>"
      ],
      "text/plain": [
       "      y_test  predictions  results\n",
       "0          1            2    False\n",
       "1          0            2    False\n",
       "2          1            1     True\n",
       "3          0            0     True\n",
       "4          3            3     True\n",
       "...      ...          ...      ...\n",
       "7107       1            1     True\n",
       "7108       0            0     True\n",
       "7109       0            0     True\n",
       "7110       0            0     True\n",
       "7111       3            3     True\n",
       "\n",
       "[7112 rows x 3 columns]"
      ]
     },
     "execution_count": 172,
     "metadata": {},
     "output_type": "execute_result"
    }
   ],
   "source": [
    "dict={'y_test':y_test_1d,'predictions':predictions_1d}\n",
    "df=pd.DataFrame.from_dict(dict)\n",
    "df['results']=(df['y_test']==df['predictions'])\n",
    "df"
   ]
  },
  {
   "cell_type": "code",
   "execution_count": 173,
   "id": "37b59d83",
   "metadata": {},
   "outputs": [
    {
     "data": {
      "text/plain": [
       "y_test\n",
       "0    0.834476\n",
       "1    0.804878\n",
       "2    0.722278\n",
       "3    0.539823\n",
       "Name: results, dtype: float64"
      ]
     },
     "execution_count": 173,
     "metadata": {},
     "output_type": "execute_result"
    }
   ],
   "source": [
    "df.groupby(['y_test']).mean()['results']"
   ]
  },
  {
   "cell_type": "markdown",
   "id": "1f7fcb80",
   "metadata": {},
   "source": [
    "# Miroring image"
   ]
  },
  {
   "cell_type": "code",
   "execution_count": 222,
   "id": "c25a1d5a",
   "metadata": {},
   "outputs": [],
   "source": [
    "from PIL import Image, ImageOps\n",
    "import matplotlib.pyplot as plt"
   ]
  },
  {
   "cell_type": "code",
   "execution_count": 217,
   "id": "0e9864f4",
   "metadata": {},
   "outputs": [
    {
     "data": {
      "text/plain": [
       "(48, 48)"
      ]
     },
     "execution_count": 217,
     "metadata": {},
     "output_type": "execute_result"
    }
   ],
   "source": [
    "np.array(data['pixels'][0]).reshape((48,48))"
   ]
  },
  {
   "cell_type": "code",
   "execution_count": 215,
   "id": "c3ac40da",
   "metadata": {},
   "outputs": [
    {
     "data": {
      "text/plain": [
       "(1, 48, 48, 1)"
      ]
     },
     "execution_count": 215,
     "metadata": {},
     "output_type": "execute_result"
    }
   ],
   "source": [
    "np.reshape(data['pixels'][0].tolist(), (-1, 48, 48,1)).shape"
   ]
  },
  {
   "cell_type": "code",
   "execution_count": 218,
   "id": "637702f0",
   "metadata": {},
   "outputs": [
    {
     "data": {
      "text/plain": [
       "<matplotlib.image.AxesImage at 0x7f06bb8b1e80>"
      ]
     },
     "execution_count": 218,
     "metadata": {},
     "output_type": "execute_result"
    },
    {
     "data": {
      "image/png": "[encoded data removed]",
      "text/plain": [
       "<Figure size 432x288 with 1 Axes>"
      ]
     },
     "metadata": {
      "needs_background": "light"
     },
     "output_type": "display_data"
    }
   ],
   "source": [
    "plt.imshow(np.array(data['pixels'][0]).reshape((48,48)),cmap='gray')"
   ]
  },
  {
   "cell_type": "code",
   "execution_count": 235,
   "id": "73b896be",
   "metadata": {},
   "outputs": [
    {
     "data": {
      "image/png": "[encoded data removed]",
      "text/plain": [
       "<PIL.Image.Image image mode=L size=48x48 at 0x7F06A5A258E0>"
      ]
     },
     "execution_count": 235,
     "metadata": {},
     "output_type": "execute_result"
    }
   ],
   "source": [
    "array=np.uint8(data['pixels'][0].reshape((48,48)))\n",
    "img=Image.fromarray(array, 'L')\n",
    "img"
   ]
  },
  {
   "cell_type": "code",
   "execution_count": 233,
   "id": "14de293b",
   "metadata": {},
   "outputs": [
    {
     "data": {
      "image/png": "[encoded data removed]",
      "text/plain": [
       "<PIL.Image.Image image mode=L size=48x48 at 0x7F06BB863D00>"
      ]
     },
     "execution_count": 233,
     "metadata": {},
     "output_type": "execute_result"
    }
   ],
   "source": [
    "img_mirror=ImageOps.mirror(img)\n",
    "img_mirror"
   ]
  },
  {
   "cell_type": "code",
   "execution_count": 234,
   "id": "c98a2a51",
   "metadata": {},
   "outputs": [
    {
     "data": {
      "text/plain": [
       "array([ 53.,  99., 118., ..., 142., 135., 115.], dtype=float32)"
      ]
     },
     "execution_count": 234,
     "metadata": {},
     "output_type": "execute_result"
    }
   ],
   "source": [
    "img_mirror = img_mirror.getdata()\n",
    "image_array = np.array(img_mirror, dtype=np.float32)\n",
    "image_array"
   ]
  },
  {
   "cell_type": "code",
   "execution_count": 228,
   "id": "f0a716c4",
   "metadata": {},
   "outputs": [
    {
     "data": {
      "text/plain": [
       "array([129., 128., 128., ..., 146., 146., 146.], dtype=float32)"
      ]
     },
     "execution_count": 228,
     "metadata": {},
     "output_type": "execute_result"
    }
   ],
   "source": [
    "data['pixels'][0]"
   ]
  },
  {
   "cell_type": "code",
   "execution_count": 237,
   "id": "0b0b85fb",
   "metadata": {},
   "outputs": [],
   "source": [
    "def pixel_mirroring(pixel):\n",
    "    array=np.uint8(pixel.reshape((48,48)))\n",
    "    img=Image.fromarray(array, 'L')\n",
    "    img=ImageOps.mirror(img)\n",
    "    img=img.getdata()\n",
    "    pixel_mirror=np.array(img, dtype=np.float32)\n",
    "    return pixel_mirror\n",
    "        "
   ]
  },
  {
   "cell_type": "code",
   "execution_count": 243,
   "id": "b7bbca9a",
   "metadata": {},
   "outputs": [
    {
     "data": {
      "image/png": "[encoded data removed]",
      "text/plain": [
       "<PIL.Image.Image image mode=L size=48x48 at 0x7F06BB86A670>"
      ]
     },
     "execution_count": 243,
     "metadata": {},
     "output_type": "execute_result"
    }
   ],
   "source": [
    "Image.fromarray(np.uint8(pixel_mirroring(data['pixels'][0]).reshape((48,48))), 'L')"
   ]
  },
  {
   "cell_type": "code",
   "execution_count": 244,
   "id": "5b06c979",
   "metadata": {},
   "outputs": [],
   "source": [
    "hispanics=data[data['ethnicity']==4]"
   ]
  },
  {
   "cell_type": "code",
   "execution_count": 247,
   "id": "7f2b14a1",
   "metadata": {},
   "outputs": [
    {
     "data": {
      "text/html": [
       "<div>\n",
       "<style scoped>\n",
       "    .dataframe tbody tr th:only-of-type {\n",
       "        vertical-align: middle;\n",
       "    }\n",
       "\n",
       "    .dataframe tbody tr th {\n",
       "        vertical-align: top;\n",
       "    }\n",
       "\n",
       "    .dataframe thead th {\n",
       "        text-align: right;\n",
       "    }\n",
       "</style>\n",
       "<table border=\"1\" class=\"dataframe\">\n",
       "  <thead>\n",
       "    <tr style=\"text-align: right;\">\n",
       "      <th></th>\n",
       "      <th>age</th>\n",
       "      <th>ethnicity</th>\n",
       "      <th>gender</th>\n",
       "      <th>img_name</th>\n",
       "      <th>pixels</th>\n",
       "    </tr>\n",
       "  </thead>\n",
       "  <tbody>\n",
       "    <tr>\n",
       "      <th>161</th>\n",
       "      <td>1</td>\n",
       "      <td>4</td>\n",
       "      <td>0</td>\n",
       "      <td>20161221192604164.jpg.chip.jpg</td>\n",
       "      <td>[180.0, 160.0, 56.0, 73.0, 76.0, 73.0, 80.0, 8...</td>\n",
       "    </tr>\n",
       "    <tr>\n",
       "      <th>162</th>\n",
       "      <td>1</td>\n",
       "      <td>4</td>\n",
       "      <td>0</td>\n",
       "      <td>20161221192855037.jpg.chip.jpg</td>\n",
       "      <td>[116.0, 120.0, 127.0, 137.0, 151.0, 158.0, 160...</td>\n",
       "    </tr>\n",
       "    <tr>\n",
       "      <th>163</th>\n",
       "      <td>1</td>\n",
       "      <td>4</td>\n",
       "      <td>0</td>\n",
       "      <td>20161221193016140.jpg.chip.jpg</td>\n",
       "      <td>[150.0, 87.0, 78.0, 83.0, 41.0, 12.0, 11.0, 20...</td>\n",
       "    </tr>\n",
       "    <tr>\n",
       "      <th>164</th>\n",
       "      <td>1</td>\n",
       "      <td>4</td>\n",
       "      <td>0</td>\n",
       "      <td>20161221193041157.jpg.chip.jpg</td>\n",
       "      <td>[186.0, 149.0, 73.0, 57.0, 67.0, 73.0, 67.0, 5...</td>\n",
       "    </tr>\n",
       "    <tr>\n",
       "      <th>165</th>\n",
       "      <td>1</td>\n",
       "      <td>4</td>\n",
       "      <td>0</td>\n",
       "      <td>20161221193434166.jpg.chip.jpg</td>\n",
       "      <td>[209.0, 210.0, 210.0, 207.0, 170.0, 56.0, 117....</td>\n",
       "    </tr>\n",
       "  </tbody>\n",
       "</table>\n",
       "</div>"
      ],
      "text/plain": [
       "     age  ethnicity  gender                        img_name  \\\n",
       "161    1          4       0  20161221192604164.jpg.chip.jpg   \n",
       "162    1          4       0  20161221192855037.jpg.chip.jpg   \n",
       "163    1          4       0  20161221193016140.jpg.chip.jpg   \n",
       "164    1          4       0  20161221193041157.jpg.chip.jpg   \n",
       "165    1          4       0  20161221193434166.jpg.chip.jpg   \n",
       "\n",
       "                                                pixels  \n",
       "161  [180.0, 160.0, 56.0, 73.0, 76.0, 73.0, 80.0, 8...  \n",
       "162  [116.0, 120.0, 127.0, 137.0, 151.0, 158.0, 160...  \n",
       "163  [150.0, 87.0, 78.0, 83.0, 41.0, 12.0, 11.0, 20...  \n",
       "164  [186.0, 149.0, 73.0, 57.0, 67.0, 73.0, 67.0, 5...  \n",
       "165  [209.0, 210.0, 210.0, 207.0, 170.0, 56.0, 117....  "
      ]
     },
     "execution_count": 247,
     "metadata": {},
     "output_type": "execute_result"
    }
   ],
   "source": [
    "hispanics_mirrored=hispanics.copy()\n",
    "hispanics_mirrored['pixels']=hispanics_mirrored['pixels'].apply(pixel_mirroring)\n",
    "hispanics_mirrored.head()"
   ]
  },
  {
   "cell_type": "code",
   "execution_count": 248,
   "id": "050876ed",
   "metadata": {},
   "outputs": [
    {
     "data": {
      "image/png": "[encoded data removed]",
      "text/plain": [
       "<PIL.Image.Image image mode=L size=48x48 at 0x7F069D242C10>"
      ]
     },
     "execution_count": 248,
     "metadata": {},
     "output_type": "execute_result"
    }
   ],
   "source": [
    "Image.fromarray(np.uint8(pixel_mirroring(hispanics_mirrored['pixels'][161]).reshape((48,48))), 'L')"
   ]
  },
  {
   "cell_type": "code",
   "execution_count": 249,
   "id": "bc4ff10b",
   "metadata": {},
   "outputs": [
    {
     "data": {
      "image/png": "[encoded data removed]",
      "text/plain": [
       "<PIL.Image.Image image mode=L size=48x48 at 0x7F069CF22CD0>"
      ]
     },
     "execution_count": 249,
     "metadata": {},
     "output_type": "execute_result"
    }
   ],
   "source": [
    "Image.fromarray(np.uint8(pixel_mirroring(hispanics['pixels'][161]).reshape((48,48))), 'L')"
   ]
  }
 ],
 "metadata": {
  "kernelspec": {
   "display_name": "Python 3 (ipykernel)",
   "language": "python",
   "name": "python3"
  },
  "language_info": {
   "codemirror_mode": {
    "name": "ipython",
    "version": 3
   },
   "file_extension": ".py",
   "mimetype": "text/x-python",
   "name": "python",
   "nbconvert_exporter": "python",
   "pygments_lexer": "ipython3",
   "version": "3.8.12"
  },
  "toc": {
   "base_numbering": 1,
   "nav_menu": {},
   "number_sections": true,
   "sideBar": true,
   "skip_h1_title": false,
   "title_cell": "Table of Contents",
   "title_sidebar": "Contents",
   "toc_cell": false,
   "toc_position": {},
   "toc_section_display": true,
   "toc_window_display": false
  }
 },
 "nbformat": 4,
 "nbformat_minor": 5
}
