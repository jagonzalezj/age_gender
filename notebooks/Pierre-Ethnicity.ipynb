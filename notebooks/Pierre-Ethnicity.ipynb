{
 "cells": [
  {
   "cell_type": "code",
   "execution_count": 1,
   "id": "406435b4",
   "metadata": {},
   "outputs": [],
   "source": [
    "# Ethnicity labels\n",
    "ETHNICITIES = { \n",
    "    0: \"White\", \n",
    "    1: \"Black\",\n",
    "    2: \"Asian\",\n",
    "    3: \"Indian\",\n",
    "    4: \"Hispanic\"\n",
    "}\n",
    "\n",
    "# Gender labels\n",
    "GENDERS = { \n",
    "    0: \"Male\", \n",
    "    1: \"Female\"\n",
    "}\n"
   ]
  },
  {
   "cell_type": "code",
   "execution_count": 2,
   "id": "ee5c18c8",
   "metadata": {},
   "outputs": [],
   "source": [
    "import pandas as pd\n",
    "import matplotlib.pyplot as plt\n",
    "import seaborn as sns\n",
    "import numpy as np\n",
    "\n",
    "from PIL import Image"
   ]
  },
  {
   "cell_type": "markdown",
   "id": "eb242c89",
   "metadata": {},
   "source": [
    "# Get images"
   ]
  },
  {
   "cell_type": "code",
   "execution_count": 5,
   "id": "4c8d6412",
   "metadata": {},
   "outputs": [
    {
     "data": {
      "text/html": [
       "<div>\n",
       "<style scoped>\n",
       "    .dataframe tbody tr th:only-of-type {\n",
       "        vertical-align: middle;\n",
       "    }\n",
       "\n",
       "    .dataframe tbody tr th {\n",
       "        vertical-align: top;\n",
       "    }\n",
       "\n",
       "    .dataframe thead th {\n",
       "        text-align: right;\n",
       "    }\n",
       "</style>\n",
       "<table border=\"1\" class=\"dataframe\">\n",
       "  <thead>\n",
       "    <tr style=\"text-align: right;\">\n",
       "      <th></th>\n",
       "      <th>Unnamed: 0</th>\n",
       "      <th>age</th>\n",
       "      <th>ethnicity</th>\n",
       "      <th>gender</th>\n",
       "      <th>img_name</th>\n",
       "      <th>pixels</th>\n",
       "    </tr>\n",
       "  </thead>\n",
       "  <tbody>\n",
       "    <tr>\n",
       "      <th>0</th>\n",
       "      <td>15964</td>\n",
       "      <td>40</td>\n",
       "      <td>0</td>\n",
       "      <td>0</td>\n",
       "      <td>20170117154530911.jpg.chip.jpg</td>\n",
       "      <td>207 38 58 78 113 127 126 116 132 150 157 152 1...</td>\n",
       "    </tr>\n",
       "    <tr>\n",
       "      <th>1</th>\n",
       "      <td>1745</td>\n",
       "      <td>15</td>\n",
       "      <td>0</td>\n",
       "      <td>1</td>\n",
       "      <td>20170109214626752.jpg.chip.jpg</td>\n",
       "      <td>135 133 70 48 29 19 18 41 70 82 89 98 107 108 ...</td>\n",
       "    </tr>\n",
       "    <tr>\n",
       "      <th>2</th>\n",
       "      <td>22721</td>\n",
       "      <td>8</td>\n",
       "      <td>4</td>\n",
       "      <td>1</td>\n",
       "      <td>20170104005525759.jpg.chip.jpg</td>\n",
       "      <td>49 40 64 75 76 74 95 107 115 123 129 137 148 1...</td>\n",
       "    </tr>\n",
       "    <tr>\n",
       "      <th>3</th>\n",
       "      <td>17266</td>\n",
       "      <td>46</td>\n",
       "      <td>0</td>\n",
       "      <td>1</td>\n",
       "      <td>20170104235246210.jpg.chip.jpg</td>\n",
       "      <td>128 125 131 124 67 10 6 19 27 80 166 199 208 2...</td>\n",
       "    </tr>\n",
       "    <tr>\n",
       "      <th>4</th>\n",
       "      <td>7119</td>\n",
       "      <td>26</td>\n",
       "      <td>1</td>\n",
       "      <td>0</td>\n",
       "      <td>20170116233450112.jpg.chip.jpg</td>\n",
       "      <td>69 79 90 94 96 94 90 88 86 88 85 84 83 83 83 8...</td>\n",
       "    </tr>\n",
       "  </tbody>\n",
       "</table>\n",
       "</div>"
      ],
      "text/plain": [
       "   Unnamed: 0  age  ethnicity  gender                        img_name  \\\n",
       "0       15964   40          0       0  20170117154530911.jpg.chip.jpg   \n",
       "1        1745   15          0       1  20170109214626752.jpg.chip.jpg   \n",
       "2       22721    8          4       1  20170104005525759.jpg.chip.jpg   \n",
       "3       17266   46          0       1  20170104235246210.jpg.chip.jpg   \n",
       "4        7119   26          1       0  20170116233450112.jpg.chip.jpg   \n",
       "\n",
       "                                              pixels  \n",
       "0  207 38 58 78 113 127 126 116 132 150 157 152 1...  \n",
       "1  135 133 70 48 29 19 18 41 70 82 89 98 107 108 ...  \n",
       "2  49 40 64 75 76 74 95 107 115 123 129 137 148 1...  \n",
       "3  128 125 131 124 67 10 6 19 27 80 166 199 208 2...  \n",
       "4  69 79 90 94 96 94 90 88 86 88 85 84 83 83 83 8...  "
      ]
     },
     "execution_count": 5,
     "metadata": {},
     "output_type": "execute_result"
    }
   ],
   "source": [
    "data=pd.read_csv('../raw_data/age_gender_light.csv')\n",
    "data.head()"
   ]
  },
  {
   "cell_type": "code",
   "execution_count": 4,
   "id": "8ae1127f",
   "metadata": {},
   "outputs": [
    {
     "data": {
      "text/plain": [
       "<matplotlib.image.AxesImage at 0x7f63297a7340>"
      ]
     },
     "execution_count": 4,
     "metadata": {},
     "output_type": "execute_result"
    },
    {
     "data": {
      "image/png": "[encoded data removed]",
      "text/plain": [
       "<Figure size 432x288 with 1 Axes>"
      ]
     },
     "metadata": {
      "needs_background": "light"
     },
     "output_type": "display_data"
    }
   ],
   "source": [
    "plt.imshow(np.array(data['pixels'][3].split(),dtype='float').reshape((48,48)),cmap='gray')"
   ]
  },
  {
   "cell_type": "code",
   "execution_count": 5,
   "id": "dce1600e",
   "metadata": {},
   "outputs": [],
   "source": [
    "def to_img_48_48(pixel):\n",
    "    return np.array(pixel.split(),dtype='float').reshape((48,48))\n",
    "\n",
    "def to_img_48_48_3(pixel):\n",
    "    layer=to_img_48_48(pixel)\n",
    "    return np.array(np.dstack([layer, layer, layer]),dtype='int')\n",
    "\n",
    "def to_img_224_224(pixel):\n",
    "    img=Image.fromarray(np.uint8(to_img_48_48(pixel)), 'L')\n",
    "    new_size=(224,224)\n",
    "    img=img.resize(new_size)\n",
    "    img = img.getdata()\n",
    "    image_array = np.array(img)\n",
    "    image_array.resize(new_size)\n",
    "    return image_array\n",
    "\n",
    "def to_img_224_224_3(img_224_224):\n",
    "    layer=img_224_224\n",
    "    return np.array(np.dstack([layer, layer, layer]),dtype='int')\n"
   ]
  },
  {
   "cell_type": "code",
   "execution_count": 6,
   "id": "4b87cb2c",
   "metadata": {},
   "outputs": [],
   "source": [
    "data=data.sample(2500).reset_index()"
   ]
  },
  {
   "cell_type": "code",
   "execution_count": 7,
   "id": "537b0299",
   "metadata": {},
   "outputs": [],
   "source": [
    "data['images']=data['pixels'].apply(to_img_224_224)\n"
   ]
  },
  {
   "cell_type": "code",
   "execution_count": 8,
   "id": "49c528a6",
   "metadata": {},
   "outputs": [],
   "source": [
    "data['images_3']=data['images'].apply(to_img_224_224_3)"
   ]
  },
  {
   "cell_type": "code",
   "execution_count": 9,
   "id": "c0fba957",
   "metadata": {},
   "outputs": [
    {
     "data": {
      "text/html": [
       "<div>\n",
       "<style scoped>\n",
       "    .dataframe tbody tr th:only-of-type {\n",
       "        vertical-align: middle;\n",
       "    }\n",
       "\n",
       "    .dataframe tbody tr th {\n",
       "        vertical-align: top;\n",
       "    }\n",
       "\n",
       "    .dataframe thead th {\n",
       "        text-align: right;\n",
       "    }\n",
       "</style>\n",
       "<table border=\"1\" class=\"dataframe\">\n",
       "  <thead>\n",
       "    <tr style=\"text-align: right;\">\n",
       "      <th></th>\n",
       "      <th>index</th>\n",
       "      <th>age</th>\n",
       "      <th>ethnicity</th>\n",
       "      <th>gender</th>\n",
       "      <th>img_name</th>\n",
       "      <th>pixels</th>\n",
       "      <th>images</th>\n",
       "      <th>images_3</th>\n",
       "    </tr>\n",
       "  </thead>\n",
       "  <tbody>\n",
       "    <tr>\n",
       "      <th>0</th>\n",
       "      <td>22855</td>\n",
       "      <td>8</td>\n",
       "      <td>0</td>\n",
       "      <td>1</td>\n",
       "      <td>20170104005606487.jpg.chip.jpg</td>\n",
       "      <td>8 9 15 33 52 65 70 75 83 91 98 105 109 108 110...</td>\n",
       "      <td>[[8, 8, 8, 8, 8, 8, 9, 9, 10, 11, 13, 15, 17, ...</td>\n",
       "      <td>[[[8, 8, 8], [8, 8, 8], [8, 8, 8], [8, 8, 8], ...</td>\n",
       "    </tr>\n",
       "    <tr>\n",
       "      <th>1</th>\n",
       "      <td>15116</td>\n",
       "      <td>39</td>\n",
       "      <td>1</td>\n",
       "      <td>0</td>\n",
       "      <td>20170117185039604.jpg.chip.jpg</td>\n",
       "      <td>229 210 140 72 74 75 74 70 65 64 64 62 62 64 6...</td>\n",
       "      <td>[[230, 229, 228, 227, 225, 221, 215, 206, 194,...</td>\n",
       "      <td>[[[230, 230, 230], [229, 229, 229], [228, 228,...</td>\n",
       "    </tr>\n",
       "    <tr>\n",
       "      <th>2</th>\n",
       "      <td>3804</td>\n",
       "      <td>22</td>\n",
       "      <td>2</td>\n",
       "      <td>1</td>\n",
       "      <td>20170116170405273.jpg.chip.jpg</td>\n",
       "      <td>0 0 0 0 4 64 129 22 12 13 12 11 12 9 14 18 29 ...</td>\n",
       "      <td>[[0, 0, 0, 0, 0, 0, 0, 0, 0, 0, 0, 0, 0, 0, 0,...</td>\n",
       "      <td>[[[0, 0, 0], [0, 0, 0], [0, 0, 0], [0, 0, 0], ...</td>\n",
       "    </tr>\n",
       "    <tr>\n",
       "      <th>3</th>\n",
       "      <td>23059</td>\n",
       "      <td>82</td>\n",
       "      <td>0</td>\n",
       "      <td>1</td>\n",
       "      <td>20170109150955073.jpg.chip.jpg</td>\n",
       "      <td>199 174 144 159 172 165 147 138 151 150 162 18...</td>\n",
       "      <td>[[203, 202, 200, 195, 190, 184, 176, 170, 162,...</td>\n",
       "      <td>[[[203, 203, 203], [202, 202, 202], [200, 200,...</td>\n",
       "    </tr>\n",
       "    <tr>\n",
       "      <th>4</th>\n",
       "      <td>22577</td>\n",
       "      <td>78</td>\n",
       "      <td>1</td>\n",
       "      <td>0</td>\n",
       "      <td>20170117193425610.jpg.chip.jpg</td>\n",
       "      <td>142 120 95 87 74 73 55 51 46 57 55 58 61 61 70...</td>\n",
       "      <td>[[146, 145, 143, 138, 134, 129, 123, 117, 112,...</td>\n",
       "      <td>[[[146, 146, 146], [145, 145, 145], [143, 143,...</td>\n",
       "    </tr>\n",
       "  </tbody>\n",
       "</table>\n",
       "</div>"
      ],
      "text/plain": [
       "   index  age  ethnicity  gender                        img_name  \\\n",
       "0  22855    8          0       1  20170104005606487.jpg.chip.jpg   \n",
       "1  15116   39          1       0  20170117185039604.jpg.chip.jpg   \n",
       "2   3804   22          2       1  20170116170405273.jpg.chip.jpg   \n",
       "3  23059   82          0       1  20170109150955073.jpg.chip.jpg   \n",
       "4  22577   78          1       0  20170117193425610.jpg.chip.jpg   \n",
       "\n",
       "                                              pixels  \\\n",
       "0  8 9 15 33 52 65 70 75 83 91 98 105 109 108 110...   \n",
       "1  229 210 140 72 74 75 74 70 65 64 64 62 62 64 6...   \n",
       "2  0 0 0 0 4 64 129 22 12 13 12 11 12 9 14 18 29 ...   \n",
       "3  199 174 144 159 172 165 147 138 151 150 162 18...   \n",
       "4  142 120 95 87 74 73 55 51 46 57 55 58 61 61 70...   \n",
       "\n",
       "                                              images  \\\n",
       "0  [[8, 8, 8, 8, 8, 8, 9, 9, 10, 11, 13, 15, 17, ...   \n",
       "1  [[230, 229, 228, 227, 225, 221, 215, 206, 194,...   \n",
       "2  [[0, 0, 0, 0, 0, 0, 0, 0, 0, 0, 0, 0, 0, 0, 0,...   \n",
       "3  [[203, 202, 200, 195, 190, 184, 176, 170, 162,...   \n",
       "4  [[146, 145, 143, 138, 134, 129, 123, 117, 112,...   \n",
       "\n",
       "                                            images_3  \n",
       "0  [[[8, 8, 8], [8, 8, 8], [8, 8, 8], [8, 8, 8], ...  \n",
       "1  [[[230, 230, 230], [229, 229, 229], [228, 228,...  \n",
       "2  [[[0, 0, 0], [0, 0, 0], [0, 0, 0], [0, 0, 0], ...  \n",
       "3  [[[203, 203, 203], [202, 202, 202], [200, 200,...  \n",
       "4  [[[146, 146, 146], [145, 145, 145], [143, 143,...  "
      ]
     },
     "execution_count": 9,
     "metadata": {},
     "output_type": "execute_result"
    }
   ],
   "source": [
    "data.head()"
   ]
  },
  {
   "cell_type": "code",
   "execution_count": 10,
   "id": "2ca975d5",
   "metadata": {
    "scrolled": true
   },
   "outputs": [
    {
     "data": {
      "text/plain": [
       "<matplotlib.image.AxesImage at 0x7f6329633fd0>"
      ]
     },
     "execution_count": 10,
     "metadata": {},
     "output_type": "execute_result"
    },
    {
     "data": {
      "image/png": "[encoded data removed]",
      "text/plain": [
       "<Figure size 432x288 with 1 Axes>"
      ]
     },
     "metadata": {
      "needs_background": "light"
     },
     "output_type": "display_data"
    }
   ],
   "source": [
    "plt.imshow(data['images'][0],cmap='gray')"
   ]
  },
  {
   "cell_type": "code",
   "execution_count": 11,
   "id": "601047de",
   "metadata": {},
   "outputs": [
    {
     "data": {
      "text/plain": [
       "<matplotlib.image.AxesImage at 0x7f6329682a60>"
      ]
     },
     "execution_count": 11,
     "metadata": {},
     "output_type": "execute_result"
    },
    {
     "data": {
      "image/png": "[encoded data removed]",
      "text/plain": [
       "<Figure size 432x288 with 1 Axes>"
      ]
     },
     "metadata": {
      "needs_background": "light"
     },
     "output_type": "display_data"
    }
   ],
   "source": [
    "plt.imshow(data['images_3'][0],cmap='gray')"
   ]
  },
  {
   "cell_type": "markdown",
   "id": "dbb4769a",
   "metadata": {},
   "source": [
    "# Data viz"
   ]
  },
  {
   "cell_type": "markdown",
   "id": "cb561456",
   "metadata": {},
   "source": [
    "## Toolkit functions"
   ]
  },
  {
   "cell_type": "code",
   "execution_count": 12,
   "id": "5c11436e",
   "metadata": {},
   "outputs": [],
   "source": [
    "def ethnicity_label(index):\n",
    "    # Ethnicity labels\n",
    "    ETHNICITIES = { \n",
    "        0: \"White\", \n",
    "        1: \"Black\",\n",
    "        2: \"Asian\",\n",
    "        3: \"Indian\",\n",
    "        4: \"Hispanic\"\n",
    "    }\n",
    "\n",
    "    return ETHNICITIES[index]\n",
    "\n",
    "def gender_label(index):\n",
    "    # Gender labels\n",
    "    GENDERS = { \n",
    "        0: \"Male\", \n",
    "        1: \"Female\"\n",
    "    }\n",
    "\n",
    "    return GENDERS[index]\n",
    "\n",
    "def get_label(df):\n",
    "    df['ethnicity_label']=df['ethnicity'].map(ethnicity_label)\n",
    "    df['gender_label']=df['gender'].map(gender_label)\n",
    "    return df\n",
    "\n",
    "def display_feature(df,feature_name):\n",
    "    '''Display a countplot based on seaborn with a \"whitegrid\" style'''\n",
    "    fig = plt.figure(figsize=(10,6))\n",
    "    sns.set_style(\"whitegrid\")\n",
    "    ax = sns.countplot(x=df[feature_name],\n",
    "                       order=df[feature_name].value_counts(ascending=False).index);\n",
    "\n",
    "    abs_values = df[feature_name].value_counts(ascending=False).values\n",
    "\n",
    "    ax.bar_label(container=ax.containers[0], labels=abs_values)"
   ]
  },
  {
   "cell_type": "markdown",
   "id": "04a722bf",
   "metadata": {},
   "source": [
    "## Playing with data"
   ]
  },
  {
   "cell_type": "code",
   "execution_count": 13,
   "id": "217b2ffd",
   "metadata": {},
   "outputs": [
    {
     "data": {
      "text/html": [
       "<div>\n",
       "<style scoped>\n",
       "    .dataframe tbody tr th:only-of-type {\n",
       "        vertical-align: middle;\n",
       "    }\n",
       "\n",
       "    .dataframe tbody tr th {\n",
       "        vertical-align: top;\n",
       "    }\n",
       "\n",
       "    .dataframe thead th {\n",
       "        text-align: right;\n",
       "    }\n",
       "</style>\n",
       "<table border=\"1\" class=\"dataframe\">\n",
       "  <thead>\n",
       "    <tr style=\"text-align: right;\">\n",
       "      <th></th>\n",
       "      <th>index</th>\n",
       "      <th>age</th>\n",
       "      <th>ethnicity</th>\n",
       "      <th>gender</th>\n",
       "      <th>img_name</th>\n",
       "      <th>pixels</th>\n",
       "      <th>images</th>\n",
       "      <th>images_3</th>\n",
       "      <th>ethnicity_label</th>\n",
       "      <th>gender_label</th>\n",
       "    </tr>\n",
       "  </thead>\n",
       "  <tbody>\n",
       "    <tr>\n",
       "      <th>0</th>\n",
       "      <td>22855</td>\n",
       "      <td>8</td>\n",
       "      <td>0</td>\n",
       "      <td>1</td>\n",
       "      <td>20170104005606487.jpg.chip.jpg</td>\n",
       "      <td>8 9 15 33 52 65 70 75 83 91 98 105 109 108 110...</td>\n",
       "      <td>[[8, 8, 8, 8, 8, 8, 9, 9, 10, 11, 13, 15, 17, ...</td>\n",
       "      <td>[[[8, 8, 8], [8, 8, 8], [8, 8, 8], [8, 8, 8], ...</td>\n",
       "      <td>White</td>\n",
       "      <td>Female</td>\n",
       "    </tr>\n",
       "    <tr>\n",
       "      <th>1</th>\n",
       "      <td>15116</td>\n",
       "      <td>39</td>\n",
       "      <td>1</td>\n",
       "      <td>0</td>\n",
       "      <td>20170117185039604.jpg.chip.jpg</td>\n",
       "      <td>229 210 140 72 74 75 74 70 65 64 64 62 62 64 6...</td>\n",
       "      <td>[[230, 229, 228, 227, 225, 221, 215, 206, 194,...</td>\n",
       "      <td>[[[230, 230, 230], [229, 229, 229], [228, 228,...</td>\n",
       "      <td>Black</td>\n",
       "      <td>Male</td>\n",
       "    </tr>\n",
       "    <tr>\n",
       "      <th>2</th>\n",
       "      <td>3804</td>\n",
       "      <td>22</td>\n",
       "      <td>2</td>\n",
       "      <td>1</td>\n",
       "      <td>20170116170405273.jpg.chip.jpg</td>\n",
       "      <td>0 0 0 0 4 64 129 22 12 13 12 11 12 9 14 18 29 ...</td>\n",
       "      <td>[[0, 0, 0, 0, 0, 0, 0, 0, 0, 0, 0, 0, 0, 0, 0,...</td>\n",
       "      <td>[[[0, 0, 0], [0, 0, 0], [0, 0, 0], [0, 0, 0], ...</td>\n",
       "      <td>Asian</td>\n",
       "      <td>Female</td>\n",
       "    </tr>\n",
       "    <tr>\n",
       "      <th>3</th>\n",
       "      <td>23059</td>\n",
       "      <td>82</td>\n",
       "      <td>0</td>\n",
       "      <td>1</td>\n",
       "      <td>20170109150955073.jpg.chip.jpg</td>\n",
       "      <td>199 174 144 159 172 165 147 138 151 150 162 18...</td>\n",
       "      <td>[[203, 202, 200, 195, 190, 184, 176, 170, 162,...</td>\n",
       "      <td>[[[203, 203, 203], [202, 202, 202], [200, 200,...</td>\n",
       "      <td>White</td>\n",
       "      <td>Female</td>\n",
       "    </tr>\n",
       "    <tr>\n",
       "      <th>4</th>\n",
       "      <td>22577</td>\n",
       "      <td>78</td>\n",
       "      <td>1</td>\n",
       "      <td>0</td>\n",
       "      <td>20170117193425610.jpg.chip.jpg</td>\n",
       "      <td>142 120 95 87 74 73 55 51 46 57 55 58 61 61 70...</td>\n",
       "      <td>[[146, 145, 143, 138, 134, 129, 123, 117, 112,...</td>\n",
       "      <td>[[[146, 146, 146], [145, 145, 145], [143, 143,...</td>\n",
       "      <td>Black</td>\n",
       "      <td>Male</td>\n",
       "    </tr>\n",
       "  </tbody>\n",
       "</table>\n",
       "</div>"
      ],
      "text/plain": [
       "   index  age  ethnicity  gender                        img_name  \\\n",
       "0  22855    8          0       1  20170104005606487.jpg.chip.jpg   \n",
       "1  15116   39          1       0  20170117185039604.jpg.chip.jpg   \n",
       "2   3804   22          2       1  20170116170405273.jpg.chip.jpg   \n",
       "3  23059   82          0       1  20170109150955073.jpg.chip.jpg   \n",
       "4  22577   78          1       0  20170117193425610.jpg.chip.jpg   \n",
       "\n",
       "                                              pixels  \\\n",
       "0  8 9 15 33 52 65 70 75 83 91 98 105 109 108 110...   \n",
       "1  229 210 140 72 74 75 74 70 65 64 64 62 62 64 6...   \n",
       "2  0 0 0 0 4 64 129 22 12 13 12 11 12 9 14 18 29 ...   \n",
       "3  199 174 144 159 172 165 147 138 151 150 162 18...   \n",
       "4  142 120 95 87 74 73 55 51 46 57 55 58 61 61 70...   \n",
       "\n",
       "                                              images  \\\n",
       "0  [[8, 8, 8, 8, 8, 8, 9, 9, 10, 11, 13, 15, 17, ...   \n",
       "1  [[230, 229, 228, 227, 225, 221, 215, 206, 194,...   \n",
       "2  [[0, 0, 0, 0, 0, 0, 0, 0, 0, 0, 0, 0, 0, 0, 0,...   \n",
       "3  [[203, 202, 200, 195, 190, 184, 176, 170, 162,...   \n",
       "4  [[146, 145, 143, 138, 134, 129, 123, 117, 112,...   \n",
       "\n",
       "                                            images_3 ethnicity_label  \\\n",
       "0  [[[8, 8, 8], [8, 8, 8], [8, 8, 8], [8, 8, 8], ...           White   \n",
       "1  [[[230, 230, 230], [229, 229, 229], [228, 228,...           Black   \n",
       "2  [[[0, 0, 0], [0, 0, 0], [0, 0, 0], [0, 0, 0], ...           Asian   \n",
       "3  [[[203, 203, 203], [202, 202, 202], [200, 200,...           White   \n",
       "4  [[[146, 146, 146], [145, 145, 145], [143, 143,...           Black   \n",
       "\n",
       "  gender_label  \n",
       "0       Female  \n",
       "1         Male  \n",
       "2       Female  \n",
       "3       Female  \n",
       "4         Male  "
      ]
     },
     "execution_count": 13,
     "metadata": {},
     "output_type": "execute_result"
    }
   ],
   "source": [
    "data=get_label(data)\n",
    "data.head()"
   ]
  },
  {
   "cell_type": "code",
   "execution_count": 14,
   "id": "02f3092e",
   "metadata": {},
   "outputs": [
    {
     "data": {
      "image/png": "[encoded data removed]",
      "text/plain": [
       "<Figure size 720x432 with 1 Axes>"
      ]
     },
     "metadata": {
      "needs_background": "light"
     },
     "output_type": "display_data"
    }
   ],
   "source": [
    "display_feature(data,'ethnicity_label')"
   ]
  },
  {
   "cell_type": "code",
   "execution_count": 15,
   "id": "e6001687",
   "metadata": {},
   "outputs": [
    {
     "data": {
      "image/png": "[encoded data removed]",
      "text/plain": [
       "<Figure size 720x432 with 1 Axes>"
      ]
     },
     "metadata": {},
     "output_type": "display_data"
    }
   ],
   "source": [
    "display_feature(data,'gender_label')"
   ]
  },
  {
   "cell_type": "markdown",
   "id": "6b81902a",
   "metadata": {},
   "source": [
    "# Compute baseline"
   ]
  },
  {
   "cell_type": "markdown",
   "id": "27c5b4e5",
   "metadata": {},
   "source": [
    "## Ethnicity gender"
   ]
  },
  {
   "cell_type": "code",
   "execution_count": 16,
   "id": "9f16f28e",
   "metadata": {},
   "outputs": [],
   "source": [
    "import random"
   ]
  },
  {
   "cell_type": "code",
   "execution_count": 17,
   "id": "9549d61e",
   "metadata": {},
   "outputs": [
    {
     "data": {
      "text/html": [
       "<div>\n",
       "<style scoped>\n",
       "    .dataframe tbody tr th:only-of-type {\n",
       "        vertical-align: middle;\n",
       "    }\n",
       "\n",
       "    .dataframe tbody tr th {\n",
       "        vertical-align: top;\n",
       "    }\n",
       "\n",
       "    .dataframe thead th {\n",
       "        text-align: right;\n",
       "    }\n",
       "</style>\n",
       "<table border=\"1\" class=\"dataframe\">\n",
       "  <thead>\n",
       "    <tr style=\"text-align: right;\">\n",
       "      <th></th>\n",
       "      <th>index</th>\n",
       "      <th>age</th>\n",
       "      <th>ethnicity</th>\n",
       "      <th>gender</th>\n",
       "      <th>img_name</th>\n",
       "      <th>pixels</th>\n",
       "      <th>images</th>\n",
       "      <th>images_3</th>\n",
       "      <th>ethnicity_label</th>\n",
       "      <th>gender_label</th>\n",
       "      <th>test_gender</th>\n",
       "    </tr>\n",
       "  </thead>\n",
       "  <tbody>\n",
       "    <tr>\n",
       "      <th>0</th>\n",
       "      <td>22855</td>\n",
       "      <td>8</td>\n",
       "      <td>0</td>\n",
       "      <td>1</td>\n",
       "      <td>20170104005606487.jpg.chip.jpg</td>\n",
       "      <td>8 9 15 33 52 65 70 75 83 91 98 105 109 108 110...</td>\n",
       "      <td>[[8, 8, 8, 8, 8, 8, 9, 9, 10, 11, 13, 15, 17, ...</td>\n",
       "      <td>[[[8, 8, 8], [8, 8, 8], [8, 8, 8], [8, 8, 8], ...</td>\n",
       "      <td>White</td>\n",
       "      <td>Female</td>\n",
       "      <td>False</td>\n",
       "    </tr>\n",
       "    <tr>\n",
       "      <th>1</th>\n",
       "      <td>15116</td>\n",
       "      <td>39</td>\n",
       "      <td>1</td>\n",
       "      <td>0</td>\n",
       "      <td>20170117185039604.jpg.chip.jpg</td>\n",
       "      <td>229 210 140 72 74 75 74 70 65 64 64 62 62 64 6...</td>\n",
       "      <td>[[230, 229, 228, 227, 225, 221, 215, 206, 194,...</td>\n",
       "      <td>[[[230, 230, 230], [229, 229, 229], [228, 228,...</td>\n",
       "      <td>Black</td>\n",
       "      <td>Male</td>\n",
       "      <td>True</td>\n",
       "    </tr>\n",
       "    <tr>\n",
       "      <th>2</th>\n",
       "      <td>3804</td>\n",
       "      <td>22</td>\n",
       "      <td>2</td>\n",
       "      <td>1</td>\n",
       "      <td>20170116170405273.jpg.chip.jpg</td>\n",
       "      <td>0 0 0 0 4 64 129 22 12 13 12 11 12 9 14 18 29 ...</td>\n",
       "      <td>[[0, 0, 0, 0, 0, 0, 0, 0, 0, 0, 0, 0, 0, 0, 0,...</td>\n",
       "      <td>[[[0, 0, 0], [0, 0, 0], [0, 0, 0], [0, 0, 0], ...</td>\n",
       "      <td>Asian</td>\n",
       "      <td>Female</td>\n",
       "      <td>False</td>\n",
       "    </tr>\n",
       "    <tr>\n",
       "      <th>3</th>\n",
       "      <td>23059</td>\n",
       "      <td>82</td>\n",
       "      <td>0</td>\n",
       "      <td>1</td>\n",
       "      <td>20170109150955073.jpg.chip.jpg</td>\n",
       "      <td>199 174 144 159 172 165 147 138 151 150 162 18...</td>\n",
       "      <td>[[203, 202, 200, 195, 190, 184, 176, 170, 162,...</td>\n",
       "      <td>[[[203, 203, 203], [202, 202, 202], [200, 200,...</td>\n",
       "      <td>White</td>\n",
       "      <td>Female</td>\n",
       "      <td>False</td>\n",
       "    </tr>\n",
       "    <tr>\n",
       "      <th>4</th>\n",
       "      <td>22577</td>\n",
       "      <td>78</td>\n",
       "      <td>1</td>\n",
       "      <td>0</td>\n",
       "      <td>20170117193425610.jpg.chip.jpg</td>\n",
       "      <td>142 120 95 87 74 73 55 51 46 57 55 58 61 61 70...</td>\n",
       "      <td>[[146, 145, 143, 138, 134, 129, 123, 117, 112,...</td>\n",
       "      <td>[[[146, 146, 146], [145, 145, 145], [143, 143,...</td>\n",
       "      <td>Black</td>\n",
       "      <td>Male</td>\n",
       "      <td>True</td>\n",
       "    </tr>\n",
       "  </tbody>\n",
       "</table>\n",
       "</div>"
      ],
      "text/plain": [
       "   index  age  ethnicity  gender                        img_name  \\\n",
       "0  22855    8          0       1  20170104005606487.jpg.chip.jpg   \n",
       "1  15116   39          1       0  20170117185039604.jpg.chip.jpg   \n",
       "2   3804   22          2       1  20170116170405273.jpg.chip.jpg   \n",
       "3  23059   82          0       1  20170109150955073.jpg.chip.jpg   \n",
       "4  22577   78          1       0  20170117193425610.jpg.chip.jpg   \n",
       "\n",
       "                                              pixels  \\\n",
       "0  8 9 15 33 52 65 70 75 83 91 98 105 109 108 110...   \n",
       "1  229 210 140 72 74 75 74 70 65 64 64 62 62 64 6...   \n",
       "2  0 0 0 0 4 64 129 22 12 13 12 11 12 9 14 18 29 ...   \n",
       "3  199 174 144 159 172 165 147 138 151 150 162 18...   \n",
       "4  142 120 95 87 74 73 55 51 46 57 55 58 61 61 70...   \n",
       "\n",
       "                                              images  \\\n",
       "0  [[8, 8, 8, 8, 8, 8, 9, 9, 10, 11, 13, 15, 17, ...   \n",
       "1  [[230, 229, 228, 227, 225, 221, 215, 206, 194,...   \n",
       "2  [[0, 0, 0, 0, 0, 0, 0, 0, 0, 0, 0, 0, 0, 0, 0,...   \n",
       "3  [[203, 202, 200, 195, 190, 184, 176, 170, 162,...   \n",
       "4  [[146, 145, 143, 138, 134, 129, 123, 117, 112,...   \n",
       "\n",
       "                                            images_3 ethnicity_label  \\\n",
       "0  [[[8, 8, 8], [8, 8, 8], [8, 8, 8], [8, 8, 8], ...           White   \n",
       "1  [[[230, 230, 230], [229, 229, 229], [228, 228,...           Black   \n",
       "2  [[[0, 0, 0], [0, 0, 0], [0, 0, 0], [0, 0, 0], ...           Asian   \n",
       "3  [[[203, 203, 203], [202, 202, 202], [200, 200,...           White   \n",
       "4  [[[146, 146, 146], [145, 145, 145], [143, 143,...           Black   \n",
       "\n",
       "  gender_label  test_gender  \n",
       "0       Female        False  \n",
       "1         Male         True  \n",
       "2       Female        False  \n",
       "3       Female        False  \n",
       "4         Male         True  "
      ]
     },
     "execution_count": 17,
     "metadata": {},
     "output_type": "execute_result"
    }
   ],
   "source": [
    "data['test_gender']=0==data['gender']\n",
    "data.head()"
   ]
  },
  {
   "cell_type": "code",
   "execution_count": 18,
   "id": "8d0efb33",
   "metadata": {},
   "outputs": [
    {
     "data": {
      "text/plain": [
       "0.5308"
      ]
     },
     "execution_count": 18,
     "metadata": {},
     "output_type": "execute_result"
    }
   ],
   "source": [
    "data.test_gender.mean()"
   ]
  },
  {
   "cell_type": "code",
   "execution_count": 19,
   "id": "b4baea9b",
   "metadata": {},
   "outputs": [],
   "source": [
    "def compute_gender_baseline(df):\n",
    "    df['test_gender']=(data['gender']==0)\n",
    "    return df['test_gender'].mean()"
   ]
  },
  {
   "cell_type": "code",
   "execution_count": 20,
   "id": "b5667cc6",
   "metadata": {},
   "outputs": [
    {
     "data": {
      "text/plain": [
       "0.5308"
      ]
     },
     "execution_count": 20,
     "metadata": {},
     "output_type": "execute_result"
    }
   ],
   "source": [
    "compute_gender_baseline(data)"
   ]
  },
  {
   "cell_type": "markdown",
   "id": "857fd87a",
   "metadata": {},
   "source": [
    "# CNN model"
   ]
  },
  {
   "cell_type": "markdown",
   "id": "ad1fef4d",
   "metadata": {},
   "source": [
    "## Preprocessing"
   ]
  },
  {
   "cell_type": "code",
   "execution_count": 21,
   "id": "f8a3aaba",
   "metadata": {},
   "outputs": [
    {
     "name": "stderr",
     "output_type": "stream",
     "text": [
      "2022-05-30 17:45:09.103474: W tensorflow/stream_executor/platform/default/dso_loader.cc:64] Could not load dynamic library 'libcudart.so.11.0'; dlerror: libcudart.so.11.0: cannot open shared object file: No such file or directory\n",
      "2022-05-30 17:45:09.103525: I tensorflow/stream_executor/cuda/cudart_stub.cc:29] Ignore above cudart dlerror if you do not have a GPU set up on your machine.\n"
     ]
    }
   ],
   "source": [
    "from sklearn.model_selection import train_test_split\n",
    "from tensorflow.keras.utils import to_categorical\n",
    "from tensorflow.keras import regularizers\n",
    "from tensorflow.keras import layers, models"
   ]
  },
  {
   "cell_type": "code",
   "execution_count": 22,
   "id": "53598f9e",
   "metadata": {},
   "outputs": [],
   "source": [
    "def image_normalizer(image):\n",
    "    return image/255"
   ]
  },
  {
   "cell_type": "code",
   "execution_count": 23,
   "id": "4ca46302",
   "metadata": {},
   "outputs": [],
   "source": [
    "selection=['ethnicity', 'gender', 'images_3']"
   ]
  },
  {
   "cell_type": "code",
   "execution_count": 24,
   "id": "d15bd8b9",
   "metadata": {},
   "outputs": [],
   "source": [
    "data=data[selection]"
   ]
  },
  {
   "cell_type": "code",
   "execution_count": 25,
   "id": "d090aad1",
   "metadata": {},
   "outputs": [],
   "source": [
    "### Normalizing pixels' intensities\n",
    "X=data['images_3'].apply(image_normalizer)\n",
    "\n",
    "### Defining y\n",
    "y=data['ethnicity']\n",
    "\n",
    "### Train/Test split\n",
    "X_train, X_test, y_train, y_test = train_test_split(X, y, test_size=0.20, random_state=1)"
   ]
  },
  {
   "cell_type": "code",
   "execution_count": 26,
   "id": "0c1d40bb",
   "metadata": {},
   "outputs": [],
   "source": [
    "### Regularizers\n",
    "reg_l1 = regularizers.L1(0.01)\n",
    "reg_l2 = regularizers.L2(0.01)\n",
    "reg_l1_l2 = regularizers.l1_l2(l1=0.005, l2=0.0005)"
   ]
  },
  {
   "cell_type": "code",
   "execution_count": 27,
   "id": "cb94d795",
   "metadata": {},
   "outputs": [],
   "source": [
    "from tensorflow.keras.applications.resnet50 import ResNet50\n",
    "from tensorflow.keras.applications.resnet50 import preprocess_input\n",
    "\n",
    "def load_model():\n",
    "    model = ResNet50(weights=\"imagenet\", include_top=False, input_shape=X_train[0].shape)\n",
    "    return model\n",
    "\n",
    "def set_nontrainable_layers(model):\n",
    "    # Set the first layers to be untrainable\n",
    "    model.trainable = False\n",
    "    return model\n",
    "\n",
    "def add_last_layers(model):\n",
    "    '''Take a pre-trained model, set its parameters as non-trainable, and add additional trainable layers on top'''\n",
    "    base_model = set_nontrainable_layers(model)\n",
    "    flatten_layer = layers.Flatten()\n",
    "    dense_layer = layers.Dense(500, activation='relu')\n",
    "    prediction_layer = layers.Dense(5, activation='softmax')\n",
    "    \n",
    "    \n",
    "    model = models.Sequential([\n",
    "        base_model,\n",
    "        flatten_layer,\n",
    "        dense_layer,\n",
    "        prediction_layer\n",
    "    ])\n",
    "    return model"
   ]
  },
  {
   "cell_type": "code",
   "execution_count": null,
   "id": "c9e04ce3",
   "metadata": {},
   "outputs": [
    {
     "name": "stderr",
     "output_type": "stream",
     "text": [
      "2022-05-30 17:45:15.113816: E tensorflow/stream_executor/cuda/cuda_driver.cc:271] failed call to cuInit: CUDA_ERROR_NO_DEVICE: no CUDA-capable device is detected\n",
      "2022-05-30 17:45:15.116807: I tensorflow/stream_executor/cuda/cuda_diagnostics.cc:156] kernel driver does not appear to be running on this host (LAPTOP-RM2V0FMT): /proc/driver/nvidia/version does not exist\n",
      "2022-05-30 17:45:15.119795: I tensorflow/core/platform/cpu_feature_guard.cc:193] This TensorFlow binary is optimized with oneAPI Deep Neural Network Library (oneDNN) to use the following CPU instructions in performance-critical operations:  AVX2 FMA\n",
      "To enable them in other operations, rebuild TensorFlow with the appropriate compiler flags.\n",
      "2022-05-30 17:45:20.087304: W tensorflow/core/framework/cpu_allocator_impl.cc:82] Allocation of 200704000 exceeds 10% of free system memory.\n"
     ]
    }
   ],
   "source": [
    "model = load_model()\n",
    "model = add_last_layers(model)\n",
    "model.summary()"
   ]
  },
  {
   "cell_type": "code",
   "execution_count": null,
   "id": "5e1ddd80",
   "metadata": {},
   "outputs": [],
   "source": [
    "from tensorflow.keras import optimizers\n",
    "\n",
    "def build_model():  \n",
    "    model = load_model()\n",
    "    model = add_last_layers(model)\n",
    "    \n",
    "    opt = optimizers.Adam(learning_rate=1e-4)\n",
    "    model.compile(loss='categorical_crossentropy',\n",
    "                  optimizer=opt,\n",
    "                  metrics=['accuracy'])\n",
    "    return model"
   ]
  },
  {
   "cell_type": "code",
   "execution_count": null,
   "id": "7b562d7e",
   "metadata": {},
   "outputs": [],
   "source": [
    "model = build_model()\n",
    "model.summary()"
   ]
  },
  {
   "cell_type": "code",
   "execution_count": null,
   "id": "85afa3ce",
   "metadata": {},
   "outputs": [],
   "source": [
    "X_train = preprocess_input(X_train) \n",
    "X_test = preprocess_input(X_test)"
   ]
  },
  {
   "cell_type": "code",
   "execution_count": null,
   "id": "bafb3e52",
   "metadata": {},
   "outputs": [],
   "source": [
    "from tensorflow.keras.callbacks import EarlyStopping\n",
    "\n",
    "model = build_model()\n",
    "\n",
    "es = EarlyStopping(monitor = 'val_accuracy', \n",
    "                   mode = 'max', \n",
    "                   patience = 3, \n",
    "                   verbose = 1, \n",
    "                   restore_best_weights = True)\n",
    "\n",
    "history = model.fit(X_train, y_train, \n",
    "                    validation_split=0.3, \n",
    "                    epochs=50, \n",
    "                    batch_size=32, \n",
    "                    callbacks=[es])"
   ]
  }
 ],
 "metadata": {
  "kernelspec": {
   "display_name": "Python 3 (ipykernel)",
   "language": "python",
   "name": "python3"
  },
  "language_info": {
   "codemirror_mode": {
    "name": "ipython",
    "version": 3
   },
   "file_extension": ".py",
   "mimetype": "text/x-python",
   "name": "python",
   "nbconvert_exporter": "python",
   "pygments_lexer": "ipython3",
   "version": "3.8.12"
  },
  "toc": {
   "base_numbering": 1,
   "nav_menu": {},
   "number_sections": true,
   "sideBar": true,
   "skip_h1_title": false,
   "title_cell": "Table of Contents",
   "title_sidebar": "Contents",
   "toc_cell": false,
   "toc_position": {},
   "toc_section_display": true,
   "toc_window_display": false
  }
 },
 "nbformat": 4,
 "nbformat_minor": 5
}
