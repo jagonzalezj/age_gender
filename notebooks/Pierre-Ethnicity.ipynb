{
 "cells": [
  {
   "cell_type": "code",
   "execution_count": 3,
   "id": "406435b4",
   "metadata": {},
   "outputs": [],
   "source": [
    "# Ethnicity labels\n",
    "ETHNICITIES = { \n",
    "    0: \"White\", \n",
    "    1: \"Black\",\n",
    "    2: \"Asian\",\n",
    "    3: \"Indian\",\n",
    "    4: \"Hispanic\"\n",
    "}\n",
    "\n",
    "# Gender labels\n",
    "GENDERS = { \n",
    "    0: \"Male\", \n",
    "    1: \"Female\"\n",
    "}\n"
   ]
  },
  {
   "cell_type": "code",
   "execution_count": 4,
   "id": "ee5c18c8",
   "metadata": {},
   "outputs": [],
   "source": [
    "import pandas as pd\n",
    "import matplotlib.pyplot as plt\n",
    "import seaborn as sns\n",
    "import numpy as np\n",
    "from sklearn.model_selection import train_test_split\n",
    "from PIL import Image"
   ]
  },
  {
   "cell_type": "markdown",
   "id": "eb242c89",
   "metadata": {},
   "source": [
    "# Get images"
   ]
  },
  {
   "cell_type": "code",
   "execution_count": 5,
   "id": "4c8d6412",
   "metadata": {},
   "outputs": [
    {
     "data": {
      "text/html": [
       "<div>\n",
       "<style scoped>\n",
       "    .dataframe tbody tr th:only-of-type {\n",
       "        vertical-align: middle;\n",
       "    }\n",
       "\n",
       "    .dataframe tbody tr th {\n",
       "        vertical-align: top;\n",
       "    }\n",
       "\n",
       "    .dataframe thead th {\n",
       "        text-align: right;\n",
       "    }\n",
       "</style>\n",
       "<table border=\"1\" class=\"dataframe\">\n",
       "  <thead>\n",
       "    <tr style=\"text-align: right;\">\n",
       "      <th></th>\n",
       "      <th>age</th>\n",
       "      <th>ethnicity</th>\n",
       "      <th>gender</th>\n",
       "      <th>img_name</th>\n",
       "      <th>pixels</th>\n",
       "    </tr>\n",
       "  </thead>\n",
       "  <tbody>\n",
       "    <tr>\n",
       "      <th>0</th>\n",
       "      <td>1</td>\n",
       "      <td>2</td>\n",
       "      <td>0</td>\n",
       "      <td>20161219203650636.jpg.chip.jpg</td>\n",
       "      <td>129 128 128 126 127 130 133 135 139 142 145 14...</td>\n",
       "    </tr>\n",
       "    <tr>\n",
       "      <th>1</th>\n",
       "      <td>1</td>\n",
       "      <td>2</td>\n",
       "      <td>0</td>\n",
       "      <td>20161219222752047.jpg.chip.jpg</td>\n",
       "      <td>164 74 111 168 169 171 175 182 184 188 193 199...</td>\n",
       "    </tr>\n",
       "    <tr>\n",
       "      <th>2</th>\n",
       "      <td>1</td>\n",
       "      <td>2</td>\n",
       "      <td>0</td>\n",
       "      <td>20161219222832191.jpg.chip.jpg</td>\n",
       "      <td>67 70 71 70 69 67 70 79 90 103 116 132 145 155...</td>\n",
       "    </tr>\n",
       "    <tr>\n",
       "      <th>3</th>\n",
       "      <td>1</td>\n",
       "      <td>2</td>\n",
       "      <td>0</td>\n",
       "      <td>20161220144911423.jpg.chip.jpg</td>\n",
       "      <td>193 197 198 200 199 200 202 203 204 205 208 21...</td>\n",
       "    </tr>\n",
       "    <tr>\n",
       "      <th>4</th>\n",
       "      <td>1</td>\n",
       "      <td>2</td>\n",
       "      <td>0</td>\n",
       "      <td>20161220144914327.jpg.chip.jpg</td>\n",
       "      <td>202 205 209 210 209 209 210 211 212 214 218 21...</td>\n",
       "    </tr>\n",
       "  </tbody>\n",
       "</table>\n",
       "</div>"
      ],
      "text/plain": [
       "   age  ethnicity  gender                        img_name  \\\n",
       "0    1          2       0  20161219203650636.jpg.chip.jpg   \n",
       "1    1          2       0  20161219222752047.jpg.chip.jpg   \n",
       "2    1          2       0  20161219222832191.jpg.chip.jpg   \n",
       "3    1          2       0  20161220144911423.jpg.chip.jpg   \n",
       "4    1          2       0  20161220144914327.jpg.chip.jpg   \n",
       "\n",
       "                                              pixels  \n",
       "0  129 128 128 126 127 130 133 135 139 142 145 14...  \n",
       "1  164 74 111 168 169 171 175 182 184 188 193 199...  \n",
       "2  67 70 71 70 69 67 70 79 90 103 116 132 145 155...  \n",
       "3  193 197 198 200 199 200 202 203 204 205 208 21...  \n",
       "4  202 205 209 210 209 209 210 211 212 214 218 21...  "
      ]
     },
     "execution_count": 5,
     "metadata": {},
     "output_type": "execute_result"
    }
   ],
   "source": [
    "data=pd.read_csv('../raw_data/age_gender.csv')\n",
    "data.head()"
   ]
  },
  {
   "cell_type": "code",
   "execution_count": 20,
   "id": "8ae1127f",
   "metadata": {
    "scrolled": true
   },
   "outputs": [
    {
     "data": {
      "text/plain": [
       "<matplotlib.image.AxesImage at 0x7fa133583850>"
      ]
     },
     "execution_count": 20,
     "metadata": {},
     "output_type": "execute_result"
    },
    {
     "data": {
      "image/png": "[encoded data removed]",
      "text/plain": [
       "<Figure size 432x288 with 1 Axes>"
      ]
     },
     "metadata": {
      "needs_background": "light"
     },
     "output_type": "display_data"
    }
   ],
   "source": [
    "plt.imshow(np.array(data['pixels'][500].split(),dtype='float').reshape((48,48)),cmap='gray')"
   ]
  },
  {
   "cell_type": "code",
   "execution_count": 28,
   "id": "a97e37f0",
   "metadata": {},
   "outputs": [
    {
     "data": {
      "text/plain": [
       "0"
      ]
     },
     "execution_count": 28,
     "metadata": {},
     "output_type": "execute_result"
    }
   ],
   "source": [
    "data['gender'][500]"
   ]
  },
  {
   "cell_type": "code",
   "execution_count": 43,
   "id": "dce1600e",
   "metadata": {},
   "outputs": [],
   "source": [
    "def to_img_48_48(pixel):\n",
    "    return np.array(pixel.split(),dtype='float').reshape((48,48))\n",
    "\n",
    "def to_img_48_48_3(pixel):\n",
    "    layer=to_img_48_48(pixel)\n",
    "    return np.array(np.dstack([layer, layer, layer]),dtype='int')\n",
    "\n",
    "def to_img_224_224(pixel):\n",
    "    img=Image.fromarray(np.uint8(to_img_48_48(pixel)), 'L')\n",
    "    new_size=(224,224)\n",
    "    img=img.resize(new_size)\n",
    "    img = img.getdata()\n",
    "    image_array = np.array(img)\n",
    "    image_array.resize(new_size)\n",
    "    return image_array\n",
    "\n",
    "def to_img_224_224_3(img_224_224):\n",
    "    layer=img_224_224\n",
    "    return np.array(np.dstack([layer, layer, layer]),dtype='int')\n",
    "\n",
    "def from_dataframe_to_images(data,size=(224,224),kind=\"train\",model=\"ethnicity\"):\n",
    "    for i in range(data.shape[0]):\n",
    "        img=Image.fromarray(np.uint8(to_img_48_48(data['pixels'][i])), 'L')\n",
    "        img=img.resize(size)\n",
    "        path=f\"../raw_data/all_images/{model}/{kind}/{data['ethnicity'][i]}/{i}-{data['age'][i]}-{data['gender'][i]}-{data['ethnicity'][i]}.jpg\"\n",
    "        img.save(path)"
   ]
  },
  {
   "cell_type": "code",
   "execution_count": 6,
   "id": "4b87cb2c",
   "metadata": {},
   "outputs": [],
   "source": [
    "data=data.sample(2500).reset_index()"
   ]
  },
  {
   "cell_type": "code",
   "execution_count": 7,
   "id": "537b0299",
   "metadata": {},
   "outputs": [],
   "source": [
    "data['images']=data['pixels'].apply(to_img_224_224)\n"
   ]
  },
  {
   "cell_type": "code",
   "execution_count": 8,
   "id": "49c528a6",
   "metadata": {},
   "outputs": [],
   "source": [
    "data['images_3']=data['images'].apply(to_img_224_224_3)"
   ]
  },
  {
   "cell_type": "code",
   "execution_count": 9,
   "id": "c0fba957",
   "metadata": {},
   "outputs": [
    {
     "data": {
      "text/html": [
       "<div>\n",
       "<style scoped>\n",
       "    .dataframe tbody tr th:only-of-type {\n",
       "        vertical-align: middle;\n",
       "    }\n",
       "\n",
       "    .dataframe tbody tr th {\n",
       "        vertical-align: top;\n",
       "    }\n",
       "\n",
       "    .dataframe thead th {\n",
       "        text-align: right;\n",
       "    }\n",
       "</style>\n",
       "<table border=\"1\" class=\"dataframe\">\n",
       "  <thead>\n",
       "    <tr style=\"text-align: right;\">\n",
       "      <th></th>\n",
       "      <th>index</th>\n",
       "      <th>Unnamed: 0</th>\n",
       "      <th>age</th>\n",
       "      <th>ethnicity</th>\n",
       "      <th>gender</th>\n",
       "      <th>img_name</th>\n",
       "      <th>pixels</th>\n",
       "      <th>images</th>\n",
       "      <th>images_3</th>\n",
       "    </tr>\n",
       "  </thead>\n",
       "  <tbody>\n",
       "    <tr>\n",
       "      <th>0</th>\n",
       "      <td>233</td>\n",
       "      <td>13671</td>\n",
       "      <td>35</td>\n",
       "      <td>0</td>\n",
       "      <td>0</td>\n",
       "      <td>20170117191246180.jpg.chip.jpg</td>\n",
       "      <td>83 100 127 169 203 217 223 237 241 231 229 224...</td>\n",
       "      <td>[[81, 82, 83, 86, 88, 92, 97, 101, 107, 113, 1...</td>\n",
       "      <td>[[[81, 81, 81], [82, 82, 82], [83, 83, 83], [8...</td>\n",
       "    </tr>\n",
       "    <tr>\n",
       "      <th>1</th>\n",
       "      <td>2476</td>\n",
       "      <td>9515</td>\n",
       "      <td>28</td>\n",
       "      <td>1</td>\n",
       "      <td>0</td>\n",
       "      <td>20170112211816014.jpg.chip.jpg</td>\n",
       "      <td>225 207 196 167 49 54 66 93 105 107 109 112 11...</td>\n",
       "      <td>[[229, 228, 227, 224, 219, 214, 210, 206, 204,...</td>\n",
       "      <td>[[[229, 229, 229], [228, 228, 228], [227, 227,...</td>\n",
       "    </tr>\n",
       "    <tr>\n",
       "      <th>2</th>\n",
       "      <td>1378</td>\n",
       "      <td>15083</td>\n",
       "      <td>39</td>\n",
       "      <td>1</td>\n",
       "      <td>0</td>\n",
       "      <td>20170113174626658.jpg.chip.jpg</td>\n",
       "      <td>132 118 97 67 57 67 80 78 72 76 88 84 70 65 65...</td>\n",
       "      <td>[[134, 133, 132, 130, 127, 124, 120, 116, 112,...</td>\n",
       "      <td>[[[134, 134, 134], [133, 133, 133], [132, 132,...</td>\n",
       "    </tr>\n",
       "    <tr>\n",
       "      <th>3</th>\n",
       "      <td>439</td>\n",
       "      <td>9986</td>\n",
       "      <td>29</td>\n",
       "      <td>1</td>\n",
       "      <td>0</td>\n",
       "      <td>20170113133331563.jpg.chip.jpg</td>\n",
       "      <td>96 49 30 28 25 26 23 40 77 102 108 113 108 106...</td>\n",
       "      <td>[[99, 97, 93, 86, 76, 65, 54, 47, 41, 37, 34, ...</td>\n",
       "      <td>[[[99, 99, 99], [97, 97, 97], [93, 93, 93], [8...</td>\n",
       "    </tr>\n",
       "    <tr>\n",
       "      <th>4</th>\n",
       "      <td>192</td>\n",
       "      <td>19733</td>\n",
       "      <td>56</td>\n",
       "      <td>0</td>\n",
       "      <td>1</td>\n",
       "      <td>20170104235032259.jpg.chip.jpg</td>\n",
       "      <td>44 58 63 56 40 38 32 18 34 109 151 172 176 189...</td>\n",
       "      <td>[[43, 44, 45, 48, 51, 53, 57, 59, 61, 62, 62, ...</td>\n",
       "      <td>[[[43, 43, 43], [44, 44, 44], [45, 45, 45], [4...</td>\n",
       "    </tr>\n",
       "  </tbody>\n",
       "</table>\n",
       "</div>"
      ],
      "text/plain": [
       "   index  Unnamed: 0  age  ethnicity  gender                        img_name  \\\n",
       "0    233       13671   35          0       0  20170117191246180.jpg.chip.jpg   \n",
       "1   2476        9515   28          1       0  20170112211816014.jpg.chip.jpg   \n",
       "2   1378       15083   39          1       0  20170113174626658.jpg.chip.jpg   \n",
       "3    439        9986   29          1       0  20170113133331563.jpg.chip.jpg   \n",
       "4    192       19733   56          0       1  20170104235032259.jpg.chip.jpg   \n",
       "\n",
       "                                              pixels  \\\n",
       "0  83 100 127 169 203 217 223 237 241 231 229 224...   \n",
       "1  225 207 196 167 49 54 66 93 105 107 109 112 11...   \n",
       "2  132 118 97 67 57 67 80 78 72 76 88 84 70 65 65...   \n",
       "3  96 49 30 28 25 26 23 40 77 102 108 113 108 106...   \n",
       "4  44 58 63 56 40 38 32 18 34 109 151 172 176 189...   \n",
       "\n",
       "                                              images  \\\n",
       "0  [[81, 82, 83, 86, 88, 92, 97, 101, 107, 113, 1...   \n",
       "1  [[229, 228, 227, 224, 219, 214, 210, 206, 204,...   \n",
       "2  [[134, 133, 132, 130, 127, 124, 120, 116, 112,...   \n",
       "3  [[99, 97, 93, 86, 76, 65, 54, 47, 41, 37, 34, ...   \n",
       "4  [[43, 44, 45, 48, 51, 53, 57, 59, 61, 62, 62, ...   \n",
       "\n",
       "                                            images_3  \n",
       "0  [[[81, 81, 81], [82, 82, 82], [83, 83, 83], [8...  \n",
       "1  [[[229, 229, 229], [228, 228, 228], [227, 227,...  \n",
       "2  [[[134, 134, 134], [133, 133, 133], [132, 132,...  \n",
       "3  [[[99, 99, 99], [97, 97, 97], [93, 93, 93], [8...  \n",
       "4  [[[43, 43, 43], [44, 44, 44], [45, 45, 45], [4...  "
      ]
     },
     "execution_count": 9,
     "metadata": {},
     "output_type": "execute_result"
    }
   ],
   "source": [
    "data.head()"
   ]
  },
  {
   "cell_type": "code",
   "execution_count": 10,
   "id": "2ca975d5",
   "metadata": {
    "scrolled": true
   },
   "outputs": [
    {
     "data": {
      "text/plain": [
       "<matplotlib.image.AxesImage at 0x7f91dcb99e50>"
      ]
     },
     "execution_count": 10,
     "metadata": {},
     "output_type": "execute_result"
    },
    {
     "data": {
      "image/png": "[encoded data removed]",
      "text/plain": [
       "<Figure size 432x288 with 1 Axes>"
      ]
     },
     "metadata": {
      "needs_background": "light"
     },
     "output_type": "display_data"
    }
   ],
   "source": [
    "plt.imshow(data['images'][0],cmap='gray')"
   ]
  },
  {
   "cell_type": "code",
   "execution_count": 11,
   "id": "601047de",
   "metadata": {},
   "outputs": [
    {
     "data": {
      "text/plain": [
       "<matplotlib.image.AxesImage at 0x7f91dcb178e0>"
      ]
     },
     "execution_count": 11,
     "metadata": {},
     "output_type": "execute_result"
    },
    {
     "data": {
      "image/png": "[encoded data removed]",
      "text/plain": [
       "<Figure size 432x288 with 1 Axes>"
      ]
     },
     "metadata": {
      "needs_background": "light"
     },
     "output_type": "display_data"
    }
   ],
   "source": [
    "plt.imshow(data['images_3'][0],cmap='gray')"
   ]
  },
  {
   "cell_type": "code",
   "execution_count": 19,
   "id": "d3895934",
   "metadata": {},
   "outputs": [
    {
     "name": "stdout",
     "output_type": "stream",
     "text": [
      "age_gender.csv\tage_gender_light.csv\r\n"
     ]
    }
   ],
   "source": [
    "!ls ../raw_data/all_images"
   ]
  },
  {
   "cell_type": "code",
   "execution_count": 23,
   "id": "ac518a95",
   "metadata": {},
   "outputs": [
    {
     "data": {
      "text/plain": [
       "(23705, 5)"
      ]
     },
     "execution_count": 23,
     "metadata": {},
     "output_type": "execute_result"
    }
   ],
   "source": [
    "data.shape"
   ]
  },
  {
   "cell_type": "code",
   "execution_count": 30,
   "id": "40ebb9eb",
   "metadata": {},
   "outputs": [
    {
     "data": {
      "text/plain": [
       "Index(['age', 'ethnicity', 'gender', 'img_name', 'pixels'], dtype='object')"
      ]
     },
     "execution_count": 30,
     "metadata": {},
     "output_type": "execute_result"
    }
   ],
   "source": [
    "data.columns"
   ]
  },
  {
   "cell_type": "code",
   "execution_count": 33,
   "id": "ee21aadc",
   "metadata": {},
   "outputs": [],
   "source": [
    "X_train, X_test, y_train, y_test = train_test_split(data, data['ethnicity'], test_size=0.20, random_state=1)"
   ]
  },
  {
   "cell_type": "code",
   "execution_count": 36,
   "id": "e5984962",
   "metadata": {},
   "outputs": [],
   "source": [
    "X_train=X_train.reset_index(drop=True)\n",
    "X_test=X_test.reset_index(drop=True)"
   ]
  },
  {
   "cell_type": "code",
   "execution_count": 44,
   "id": "91de607f",
   "metadata": {},
   "outputs": [],
   "source": [
    "from_dataframe_to_images(X_train,size=(224,224),kind=\"train\",model=\"ethnicity\")"
   ]
  },
  {
   "cell_type": "code",
   "execution_count": 45,
   "id": "b9ba35d9",
   "metadata": {},
   "outputs": [],
   "source": [
    "from_dataframe_to_images(X_test,size=(224,224),kind=\"test\",model=\"ethnicity\")"
   ]
  },
  {
   "cell_type": "markdown",
   "id": "dbb4769a",
   "metadata": {},
   "source": [
    "# Data viz"
   ]
  },
  {
   "cell_type": "markdown",
   "id": "cb561456",
   "metadata": {},
   "source": [
    "## Toolkit functions"
   ]
  },
  {
   "cell_type": "code",
   "execution_count": 12,
   "id": "5c11436e",
   "metadata": {},
   "outputs": [],
   "source": [
    "def ethnicity_label(index):\n",
    "    # Ethnicity labels\n",
    "    ETHNICITIES = { \n",
    "        0: \"White\", \n",
    "        1: \"Black\",\n",
    "        2: \"Asian\",\n",
    "        3: \"Indian\",\n",
    "        4: \"Hispanic\"\n",
    "    }\n",
    "\n",
    "    return ETHNICITIES[index]\n",
    "\n",
    "def gender_label(index):\n",
    "    # Gender labels\n",
    "    GENDERS = { \n",
    "        0: \"Male\", \n",
    "        1: \"Female\"\n",
    "    }\n",
    "\n",
    "    return GENDERS[index]\n",
    "\n",
    "def get_label(df):\n",
    "    df['ethnicity_label']=df['ethnicity'].map(ethnicity_label)\n",
    "    df['gender_label']=df['gender'].map(gender_label)\n",
    "    return df\n",
    "\n",
    "def display_feature(df,feature_name):\n",
    "    '''Display a countplot based on seaborn with a \"whitegrid\" style'''\n",
    "    fig = plt.figure(figsize=(10,6))\n",
    "    sns.set_style(\"whitegrid\")\n",
    "    ax = sns.countplot(x=df[feature_name],\n",
    "                       order=df[feature_name].value_counts(ascending=False).index);\n",
    "\n",
    "    abs_values = df[feature_name].value_counts(ascending=False).values\n",
    "\n",
    "    ax.bar_label(container=ax.containers[0], labels=abs_values)"
   ]
  },
  {
   "cell_type": "markdown",
   "id": "04a722bf",
   "metadata": {
    "heading_collapsed": true
   },
   "source": [
    "## Playing with data"
   ]
  },
  {
   "cell_type": "code",
   "execution_count": 13,
   "id": "217b2ffd",
   "metadata": {
    "hidden": true
   },
   "outputs": [
    {
     "data": {
      "text/html": [
       "<div>\n",
       "<style scoped>\n",
       "    .dataframe tbody tr th:only-of-type {\n",
       "        vertical-align: middle;\n",
       "    }\n",
       "\n",
       "    .dataframe tbody tr th {\n",
       "        vertical-align: top;\n",
       "    }\n",
       "\n",
       "    .dataframe thead th {\n",
       "        text-align: right;\n",
       "    }\n",
       "</style>\n",
       "<table border=\"1\" class=\"dataframe\">\n",
       "  <thead>\n",
       "    <tr style=\"text-align: right;\">\n",
       "      <th></th>\n",
       "      <th>index</th>\n",
       "      <th>age</th>\n",
       "      <th>ethnicity</th>\n",
       "      <th>gender</th>\n",
       "      <th>img_name</th>\n",
       "      <th>pixels</th>\n",
       "      <th>images</th>\n",
       "      <th>images_3</th>\n",
       "      <th>ethnicity_label</th>\n",
       "      <th>gender_label</th>\n",
       "    </tr>\n",
       "  </thead>\n",
       "  <tbody>\n",
       "    <tr>\n",
       "      <th>0</th>\n",
       "      <td>22855</td>\n",
       "      <td>8</td>\n",
       "      <td>0</td>\n",
       "      <td>1</td>\n",
       "      <td>20170104005606487.jpg.chip.jpg</td>\n",
       "      <td>8 9 15 33 52 65 70 75 83 91 98 105 109 108 110...</td>\n",
       "      <td>[[8, 8, 8, 8, 8, 8, 9, 9, 10, 11, 13, 15, 17, ...</td>\n",
       "      <td>[[[8, 8, 8], [8, 8, 8], [8, 8, 8], [8, 8, 8], ...</td>\n",
       "      <td>White</td>\n",
       "      <td>Female</td>\n",
       "    </tr>\n",
       "    <tr>\n",
       "      <th>1</th>\n",
       "      <td>15116</td>\n",
       "      <td>39</td>\n",
       "      <td>1</td>\n",
       "      <td>0</td>\n",
       "      <td>20170117185039604.jpg.chip.jpg</td>\n",
       "      <td>229 210 140 72 74 75 74 70 65 64 64 62 62 64 6...</td>\n",
       "      <td>[[230, 229, 228, 227, 225, 221, 215, 206, 194,...</td>\n",
       "      <td>[[[230, 230, 230], [229, 229, 229], [228, 228,...</td>\n",
       "      <td>Black</td>\n",
       "      <td>Male</td>\n",
       "    </tr>\n",
       "    <tr>\n",
       "      <th>2</th>\n",
       "      <td>3804</td>\n",
       "      <td>22</td>\n",
       "      <td>2</td>\n",
       "      <td>1</td>\n",
       "      <td>20170116170405273.jpg.chip.jpg</td>\n",
       "      <td>0 0 0 0 4 64 129 22 12 13 12 11 12 9 14 18 29 ...</td>\n",
       "      <td>[[0, 0, 0, 0, 0, 0, 0, 0, 0, 0, 0, 0, 0, 0, 0,...</td>\n",
       "      <td>[[[0, 0, 0], [0, 0, 0], [0, 0, 0], [0, 0, 0], ...</td>\n",
       "      <td>Asian</td>\n",
       "      <td>Female</td>\n",
       "    </tr>\n",
       "    <tr>\n",
       "      <th>3</th>\n",
       "      <td>23059</td>\n",
       "      <td>82</td>\n",
       "      <td>0</td>\n",
       "      <td>1</td>\n",
       "      <td>20170109150955073.jpg.chip.jpg</td>\n",
       "      <td>199 174 144 159 172 165 147 138 151 150 162 18...</td>\n",
       "      <td>[[203, 202, 200, 195, 190, 184, 176, 170, 162,...</td>\n",
       "      <td>[[[203, 203, 203], [202, 202, 202], [200, 200,...</td>\n",
       "      <td>White</td>\n",
       "      <td>Female</td>\n",
       "    </tr>\n",
       "    <tr>\n",
       "      <th>4</th>\n",
       "      <td>22577</td>\n",
       "      <td>78</td>\n",
       "      <td>1</td>\n",
       "      <td>0</td>\n",
       "      <td>20170117193425610.jpg.chip.jpg</td>\n",
       "      <td>142 120 95 87 74 73 55 51 46 57 55 58 61 61 70...</td>\n",
       "      <td>[[146, 145, 143, 138, 134, 129, 123, 117, 112,...</td>\n",
       "      <td>[[[146, 146, 146], [145, 145, 145], [143, 143,...</td>\n",
       "      <td>Black</td>\n",
       "      <td>Male</td>\n",
       "    </tr>\n",
       "  </tbody>\n",
       "</table>\n",
       "</div>"
      ],
      "text/plain": [
       "   index  age  ethnicity  gender                        img_name  \\\n",
       "0  22855    8          0       1  20170104005606487.jpg.chip.jpg   \n",
       "1  15116   39          1       0  20170117185039604.jpg.chip.jpg   \n",
       "2   3804   22          2       1  20170116170405273.jpg.chip.jpg   \n",
       "3  23059   82          0       1  20170109150955073.jpg.chip.jpg   \n",
       "4  22577   78          1       0  20170117193425610.jpg.chip.jpg   \n",
       "\n",
       "                                              pixels  \\\n",
       "0  8 9 15 33 52 65 70 75 83 91 98 105 109 108 110...   \n",
       "1  229 210 140 72 74 75 74 70 65 64 64 62 62 64 6...   \n",
       "2  0 0 0 0 4 64 129 22 12 13 12 11 12 9 14 18 29 ...   \n",
       "3  199 174 144 159 172 165 147 138 151 150 162 18...   \n",
       "4  142 120 95 87 74 73 55 51 46 57 55 58 61 61 70...   \n",
       "\n",
       "                                              images  \\\n",
       "0  [[8, 8, 8, 8, 8, 8, 9, 9, 10, 11, 13, 15, 17, ...   \n",
       "1  [[230, 229, 228, 227, 225, 221, 215, 206, 194,...   \n",
       "2  [[0, 0, 0, 0, 0, 0, 0, 0, 0, 0, 0, 0, 0, 0, 0,...   \n",
       "3  [[203, 202, 200, 195, 190, 184, 176, 170, 162,...   \n",
       "4  [[146, 145, 143, 138, 134, 129, 123, 117, 112,...   \n",
       "\n",
       "                                            images_3 ethnicity_label  \\\n",
       "0  [[[8, 8, 8], [8, 8, 8], [8, 8, 8], [8, 8, 8], ...           White   \n",
       "1  [[[230, 230, 230], [229, 229, 229], [228, 228,...           Black   \n",
       "2  [[[0, 0, 0], [0, 0, 0], [0, 0, 0], [0, 0, 0], ...           Asian   \n",
       "3  [[[203, 203, 203], [202, 202, 202], [200, 200,...           White   \n",
       "4  [[[146, 146, 146], [145, 145, 145], [143, 143,...           Black   \n",
       "\n",
       "  gender_label  \n",
       "0       Female  \n",
       "1         Male  \n",
       "2       Female  \n",
       "3       Female  \n",
       "4         Male  "
      ]
     },
     "execution_count": 13,
     "metadata": {},
     "output_type": "execute_result"
    }
   ],
   "source": [
    "data=get_label(data)\n",
    "data.head()"
   ]
  },
  {
   "cell_type": "code",
   "execution_count": 14,
   "id": "02f3092e",
   "metadata": {
    "hidden": true
   },
   "outputs": [
    {
     "data": {
      "image/png": "[encoded data removed]",
      "text/plain": [
       "<Figure size 720x432 with 1 Axes>"
      ]
     },
     "metadata": {
      "needs_background": "light"
     },
     "output_type": "display_data"
    }
   ],
   "source": [
    "display_feature(data,'ethnicity_label')"
   ]
  },
  {
   "cell_type": "code",
   "execution_count": 15,
   "id": "e6001687",
   "metadata": {
    "hidden": true
   },
   "outputs": [
    {
     "data": {
      "image/png": "[encoded data removed]",
      "text/plain": [
       "<Figure size 720x432 with 1 Axes>"
      ]
     },
     "metadata": {},
     "output_type": "display_data"
    }
   ],
   "source": [
    "display_feature(data,'gender_label')"
   ]
  },
  {
   "cell_type": "markdown",
   "id": "6b81902a",
   "metadata": {},
   "source": [
    "# Compute baseline"
   ]
  },
  {
   "cell_type": "markdown",
   "id": "27c5b4e5",
   "metadata": {
    "heading_collapsed": true
   },
   "source": [
    "## Ethnicity gender"
   ]
  },
  {
   "cell_type": "code",
   "execution_count": 16,
   "id": "9f16f28e",
   "metadata": {
    "hidden": true
   },
   "outputs": [],
   "source": [
    "import random"
   ]
  },
  {
   "cell_type": "code",
   "execution_count": 17,
   "id": "9549d61e",
   "metadata": {
    "hidden": true
   },
   "outputs": [
    {
     "data": {
      "text/html": [
       "<div>\n",
       "<style scoped>\n",
       "    .dataframe tbody tr th:only-of-type {\n",
       "        vertical-align: middle;\n",
       "    }\n",
       "\n",
       "    .dataframe tbody tr th {\n",
       "        vertical-align: top;\n",
       "    }\n",
       "\n",
       "    .dataframe thead th {\n",
       "        text-align: right;\n",
       "    }\n",
       "</style>\n",
       "<table border=\"1\" class=\"dataframe\">\n",
       "  <thead>\n",
       "    <tr style=\"text-align: right;\">\n",
       "      <th></th>\n",
       "      <th>index</th>\n",
       "      <th>age</th>\n",
       "      <th>ethnicity</th>\n",
       "      <th>gender</th>\n",
       "      <th>img_name</th>\n",
       "      <th>pixels</th>\n",
       "      <th>images</th>\n",
       "      <th>images_3</th>\n",
       "      <th>ethnicity_label</th>\n",
       "      <th>gender_label</th>\n",
       "      <th>test_gender</th>\n",
       "    </tr>\n",
       "  </thead>\n",
       "  <tbody>\n",
       "    <tr>\n",
       "      <th>0</th>\n",
       "      <td>22855</td>\n",
       "      <td>8</td>\n",
       "      <td>0</td>\n",
       "      <td>1</td>\n",
       "      <td>20170104005606487.jpg.chip.jpg</td>\n",
       "      <td>8 9 15 33 52 65 70 75 83 91 98 105 109 108 110...</td>\n",
       "      <td>[[8, 8, 8, 8, 8, 8, 9, 9, 10, 11, 13, 15, 17, ...</td>\n",
       "      <td>[[[8, 8, 8], [8, 8, 8], [8, 8, 8], [8, 8, 8], ...</td>\n",
       "      <td>White</td>\n",
       "      <td>Female</td>\n",
       "      <td>False</td>\n",
       "    </tr>\n",
       "    <tr>\n",
       "      <th>1</th>\n",
       "      <td>15116</td>\n",
       "      <td>39</td>\n",
       "      <td>1</td>\n",
       "      <td>0</td>\n",
       "      <td>20170117185039604.jpg.chip.jpg</td>\n",
       "      <td>229 210 140 72 74 75 74 70 65 64 64 62 62 64 6...</td>\n",
       "      <td>[[230, 229, 228, 227, 225, 221, 215, 206, 194,...</td>\n",
       "      <td>[[[230, 230, 230], [229, 229, 229], [228, 228,...</td>\n",
       "      <td>Black</td>\n",
       "      <td>Male</td>\n",
       "      <td>True</td>\n",
       "    </tr>\n",
       "    <tr>\n",
       "      <th>2</th>\n",
       "      <td>3804</td>\n",
       "      <td>22</td>\n",
       "      <td>2</td>\n",
       "      <td>1</td>\n",
       "      <td>20170116170405273.jpg.chip.jpg</td>\n",
       "      <td>0 0 0 0 4 64 129 22 12 13 12 11 12 9 14 18 29 ...</td>\n",
       "      <td>[[0, 0, 0, 0, 0, 0, 0, 0, 0, 0, 0, 0, 0, 0, 0,...</td>\n",
       "      <td>[[[0, 0, 0], [0, 0, 0], [0, 0, 0], [0, 0, 0], ...</td>\n",
       "      <td>Asian</td>\n",
       "      <td>Female</td>\n",
       "      <td>False</td>\n",
       "    </tr>\n",
       "    <tr>\n",
       "      <th>3</th>\n",
       "      <td>23059</td>\n",
       "      <td>82</td>\n",
       "      <td>0</td>\n",
       "      <td>1</td>\n",
       "      <td>20170109150955073.jpg.chip.jpg</td>\n",
       "      <td>199 174 144 159 172 165 147 138 151 150 162 18...</td>\n",
       "      <td>[[203, 202, 200, 195, 190, 184, 176, 170, 162,...</td>\n",
       "      <td>[[[203, 203, 203], [202, 202, 202], [200, 200,...</td>\n",
       "      <td>White</td>\n",
       "      <td>Female</td>\n",
       "      <td>False</td>\n",
       "    </tr>\n",
       "    <tr>\n",
       "      <th>4</th>\n",
       "      <td>22577</td>\n",
       "      <td>78</td>\n",
       "      <td>1</td>\n",
       "      <td>0</td>\n",
       "      <td>20170117193425610.jpg.chip.jpg</td>\n",
       "      <td>142 120 95 87 74 73 55 51 46 57 55 58 61 61 70...</td>\n",
       "      <td>[[146, 145, 143, 138, 134, 129, 123, 117, 112,...</td>\n",
       "      <td>[[[146, 146, 146], [145, 145, 145], [143, 143,...</td>\n",
       "      <td>Black</td>\n",
       "      <td>Male</td>\n",
       "      <td>True</td>\n",
       "    </tr>\n",
       "  </tbody>\n",
       "</table>\n",
       "</div>"
      ],
      "text/plain": [
       "   index  age  ethnicity  gender                        img_name  \\\n",
       "0  22855    8          0       1  20170104005606487.jpg.chip.jpg   \n",
       "1  15116   39          1       0  20170117185039604.jpg.chip.jpg   \n",
       "2   3804   22          2       1  20170116170405273.jpg.chip.jpg   \n",
       "3  23059   82          0       1  20170109150955073.jpg.chip.jpg   \n",
       "4  22577   78          1       0  20170117193425610.jpg.chip.jpg   \n",
       "\n",
       "                                              pixels  \\\n",
       "0  8 9 15 33 52 65 70 75 83 91 98 105 109 108 110...   \n",
       "1  229 210 140 72 74 75 74 70 65 64 64 62 62 64 6...   \n",
       "2  0 0 0 0 4 64 129 22 12 13 12 11 12 9 14 18 29 ...   \n",
       "3  199 174 144 159 172 165 147 138 151 150 162 18...   \n",
       "4  142 120 95 87 74 73 55 51 46 57 55 58 61 61 70...   \n",
       "\n",
       "                                              images  \\\n",
       "0  [[8, 8, 8, 8, 8, 8, 9, 9, 10, 11, 13, 15, 17, ...   \n",
       "1  [[230, 229, 228, 227, 225, 221, 215, 206, 194,...   \n",
       "2  [[0, 0, 0, 0, 0, 0, 0, 0, 0, 0, 0, 0, 0, 0, 0,...   \n",
       "3  [[203, 202, 200, 195, 190, 184, 176, 170, 162,...   \n",
       "4  [[146, 145, 143, 138, 134, 129, 123, 117, 112,...   \n",
       "\n",
       "                                            images_3 ethnicity_label  \\\n",
       "0  [[[8, 8, 8], [8, 8, 8], [8, 8, 8], [8, 8, 8], ...           White   \n",
       "1  [[[230, 230, 230], [229, 229, 229], [228, 228,...           Black   \n",
       "2  [[[0, 0, 0], [0, 0, 0], [0, 0, 0], [0, 0, 0], ...           Asian   \n",
       "3  [[[203, 203, 203], [202, 202, 202], [200, 200,...           White   \n",
       "4  [[[146, 146, 146], [145, 145, 145], [143, 143,...           Black   \n",
       "\n",
       "  gender_label  test_gender  \n",
       "0       Female        False  \n",
       "1         Male         True  \n",
       "2       Female        False  \n",
       "3       Female        False  \n",
       "4         Male         True  "
      ]
     },
     "execution_count": 17,
     "metadata": {},
     "output_type": "execute_result"
    }
   ],
   "source": [
    "data['test_gender']=0==data['gender']\n",
    "data.head()"
   ]
  },
  {
   "cell_type": "code",
   "execution_count": 18,
   "id": "8d0efb33",
   "metadata": {
    "hidden": true
   },
   "outputs": [
    {
     "data": {
      "text/plain": [
       "0.5308"
      ]
     },
     "execution_count": 18,
     "metadata": {},
     "output_type": "execute_result"
    }
   ],
   "source": [
    "data.test_gender.mean()"
   ]
  },
  {
   "cell_type": "code",
   "execution_count": 19,
   "id": "b4baea9b",
   "metadata": {
    "hidden": true
   },
   "outputs": [],
   "source": [
    "def compute_gender_baseline(df):\n",
    "    df['test_gender']=(data['gender']==0)\n",
    "    return df['test_gender'].mean()"
   ]
  },
  {
   "cell_type": "code",
   "execution_count": 20,
   "id": "b5667cc6",
   "metadata": {
    "hidden": true
   },
   "outputs": [
    {
     "data": {
      "text/plain": [
       "0.5308"
      ]
     },
     "execution_count": 20,
     "metadata": {},
     "output_type": "execute_result"
    }
   ],
   "source": [
    "compute_gender_baseline(data)"
   ]
  },
  {
   "cell_type": "markdown",
   "id": "857fd87a",
   "metadata": {},
   "source": [
    "# CNN model"
   ]
  },
  {
   "cell_type": "markdown",
   "id": "ad1fef4d",
   "metadata": {},
   "source": [
    "## Preprocessing"
   ]
  },
  {
   "cell_type": "code",
   "execution_count": 1,
   "id": "f8a3aaba",
   "metadata": {},
   "outputs": [
    {
     "name": "stderr",
     "output_type": "stream",
     "text": [
      "2022-05-31 11:42:59.027766: W tensorflow/stream_executor/platform/default/dso_loader.cc:64] Could not load dynamic library 'libcudart.so.11.0'; dlerror: libcudart.so.11.0: cannot open shared object file: No such file or directory\n",
      "2022-05-31 11:42:59.027839: I tensorflow/stream_executor/cuda/cudart_stub.cc:29] Ignore above cudart dlerror if you do not have a GPU set up on your machine.\n"
     ]
    }
   ],
   "source": [
    "from tensorflow.keras.utils import to_categorical\n",
    "from tensorflow.keras import regularizers\n",
    "from tensorflow.keras import layers, models\n",
    "from tensorflow.keras.utils import image_dataset_from_directory"
   ]
  },
  {
   "cell_type": "code",
   "execution_count": 12,
   "id": "fdcf1622",
   "metadata": {},
   "outputs": [
    {
     "name": "stdout",
     "output_type": "stream",
     "text": [
      "Found 18964 files belonging to 5 classes.\n",
      "Using 3792 files for validation.\n",
      "Found 18964 files belonging to 5 classes.\n",
      "Using 15172 files for training.\n"
     ]
    }
   ],
   "source": [
    "directory='../raw_data/all_images/ethnicity/train/'\n",
    "validation=image_dataset_from_directory(directory,\n",
    "                                   labels='inferred',\n",
    "                                   label_mode='categorical',\n",
    "                                   image_size=(224, 224),\n",
    "                                   validation_split=0.2,\n",
    "                                   subset=\"validation\",\n",
    "                                   seed=42)\n",
    "train=image_dataset_from_directory(directory,\n",
    "                                   labels='inferred',\n",
    "                                   label_mode='categorical',\n",
    "                                   image_size=(224, 224),\n",
    "                                   validation_split=0.2,\n",
    "                                   subset=\"training\",\n",
    "                                   seed=42)"
   ]
  },
  {
   "cell_type": "code",
   "execution_count": 3,
   "id": "0c1d40bb",
   "metadata": {},
   "outputs": [],
   "source": [
    "### Regularizers\n",
    "reg_l1 = regularizers.L1(0.01)\n",
    "reg_l2 = regularizers.L2(0.01)\n",
    "reg_l1_l2 = regularizers.l1_l2(l1=0.005, l2=0.0005)"
   ]
  },
  {
   "cell_type": "code",
   "execution_count": 4,
   "id": "cb94d795",
   "metadata": {},
   "outputs": [],
   "source": [
    "from tensorflow.keras.applications.resnet50 import ResNet50\n",
    "from tensorflow.keras.applications.resnet50 import preprocess_input\n",
    "from tensorflow.keras import optimizers\n",
    "from tensorflow.keras.callbacks import EarlyStopping\n",
    "from tensorflow.keras.utils import to_categorical\n",
    "\n",
    "def load_model():\n",
    "    model = ResNet50(weights=\"imagenet\", include_top=False, input_shape=(224, 224, 3))\n",
    "    return model\n",
    "\n",
    "def set_nontrainable_layers(model):\n",
    "    # Set the first layers to be untrainable\n",
    "    model.trainable = False\n",
    "    return model\n",
    "\n",
    "def add_last_layers(model):\n",
    "    '''Take a pre-trained model, set its parameters as non-trainable, and add additional trainable layers on top'''\n",
    "    base_model = set_nontrainable_layers(model)\n",
    "    flatten_layer = layers.Flatten()\n",
    "    dense_layer_1 = layers.Dense(100, activation='relu')\n",
    "    dense_layer_2 = layers.Dense(100, activation='relu')\n",
    "    dense_layer_3 = layers.Dense(100, activation='relu')\n",
    "    dense_layer_4 = layers.Dense(100, activation='relu')\n",
    "    dense_layer_5 = layers.Dense(100, activation='relu')\n",
    "    dropout_layer = layers.Dropout(0.2)\n",
    "    prediction_layer = layers.Dense(5, activation='softmax')\n",
    "    \n",
    "    \n",
    "    model = models.Sequential([\n",
    "        base_model,\n",
    "        flatten_layer,\n",
    "        dense_layer_1,\n",
    "        prediction_layer\n",
    "    ])\n",
    "    return model\n",
    "\n",
    "def build_model():  \n",
    "    model = load_model()\n",
    "    model = add_last_layers(model)\n",
    "    \n",
    "    opt = optimizers.Adam(learning_rate=1e-4)\n",
    "    model.compile(loss='categorical_crossentropy',\n",
    "                  optimizer=opt,\n",
    "                  metrics=['accuracy'])\n",
    "    return model"
   ]
  },
  {
   "cell_type": "code",
   "execution_count": 5,
   "id": "7b562d7e",
   "metadata": {},
   "outputs": [
    {
     "name": "stdout",
     "output_type": "stream",
     "text": [
      "Model: \"sequential\"\n",
      "_________________________________________________________________\n",
      " Layer (type)                Output Shape              Param #   \n",
      "=================================================================\n",
      " resnet50 (Functional)       (None, 7, 7, 2048)        23587712  \n",
      "                                                                 \n",
      " flatten (Flatten)           (None, 100352)            0         \n",
      "                                                                 \n",
      " dense (Dense)               (None, 100)               10035300  \n",
      "                                                                 \n",
      " dense_5 (Dense)             (None, 5)                 505       \n",
      "                                                                 \n",
      "=================================================================\n",
      "Total params: 33,623,517\n",
      "Trainable params: 10,035,805\n",
      "Non-trainable params: 23,587,712\n",
      "_________________________________________________________________\n"
     ]
    }
   ],
   "source": [
    "model = build_model()\n",
    "model.summary()"
   ]
  },
  {
   "cell_type": "code",
   "execution_count": 13,
   "id": "85afa3ce",
   "metadata": {},
   "outputs": [],
   "source": [
    "train = train.map(lambda x, y: (preprocess_input(x), y))\n",
    "validation = validation.map(lambda x, y: (preprocess_input(x), y))"
   ]
  },
  {
   "cell_type": "code",
   "execution_count": 1,
   "id": "bafb3e52",
   "metadata": {},
   "outputs": [
    {
     "ename": "NameError",
     "evalue": "name 'build_model' is not defined",
     "output_type": "error",
     "traceback": [
      "\u001b[0;31m---------------------------------------------------------------------------\u001b[0m",
      "\u001b[0;31mNameError\u001b[0m                                 Traceback (most recent call last)",
      "Input \u001b[0;32mIn [1]\u001b[0m, in \u001b[0;36m<cell line: 1>\u001b[0;34m()\u001b[0m\n\u001b[0;32m----> 1\u001b[0m model \u001b[38;5;241m=\u001b[39m \u001b[43mbuild_model\u001b[49m()\n\u001b[1;32m      3\u001b[0m es \u001b[38;5;241m=\u001b[39m EarlyStopping(monitor \u001b[38;5;241m=\u001b[39m \u001b[38;5;124m'\u001b[39m\u001b[38;5;124mval_accuracy\u001b[39m\u001b[38;5;124m'\u001b[39m, \n\u001b[1;32m      4\u001b[0m                    mode \u001b[38;5;241m=\u001b[39m \u001b[38;5;124m'\u001b[39m\u001b[38;5;124mmax\u001b[39m\u001b[38;5;124m'\u001b[39m, \n\u001b[1;32m      5\u001b[0m                    patience \u001b[38;5;241m=\u001b[39m \u001b[38;5;241m3\u001b[39m, \n\u001b[1;32m      6\u001b[0m                    verbose \u001b[38;5;241m=\u001b[39m \u001b[38;5;241m1\u001b[39m, \n\u001b[1;32m      7\u001b[0m                    restore_best_weights \u001b[38;5;241m=\u001b[39m \u001b[38;5;28;01mTrue\u001b[39;00m)\n\u001b[1;32m      9\u001b[0m history \u001b[38;5;241m=\u001b[39m model\u001b[38;5;241m.\u001b[39mfit(train,\n\u001b[1;32m     10\u001b[0m                     validation_data\u001b[38;5;241m=\u001b[39mvalidation,\n\u001b[1;32m     11\u001b[0m                     epochs\u001b[38;5;241m=\u001b[39m\u001b[38;5;241m50\u001b[39m, \n\u001b[1;32m     12\u001b[0m                     batch_size\u001b[38;5;241m=\u001b[39m\u001b[38;5;241m32\u001b[39m,\n\u001b[1;32m     13\u001b[0m                     validation_batch_size\u001b[38;5;241m=\u001b[39m\u001b[38;5;241m32\u001b[39m,\n\u001b[1;32m     14\u001b[0m                     callbacks\u001b[38;5;241m=\u001b[39m[es])\n",
      "\u001b[0;31mNameError\u001b[0m: name 'build_model' is not defined"
     ]
    }
   ],
   "source": [
    "model = build_model()\n",
    "\n",
    "es = EarlyStopping(monitor = 'val_accuracy', \n",
    "                   mode = 'max', \n",
    "                   patience = 3, \n",
    "                   verbose = 1, \n",
    "                   restore_best_weights = True)\n",
    "\n",
    "history = model.fit(train,\n",
    "                    validation_data=validation,\n",
    "                    epochs=50, \n",
    "                    batch_size=32,\n",
    "                    validation_batch_size=32,\n",
    "                    callbacks=[es])"
   ]
  },
  {
   "cell_type": "code",
   "execution_count": null,
   "id": "8e80ba47",
   "metadata": {},
   "outputs": [],
   "source": []
  }
 ],
 "metadata": {
  "kernelspec": {
   "display_name": "Python 3 (ipykernel)",
   "language": "python",
   "name": "python3"
  },
  "language_info": {
   "codemirror_mode": {
    "name": "ipython",
    "version": 3
   },
   "file_extension": ".py",
   "mimetype": "text/x-python",
   "name": "python",
   "nbconvert_exporter": "python",
   "pygments_lexer": "ipython3",
   "version": "3.8.12"
  },
  "toc": {
   "base_numbering": 1,
   "nav_menu": {},
   "number_sections": true,
   "sideBar": true,
   "skip_h1_title": false,
   "title_cell": "Table of Contents",
   "title_sidebar": "Contents",
   "toc_cell": false,
   "toc_position": {},
   "toc_section_display": true,
   "toc_window_display": false
  }
 },
 "nbformat": 4,
 "nbformat_minor": 5
}
