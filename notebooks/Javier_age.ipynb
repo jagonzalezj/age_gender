{
 "cells": [
  {
   "cell_type": "code",
   "execution_count": 2,
   "id": "e942f409",
   "metadata": {},
   "outputs": [],
   "source": [
    "import requests\n",
    "import numpy as np\n",
    "import pandas as pd\n",
    "import seaborn as sns\n",
    "import matplotlib.pyplot as plt\n",
    "import io\n",
    "import csv"
   ]
  },
  {
   "cell_type": "code",
   "execution_count": 3,
   "id": "761b19dd",
   "metadata": {},
   "outputs": [],
   "source": [
    "data_path = '/home/gonzalez/Desktop/age_gender/age_gender.csv'\n",
    "url = 'https://www.kaggle.com/code/shahraizanwar/age-gender-ethnicity-prediction/data?select=age_gender.csv'"
   ]
  },
  {
   "cell_type": "code",
   "execution_count": 5,
   "id": "b61de7b9",
   "metadata": {},
   "outputs": [],
   "source": [
    "data = pd.read_csv(data_path)"
   ]
  },
  {
   "cell_type": "code",
   "execution_count": 4,
   "id": "0cb7d3e0",
   "metadata": {},
   "outputs": [
    {
     "data": {
      "text/plain": [
       "Index(['age', 'ethnicity', 'gender', 'img_name', 'pixels'], dtype='object')"
      ]
     },
     "execution_count": 4,
     "metadata": {},
     "output_type": "execute_result"
    }
   ],
   "source": [
    "data.columns"
   ]
  },
  {
   "cell_type": "markdown",
   "id": "dfec1061",
   "metadata": {},
   "source": [
    "# Loading data from google cloud to google colab"
   ]
  },
  {
   "cell_type": "code",
   "execution_count": 14,
   "id": "612cad54",
   "metadata": {},
   "outputs": [],
   "source": [
    "from google.colab import drive \n",
    "drive.mount('/content/gdrive')\n",
    "df=pd.read_csv('gdrive/My Drive/age_gender.csv')"
   ]
  },
  {
   "cell_type": "markdown",
   "id": "7de094b9",
   "metadata": {},
   "source": [
    " # Transforming the pixels data type into a list of float"
   ]
  },
  {
   "cell_type": "code",
   "execution_count": null,
   "id": "67406a11",
   "metadata": {},
   "outputs": [],
   "source": [
    "# images =[]\n",
    "# for fotos in range(len(data['pixels'])):\n",
    "#     X = data['pixels'][fotos].split(\" \")\n",
    "#     X = list(map(int, X))\n",
    "#     images.append(X)"
   ]
  },
  {
   "cell_type": "code",
   "execution_count": null,
   "id": "c382e670",
   "metadata": {},
   "outputs": [],
   "source": [
    "# x = np.reshape(images[5000], (48,48))"
   ]
  },
  {
   "cell_type": "code",
   "execution_count": 78,
   "id": "2034415d",
   "metadata": {},
   "outputs": [],
   "source": [
    "data['pixels']=data['pixels'].apply(lambda x:  np.array(x.split(), dtype=\"float32\"))"
   ]
  },
  {
   "cell_type": "code",
   "execution_count": 79,
   "id": "f1367365",
   "metadata": {},
   "outputs": [],
   "source": [
    "blob = data['pixels'][0].reshape(48,48)"
   ]
  },
  {
   "cell_type": "code",
   "execution_count": 80,
   "id": "32c74751",
   "metadata": {},
   "outputs": [
    {
     "data": {
      "image/png": "[encoded data removed]",
      "text/plain": [
       "<Figure size 432x288 with 1 Axes>"
      ]
     },
     "metadata": {
      "needs_background": "light"
     },
     "output_type": "display_data"
    }
   ],
   "source": [
    "plt.imshow(blob, cmap='gray');"
   ]
  },
  {
   "cell_type": "code",
   "execution_count": 33,
   "id": "9a953707",
   "metadata": {},
   "outputs": [
    {
     "data": {
      "image/png": "[encoded data removed]",
      "text/plain": [
       "<Figure size 864x360 with 3 Axes>"
      ]
     },
     "metadata": {},
     "output_type": "display_data"
    }
   ],
   "source": [
    "#sns.displot(data['ethnicity']),\n",
    "#sns.displot(data['gender']), \n",
    "#sns.displot(data['age']);\n",
    "fig, axes = plt.subplots(1, 3, figsize=(12, 5))\n",
    "sns.histplot(ax=axes[0], x=data['age']);\n",
    "sns.histplot(ax=axes[1], x=data['ethnicity']);\n",
    "sns.histplot(ax=axes[2], x=data['gender']);"
   ]
  },
  {
   "cell_type": "markdown",
   "id": "3251d861",
   "metadata": {},
   "source": [
    "# Working with the age"
   ]
  },
  {
   "cell_type": "code",
   "execution_count": 82,
   "id": "e1d2f14c",
   "metadata": {},
   "outputs": [],
   "source": [
    "# list the number of counts per age\n",
    "ages = data['age'].unique()\n",
    "counts = []\n",
    "for age in ages:\n",
    "    counts.append(np.count_nonzero(data['age']==age))\n",
    "    "
   ]
  },
  {
   "cell_type": "code",
   "execution_count": 90,
   "id": "23f55ada",
   "metadata": {},
   "outputs": [
    {
     "data": {
      "text/html": [
       "<div>\n",
       "<style scoped>\n",
       "    .dataframe tbody tr th:only-of-type {\n",
       "        vertical-align: middle;\n",
       "    }\n",
       "\n",
       "    .dataframe tbody tr th {\n",
       "        vertical-align: top;\n",
       "    }\n",
       "\n",
       "    .dataframe thead th {\n",
       "        text-align: right;\n",
       "    }\n",
       "</style>\n",
       "<table border=\"1\" class=\"dataframe\">\n",
       "  <thead>\n",
       "    <tr style=\"text-align: right;\">\n",
       "      <th></th>\n",
       "      <th>ages</th>\n",
       "      <th>counts</th>\n",
       "    </tr>\n",
       "  </thead>\n",
       "  <tbody>\n",
       "    <tr>\n",
       "      <th>26</th>\n",
       "      <td>26</td>\n",
       "      <td>2197</td>\n",
       "    </tr>\n",
       "    <tr>\n",
       "      <th>0</th>\n",
       "      <td>1</td>\n",
       "      <td>1123</td>\n",
       "    </tr>\n",
       "    <tr>\n",
       "      <th>28</th>\n",
       "      <td>28</td>\n",
       "      <td>918</td>\n",
       "    </tr>\n",
       "    <tr>\n",
       "      <th>36</th>\n",
       "      <td>35</td>\n",
       "      <td>880</td>\n",
       "    </tr>\n",
       "    <tr>\n",
       "      <th>24</th>\n",
       "      <td>24</td>\n",
       "      <td>859</td>\n",
       "    </tr>\n",
       "    <tr>\n",
       "      <th>25</th>\n",
       "      <td>25</td>\n",
       "      <td>734</td>\n",
       "    </tr>\n",
       "    <tr>\n",
       "      <th>31</th>\n",
       "      <td>30</td>\n",
       "      <td>724</td>\n",
       "    </tr>\n",
       "    <tr>\n",
       "      <th>33</th>\n",
       "      <td>32</td>\n",
       "      <td>664</td>\n",
       "    </tr>\n",
       "    <tr>\n",
       "      <th>27</th>\n",
       "      <td>27</td>\n",
       "      <td>615</td>\n",
       "    </tr>\n",
       "    <tr>\n",
       "      <th>29</th>\n",
       "      <td>29</td>\n",
       "      <td>570</td>\n",
       "    </tr>\n",
       "    <tr>\n",
       "      <th>42</th>\n",
       "      <td>40</td>\n",
       "      <td>526</td>\n",
       "    </tr>\n",
       "    <tr>\n",
       "      <th>37</th>\n",
       "      <td>36</td>\n",
       "      <td>483</td>\n",
       "    </tr>\n",
       "    <tr>\n",
       "      <th>19</th>\n",
       "      <td>2</td>\n",
       "      <td>482</td>\n",
       "    </tr>\n",
       "    <tr>\n",
       "      <th>47</th>\n",
       "      <td>45</td>\n",
       "      <td>440</td>\n",
       "    </tr>\n",
       "    <tr>\n",
       "      <th>23</th>\n",
       "      <td>23</td>\n",
       "      <td>426</td>\n",
       "    </tr>\n",
       "  </tbody>\n",
       "</table>\n",
       "</div>"
      ],
      "text/plain": [
       "    ages  counts\n",
       "26    26    2197\n",
       "0      1    1123\n",
       "28    28     918\n",
       "36    35     880\n",
       "24    24     859\n",
       "25    25     734\n",
       "31    30     724\n",
       "33    32     664\n",
       "27    27     615\n",
       "29    29     570\n",
       "42    40     526\n",
       "37    36     483\n",
       "19     2     482\n",
       "47    45     440\n",
       "23    23     426"
      ]
     },
     "execution_count": 90,
     "metadata": {},
     "output_type": "execute_result"
    }
   ],
   "source": [
    "# table with the first 15 most dense samples regarding age\n",
    "type(ages), type(counts)\n",
    "s =pd.DataFrame([ages.T, np.array(counts).T],['ages', 'counts'])\n",
    "s=s.transpose()\n",
    "more_dense = s.sort_values(by=['counts'], ascending=False)\n",
    "more_dense.head(15)"
   ]
  },
  {
   "cell_type": "code",
   "execution_count": null,
   "id": "b4412677",
   "metadata": {},
   "outputs": [],
   "source": []
  },
  {
   "cell_type": "markdown",
   "id": "475cf968",
   "metadata": {},
   "source": [
    "# Function for transforming data numbers into data range classification"
   ]
  },
  {
   "cell_type": "code",
   "execution_count": null,
   "id": "0a608365",
   "metadata": {},
   "outputs": [],
   "source": [
    "# categorize age per range:\n",
    "def age_categorize(input_list, age_step=10):\n",
    "    '''\n",
    "    Enter the list of age into input_list and the age steps\n",
    "    with : age_step = 5;  age = 4   =>  1-5\n",
    "                          age = 12  =>  10-15                        \n",
    "    '''\n",
    "    \n",
    "    cat_age = []\n",
    "    for age in input_list:\n",
    "        \n",
    "        a = float(age)/float(age_step)\n",
    "        \n",
    "        if a > 1:\n",
    "            entero = int(a)\n",
    "            coma = a-entero\n",
    "            \n",
    "            if coma > 0:\n",
    "                entero = entero+1\n",
    "            \n",
    "            max = entero * age_step\n",
    "            min = max-(age_step-1)     \n",
    "            cat_age.append(f'{min} to {max}')\n",
    "        else:\n",
    "            min = 1\n",
    "            max = age_step\n",
    "            cat_age.append(f'{min} to {max}')\n",
    "            \n",
    "    return cat_age"
   ]
  },
  {
   "cell_type": "code",
   "execution_count": null,
   "id": "d2da59da",
   "metadata": {},
   "outputs": [],
   "source": [
    "step_size = 3\n",
    "input_list = data['age']\n",
    "cat = age_categorize(input_list)"
   ]
  },
  {
   "cell_type": "code",
   "execution_count": null,
   "id": "2bbfaf4d",
   "metadata": {},
   "outputs": [],
   "source": [
    "pd.DataFrame(cat, data['age'].values).sample(100)"
   ]
  },
  {
   "cell_type": "code",
   "execution_count": null,
   "id": "222b952f",
   "metadata": {},
   "outputs": [],
   "source": [
    "input_list = data['age'].unique"
   ]
  },
  {
   "cell_type": "code",
   "execution_count": null,
   "id": "a3603757",
   "metadata": {},
   "outputs": [],
   "source": [
    "data['ethnicity'].unique()"
   ]
  },
  {
   "cell_type": "code",
   "execution_count": null,
   "id": "34d1a274",
   "metadata": {},
   "outputs": [],
   "source": []
  },
  {
   "cell_type": "markdown",
   "id": "cc6033ea",
   "metadata": {},
   "source": [
    "# Here we go with the model"
   ]
  },
  {
   "cell_type": "code",
   "execution_count": 92,
   "id": "0b8f3f14",
   "metadata": {},
   "outputs": [],
   "source": [
    "from tensorflow.keras import Sequential, layers, models\n",
    "from tensorflow.keras import optimizers\n",
    "from tensorflow.keras.callbacks import EarlyStopping\n",
    "from tensorflow.keras.layers.experimental.preprocessing import Rescaling\n",
    "from sklearn.model_selection import train_test_split"
   ]
  },
  {
   "cell_type": "code",
   "execution_count": 93,
   "id": "56e6a003",
   "metadata": {},
   "outputs": [],
   "source": [
    "X = data['pixels'].tolist()\n",
    "X = np.reshape(X, (-1, 48, 48,1))\n",
    "\n",
    "y = data['age']"
   ]
  },
  {
   "cell_type": "code",
   "execution_count": 94,
   "id": "43503b3e",
   "metadata": {},
   "outputs": [],
   "source": [
    "X_train, X_test, y_train, y_test = train_test_split(X, y, test_size=0.3, random_state=1)"
   ]
  },
  {
   "cell_type": "code",
   "execution_count": 95,
   "id": "44a9196d",
   "metadata": {},
   "outputs": [],
   "source": [
    "def initialize_model():\n",
    "    \n",
    "    model = Sequential()\n",
    "    model.add(layers.Conv2D(32, (3,3), activation='relu', input_shape=(48,48,1)))\n",
    "    model.add(layers.MaxPool2D(pool_size=(2,2)))\n",
    "\n",
    "    model.add(layers.Conv2D(64, (3,3), activation='relu', padding='same'))\n",
    "    model.add(layers.MaxPool2D(pool_size=(2,2)))\n",
    "\n",
    "    \n",
    "    \n",
    "    model.add(layers.Conv2D(64,(3,3),activation='relu'))\n",
    "    model.add(layers.MaxPooling2D(2,2))\n",
    "    model.add(layers.Dropout(0.2))\n",
    "\n",
    "    model.add(layers.Conv2D(128,(3,3),activation='relu'))\n",
    "    model.add(layers.MaxPooling2D(2,2))\n",
    "    model.add(layers.Dropout(0.2))          \n",
    "\n",
    "    model.add(layers.Flatten())\n",
    "    model.add(layers.Dropout(0.5))\n",
    "    \n",
    "    model.add(layers.Dense(1, activation='relu'))\n",
    "\n",
    "    \n",
    "    return model"
   ]
  },
  {
   "cell_type": "code",
   "execution_count": 96,
   "id": "b463a3e3",
   "metadata": {},
   "outputs": [
    {
     "name": "stdout",
     "output_type": "stream",
     "text": [
      "Model: \"sequential\"\n",
      "_________________________________________________________________\n",
      " Layer (type)                Output Shape              Param #   \n",
      "=================================================================\n",
      " conv2d (Conv2D)             (None, 46, 46, 32)        320       \n",
      "                                                                 \n",
      " max_pooling2d (MaxPooling2D  (None, 23, 23, 32)       0         \n",
      " )                                                               \n",
      "                                                                 \n",
      " conv2d_1 (Conv2D)           (None, 23, 23, 64)        18496     \n",
      "                                                                 \n",
      " max_pooling2d_1 (MaxPooling  (None, 11, 11, 64)       0         \n",
      " 2D)                                                             \n",
      "                                                                 \n",
      " conv2d_2 (Conv2D)           (None, 9, 9, 64)          36928     \n",
      "                                                                 \n",
      " max_pooling2d_2 (MaxPooling  (None, 4, 4, 64)         0         \n",
      " 2D)                                                             \n",
      "                                                                 \n",
      " dropout (Dropout)           (None, 4, 4, 64)          0         \n",
      "                                                                 \n",
      " conv2d_3 (Conv2D)           (None, 2, 2, 128)         73856     \n",
      "                                                                 \n",
      " max_pooling2d_3 (MaxPooling  (None, 1, 1, 128)        0         \n",
      " 2D)                                                             \n",
      "                                                                 \n",
      " dropout_1 (Dropout)         (None, 1, 1, 128)         0         \n",
      "                                                                 \n",
      " flatten (Flatten)           (None, 128)               0         \n",
      "                                                                 \n",
      " dropout_2 (Dropout)         (None, 128)               0         \n",
      "                                                                 \n",
      " dense (Dense)               (None, 1)                 129       \n",
      "                                                                 \n",
      "=================================================================\n",
      "Total params: 129,729\n",
      "Trainable params: 129,729\n",
      "Non-trainable params: 0\n",
      "_________________________________________________________________\n"
     ]
    },
    {
     "name": "stderr",
     "output_type": "stream",
     "text": [
      "2022-05-31 11:14:27.586696: W tensorflow/stream_executor/platform/default/dso_loader.cc:64] Could not load dynamic library 'libcuda.so.1'; dlerror: libcuda.so.1: cannot open shared object file: No such file or directory; LD_LIBRARY_PATH: :/home/gonzalez/TOOLS/elmer/install//lib\n",
      "2022-05-31 11:14:27.586721: W tensorflow/stream_executor/cuda/cuda_driver.cc:269] failed call to cuInit: UNKNOWN ERROR (303)\n",
      "2022-05-31 11:14:27.586740: I tensorflow/stream_executor/cuda/cuda_diagnostics.cc:156] kernel driver does not appear to be running on this host (gonzalez-Latitude): /proc/driver/nvidia/version does not exist\n",
      "2022-05-31 11:14:27.587189: I tensorflow/core/platform/cpu_feature_guard.cc:151] This TensorFlow binary is optimized with oneAPI Deep Neural Network Library (oneDNN) to use the following CPU instructions in performance-critical operations:  AVX2 FMA\n",
      "To enable them in other operations, rebuild TensorFlow with the appropriate compiler flags.\n"
     ]
    }
   ],
   "source": [
    "model = initialize_model()\n",
    "model.summary()"
   ]
  },
  {
   "cell_type": "code",
   "execution_count": 97,
   "id": "e8a62db1",
   "metadata": {},
   "outputs": [],
   "source": [
    "model.compile(loss='mean_squared_error', optimizer='adam', metrics=['mae'])"
   ]
  },
  {
   "cell_type": "code",
   "execution_count": 99,
   "id": "de183bdf",
   "metadata": {},
   "outputs": [],
   "source": [
    "from tensorflow.keras.callbacks import EarlyStopping\n",
    "es = EarlyStopping(monitor='val_loss', patience=6, restore_best_weights=True)"
   ]
  },
  {
   "cell_type": "code",
   "execution_count": 100,
   "id": "9216753a",
   "metadata": {},
   "outputs": [
    {
     "data": {
      "text/plain": [
       "(16593, 48, 48, 1)"
      ]
     },
     "execution_count": 100,
     "metadata": {},
     "output_type": "execute_result"
    }
   ],
   "source": [
    "X_train.shape"
   ]
  },
  {
   "cell_type": "code",
   "execution_count": 101,
   "id": "e839ca07",
   "metadata": {},
   "outputs": [
    {
     "name": "stdout",
     "output_type": "stream",
     "text": [
      "Epoch 1/40\n",
      "519/519 [==============================] - ETA: 0s - loss: 408.2867 - mae: 15.5040WARNING:tensorflow:Early stopping conditioned on metric `val_loss` which is not available. Available metrics are: loss,mae\n",
      "519/519 [==============================] - 23s 43ms/step - loss: 408.2867 - mae: 15.5040\n",
      "Epoch 2/40\n",
      "519/519 [==============================] - ETA: 0s - loss: 251.7399 - mae: 11.9026WARNING:tensorflow:Early stopping conditioned on metric `val_loss` which is not available. Available metrics are: loss,mae\n",
      "519/519 [==============================] - 22s 43ms/step - loss: 251.7399 - mae: 11.9026\n",
      "Epoch 3/40\n",
      "518/519 [============================>.] - ETA: 0s - loss: 223.5629 - mae: 11.1475WARNING:tensorflow:Early stopping conditioned on metric `val_loss` which is not available. Available metrics are: loss,mae\n",
      "519/519 [==============================] - 24s 47ms/step - loss: 223.5397 - mae: 11.1481\n",
      "Epoch 4/40\n",
      "518/519 [============================>.] - ETA: 0s - loss: 197.5632 - mae: 10.4431WARNING:tensorflow:Early stopping conditioned on metric `val_loss` which is not available. Available metrics are: loss,mae\n",
      "519/519 [==============================] - 25s 49ms/step - loss: 197.6201 - mae: 10.4441\n",
      "Epoch 5/40\n",
      "519/519 [==============================] - ETA: 0s - loss: 185.9484 - mae: 10.0802WARNING:tensorflow:Early stopping conditioned on metric `val_loss` which is not available. Available metrics are: loss,mae\n",
      "519/519 [==============================] - 22s 42ms/step - loss: 185.9484 - mae: 10.0802\n",
      "Epoch 6/40\n",
      "519/519 [==============================] - ETA: 0s - loss: 175.4526 - mae: 9.8085WARNING:tensorflow:Early stopping conditioned on metric `val_loss` which is not available. Available metrics are: loss,mae\n",
      "519/519 [==============================] - 20s 38ms/step - loss: 175.4526 - mae: 9.8085\n",
      "Epoch 7/40\n",
      "519/519 [==============================] - ETA: 0s - loss: 164.3824 - mae: 9.4989WARNING:tensorflow:Early stopping conditioned on metric `val_loss` which is not available. Available metrics are: loss,mae\n",
      "519/519 [==============================] - 20s 38ms/step - loss: 164.3824 - mae: 9.4989\n",
      "Epoch 8/40\n",
      "519/519 [==============================] - ETA: 0s - loss: 161.9035 - mae: 9.3788WARNING:tensorflow:Early stopping conditioned on metric `val_loss` which is not available. Available metrics are: loss,mae\n",
      "519/519 [==============================] - 20s 38ms/step - loss: 161.9035 - mae: 9.3788\n",
      "Epoch 9/40\n",
      "518/519 [============================>.] - ETA: 0s - loss: 156.8249 - mae: 9.2218WARNING:tensorflow:Early stopping conditioned on metric `val_loss` which is not available. Available metrics are: loss,mae\n",
      "519/519 [==============================] - 22s 42ms/step - loss: 156.7512 - mae: 9.2185\n",
      "Epoch 10/40\n",
      "518/519 [============================>.] - ETA: 0s - loss: 148.8298 - mae: 8.9936WARNING:tensorflow:Early stopping conditioned on metric `val_loss` which is not available. Available metrics are: loss,mae\n",
      "519/519 [==============================] - 25s 47ms/step - loss: 148.8609 - mae: 8.9956\n",
      "Epoch 11/40\n",
      "519/519 [==============================] - ETA: 0s - loss: 144.3601 - mae: 8.8774WARNING:tensorflow:Early stopping conditioned on metric `val_loss` which is not available. Available metrics are: loss,mae\n",
      "519/519 [==============================] - 24s 46ms/step - loss: 144.3601 - mae: 8.8774\n",
      "Epoch 12/40\n",
      "518/519 [============================>.] - ETA: 0s - loss: 140.3308 - mae: 8.7495WARNING:tensorflow:Early stopping conditioned on metric `val_loss` which is not available. Available metrics are: loss,mae\n",
      "519/519 [==============================] - 22s 43ms/step - loss: 140.2643 - mae: 8.7473\n",
      "Epoch 13/40\n",
      "519/519 [==============================] - ETA: 0s - loss: 141.6856 - mae: 8.8003WARNING:tensorflow:Early stopping conditioned on metric `val_loss` which is not available. Available metrics are: loss,mae\n",
      "519/519 [==============================] - 22s 43ms/step - loss: 141.6856 - mae: 8.8003\n",
      "Epoch 14/40\n",
      "518/519 [============================>.] - ETA: 0s - loss: 134.9484 - mae: 8.6249WARNING:tensorflow:Early stopping conditioned on metric `val_loss` which is not available. Available metrics are: loss,mae\n",
      "519/519 [==============================] - 22s 43ms/step - loss: 134.8895 - mae: 8.6233\n",
      "Epoch 15/40\n",
      "519/519 [==============================] - ETA: 0s - loss: 132.3136 - mae: 8.5142WARNING:tensorflow:Early stopping conditioned on metric `val_loss` which is not available. Available metrics are: loss,mae\n",
      "519/519 [==============================] - 22s 43ms/step - loss: 132.3136 - mae: 8.5142\n",
      "Epoch 16/40\n",
      "518/519 [============================>.] - ETA: 0s - loss: 135.4324 - mae: 8.6215WARNING:tensorflow:Early stopping conditioned on metric `val_loss` which is not available. Available metrics are: loss,mae\n",
      "519/519 [==============================] - 22s 43ms/step - loss: 135.4038 - mae: 8.6200\n",
      "Epoch 17/40\n",
      "518/519 [============================>.] - ETA: 0s - loss: 132.8920 - mae: 8.5368WARNING:tensorflow:Early stopping conditioned on metric `val_loss` which is not available. Available metrics are: loss,mae\n",
      "519/519 [==============================] - 22s 43ms/step - loss: 132.9293 - mae: 8.5382\n",
      "Epoch 18/40\n",
      "518/519 [============================>.] - ETA: 0s - loss: 123.9201 - mae: 8.2799WARNING:tensorflow:Early stopping conditioned on metric `val_loss` which is not available. Available metrics are: loss,mae\n",
      "519/519 [==============================] - 22s 43ms/step - loss: 123.9906 - mae: 8.2819\n",
      "Epoch 19/40\n",
      "519/519 [==============================] - ETA: 0s - loss: 123.8473 - mae: 8.2616WARNING:tensorflow:Early stopping conditioned on metric `val_loss` which is not available. Available metrics are: loss,mae\n",
      "519/519 [==============================] - 22s 43ms/step - loss: 123.8473 - mae: 8.2616\n",
      "Epoch 20/40\n",
      "518/519 [============================>.] - ETA: 0s - loss: 123.2376 - mae: 8.2469WARNING:tensorflow:Early stopping conditioned on metric `val_loss` which is not available. Available metrics are: loss,mae\n",
      "519/519 [==============================] - 22s 43ms/step - loss: 123.1574 - mae: 8.2441\n",
      "Epoch 21/40\n",
      "518/519 [============================>.] - ETA: 0s - loss: 121.1467 - mae: 8.1764WARNING:tensorflow:Early stopping conditioned on metric `val_loss` which is not available. Available metrics are: loss,mae\n",
      "519/519 [==============================] - 23s 45ms/step - loss: 121.1749 - mae: 8.1777\n",
      "Epoch 22/40\n",
      "519/519 [==============================] - ETA: 0s - loss: 122.0431 - mae: 8.1696WARNING:tensorflow:Early stopping conditioned on metric `val_loss` which is not available. Available metrics are: loss,mae\n",
      "519/519 [==============================] - 23s 44ms/step - loss: 122.0431 - mae: 8.1696\n",
      "Epoch 23/40\n",
      "518/519 [============================>.] - ETA: 0s - loss: 121.0868 - mae: 8.1433WARNING:tensorflow:Early stopping conditioned on metric `val_loss` which is not available. Available metrics are: loss,mae\n",
      "519/519 [==============================] - 22s 43ms/step - loss: 121.0570 - mae: 8.1427\n",
      "Epoch 24/40\n",
      "518/519 [============================>.] - ETA: 0s - loss: 118.0199 - mae: 8.0581WARNING:tensorflow:Early stopping conditioned on metric `val_loss` which is not available. Available metrics are: loss,mae\n",
      "519/519 [==============================] - 23s 44ms/step - loss: 118.0184 - mae: 8.0589\n",
      "Epoch 25/40\n",
      "518/519 [============================>.] - ETA: 0s - loss: 112.3733 - mae: 7.8614WARNING:tensorflow:Early stopping conditioned on metric `val_loss` which is not available. Available metrics are: loss,mae\n",
      "519/519 [==============================] - 23s 43ms/step - loss: 112.3960 - mae: 7.8620\n",
      "Epoch 26/40\n",
      "518/519 [============================>.] - ETA: 0s - loss: 111.7355 - mae: 7.8674WARNING:tensorflow:Early stopping conditioned on metric `val_loss` which is not available. Available metrics are: loss,mae\n",
      "519/519 [==============================] - 23s 44ms/step - loss: 111.7159 - mae: 7.8667\n",
      "Epoch 27/40\n",
      "518/519 [============================>.] - ETA: 0s - loss: 111.0757 - mae: 7.8522WARNING:tensorflow:Early stopping conditioned on metric `val_loss` which is not available. Available metrics are: loss,mae\n",
      "519/519 [==============================] - 22s 43ms/step - loss: 111.0120 - mae: 7.8496\n"
     ]
    },
    {
     "name": "stdout",
     "output_type": "stream",
     "text": [
      "Epoch 28/40\n",
      "519/519 [==============================] - ETA: 0s - loss: 109.7057 - mae: 7.7600WARNING:tensorflow:Early stopping conditioned on metric `val_loss` which is not available. Available metrics are: loss,mae\n",
      "519/519 [==============================] - 26s 51ms/step - loss: 109.7057 - mae: 7.7600\n",
      "Epoch 29/40\n",
      "519/519 [==============================] - ETA: 0s - loss: 111.2718 - mae: 7.8507WARNING:tensorflow:Early stopping conditioned on metric `val_loss` which is not available. Available metrics are: loss,mae\n",
      "519/519 [==============================] - 26s 50ms/step - loss: 111.2718 - mae: 7.8507\n",
      "Epoch 30/40\n",
      "519/519 [==============================] - ETA: 0s - loss: 107.6901 - mae: 7.6962WARNING:tensorflow:Early stopping conditioned on metric `val_loss` which is not available. Available metrics are: loss,mae\n",
      "519/519 [==============================] - 23s 44ms/step - loss: 107.6901 - mae: 7.6962\n",
      "Epoch 31/40\n",
      "518/519 [============================>.] - ETA: 0s - loss: 105.4990 - mae: 7.6316WARNING:tensorflow:Early stopping conditioned on metric `val_loss` which is not available. Available metrics are: loss,mae\n",
      "519/519 [==============================] - 22s 43ms/step - loss: 105.5431 - mae: 7.6338\n",
      "Epoch 32/40\n",
      "518/519 [============================>.] - ETA: 0s - loss: 103.6789 - mae: 7.5563WARNING:tensorflow:Early stopping conditioned on metric `val_loss` which is not available. Available metrics are: loss,mae\n",
      "519/519 [==============================] - 23s 45ms/step - loss: 103.6919 - mae: 7.5558\n",
      "Epoch 33/40\n",
      "519/519 [==============================] - ETA: 0s - loss: 102.9769 - mae: 7.5292WARNING:tensorflow:Early stopping conditioned on metric `val_loss` which is not available. Available metrics are: loss,mae\n",
      "519/519 [==============================] - 23s 45ms/step - loss: 102.9769 - mae: 7.5292\n",
      "Epoch 34/40\n",
      "518/519 [============================>.] - ETA: 0s - loss: 101.1197 - mae: 7.4636WARNING:tensorflow:Early stopping conditioned on metric `val_loss` which is not available. Available metrics are: loss,mae\n",
      "519/519 [==============================] - 23s 44ms/step - loss: 101.1014 - mae: 7.4623\n",
      "Epoch 35/40\n",
      "519/519 [==============================] - ETA: 0s - loss: 101.0798 - mae: 7.4780WARNING:tensorflow:Early stopping conditioned on metric `val_loss` which is not available. Available metrics are: loss,mae\n",
      "519/519 [==============================] - 26s 50ms/step - loss: 101.0798 - mae: 7.4780\n",
      "Epoch 36/40\n",
      "518/519 [============================>.] - ETA: 0s - loss: 98.9431 - mae: 7.4293WARNING:tensorflow:Early stopping conditioned on metric `val_loss` which is not available. Available metrics are: loss,mae\n",
      "519/519 [==============================] - 26s 50ms/step - loss: 98.9622 - mae: 7.4299\n",
      "Epoch 37/40\n",
      "518/519 [============================>.] - ETA: 0s - loss: 97.6645 - mae: 7.3298WARNING:tensorflow:Early stopping conditioned on metric `val_loss` which is not available. Available metrics are: loss,mae\n",
      "519/519 [==============================] - 31s 59ms/step - loss: 97.6282 - mae: 7.3288\n",
      "Epoch 38/40\n",
      "518/519 [============================>.] - ETA: 0s - loss: 98.6791 - mae: 7.3947WARNING:tensorflow:Early stopping conditioned on metric `val_loss` which is not available. Available metrics are: loss,mae\n",
      "519/519 [==============================] - 24s 46ms/step - loss: 98.6537 - mae: 7.3940\n",
      "Epoch 39/40\n",
      "519/519 [==============================] - ETA: 0s - loss: 92.8680 - mae: 7.1593WARNING:tensorflow:Early stopping conditioned on metric `val_loss` which is not available. Available metrics are: loss,mae\n",
      "519/519 [==============================] - 23s 45ms/step - loss: 92.8680 - mae: 7.1593\n",
      "Epoch 40/40\n",
      "519/519 [==============================] - ETA: 0s - loss: 91.3481 - mae: 7.1406WARNING:tensorflow:Early stopping conditioned on metric `val_loss` which is not available. Available metrics are: loss,mae\n",
      "519/519 [==============================] - 23s 45ms/step - loss: 91.3481 - mae: 7.1406\n"
     ]
    }
   ],
   "source": [
    "history = model.fit(X_train, y_train, epochs=40, callbacks=[es])"
   ]
  },
  {
   "cell_type": "code",
   "execution_count": 102,
   "id": "41ca500e",
   "metadata": {},
   "outputs": [
    {
     "data": {
      "text/plain": [
       "{'validation_data': None,\n",
       " 'model': <keras.engine.sequential.Sequential at 0x7fddca3338e0>,\n",
       " '_chief_worker_only': None,\n",
       " '_supports_tf_logs': False,\n",
       " 'history': {'loss': [408.2867431640625,\n",
       "   251.7398681640625,\n",
       "   223.53965759277344,\n",
       "   197.6200714111328,\n",
       "   185.94837951660156,\n",
       "   175.45260620117188,\n",
       "   164.38243103027344,\n",
       "   161.90345764160156,\n",
       "   156.75115966796875,\n",
       "   148.86090087890625,\n",
       "   144.360107421875,\n",
       "   140.26434326171875,\n",
       "   141.6856231689453,\n",
       "   134.8894500732422,\n",
       "   132.31358337402344,\n",
       "   135.40377807617188,\n",
       "   132.92929077148438,\n",
       "   123.99063873291016,\n",
       "   123.84734344482422,\n",
       "   123.1573715209961,\n",
       "   121.1749038696289,\n",
       "   122.0431137084961,\n",
       "   121.05704498291016,\n",
       "   118.01837158203125,\n",
       "   112.39604187011719,\n",
       "   111.71586608886719,\n",
       "   111.01199340820312,\n",
       "   109.70573425292969,\n",
       "   111.27180480957031,\n",
       "   107.69005584716797,\n",
       "   105.5430908203125,\n",
       "   103.69194030761719,\n",
       "   102.97689819335938,\n",
       "   101.10137176513672,\n",
       "   101.07984161376953,\n",
       "   98.96221160888672,\n",
       "   97.62821960449219,\n",
       "   98.65374755859375,\n",
       "   92.86803436279297,\n",
       "   91.34809875488281],\n",
       "  'mae': [15.503975868225098,\n",
       "   11.902565956115723,\n",
       "   11.148089408874512,\n",
       "   10.444132804870605,\n",
       "   10.080192565917969,\n",
       "   9.808510780334473,\n",
       "   9.49894905090332,\n",
       "   9.378840446472168,\n",
       "   9.218522071838379,\n",
       "   8.995633125305176,\n",
       "   8.877397537231445,\n",
       "   8.747251510620117,\n",
       "   8.80029010772705,\n",
       "   8.623333930969238,\n",
       "   8.514155387878418,\n",
       "   8.620047569274902,\n",
       "   8.538241386413574,\n",
       "   8.281942367553711,\n",
       "   8.26162338256836,\n",
       "   8.24410629272461,\n",
       "   8.177729606628418,\n",
       "   8.169571876525879,\n",
       "   8.142744064331055,\n",
       "   8.058900833129883,\n",
       "   7.862048625946045,\n",
       "   7.866727352142334,\n",
       "   7.849629878997803,\n",
       "   7.759974956512451,\n",
       "   7.850684642791748,\n",
       "   7.696213722229004,\n",
       "   7.633763313293457,\n",
       "   7.5558061599731445,\n",
       "   7.529247760772705,\n",
       "   7.4622650146484375,\n",
       "   7.478046417236328,\n",
       "   7.429930686950684,\n",
       "   7.328784942626953,\n",
       "   7.393963813781738,\n",
       "   7.159319877624512,\n",
       "   7.140591621398926]},\n",
       " 'params': {'verbose': 1, 'epochs': 40, 'steps': 519},\n",
       " 'epoch': [0,\n",
       "  1,\n",
       "  2,\n",
       "  3,\n",
       "  4,\n",
       "  5,\n",
       "  6,\n",
       "  7,\n",
       "  8,\n",
       "  9,\n",
       "  10,\n",
       "  11,\n",
       "  12,\n",
       "  13,\n",
       "  14,\n",
       "  15,\n",
       "  16,\n",
       "  17,\n",
       "  18,\n",
       "  19,\n",
       "  20,\n",
       "  21,\n",
       "  22,\n",
       "  23,\n",
       "  24,\n",
       "  25,\n",
       "  26,\n",
       "  27,\n",
       "  28,\n",
       "  29,\n",
       "  30,\n",
       "  31,\n",
       "  32,\n",
       "  33,\n",
       "  34,\n",
       "  35,\n",
       "  36,\n",
       "  37,\n",
       "  38,\n",
       "  39]}"
      ]
     },
     "execution_count": 102,
     "metadata": {},
     "output_type": "execute_result"
    }
   ],
   "source": [
    "history.__dict__"
   ]
  },
  {
   "cell_type": "code",
   "execution_count": 105,
   "id": "4d0f22a2",
   "metadata": {},
   "outputs": [
    {
     "data": {
      "image/png": "[encoded data removed]",
      "text/plain": [
       "<Figure size 432x288 with 1 Axes>"
      ]
     },
     "metadata": {
      "needs_background": "light"
     },
     "output_type": "display_data"
    }
   ],
   "source": [
    "plt.plot(history.history['loss']);\n",
    "plt.plot(history.history['mae']);"
   ]
  },
  {
   "cell_type": "code",
   "execution_count": 106,
   "id": "b3d35cd0",
   "metadata": {},
   "outputs": [
    {
     "name": "stderr",
     "output_type": "stream",
     "text": [
      "2022-05-31 11:33:37.549005: W tensorflow/python/util/util.cc:368] Sets are not currently considered sequences, but this may change in the future, so consider avoiding using them.\n"
     ]
    },
    {
     "name": "stdout",
     "output_type": "stream",
     "text": [
      "INFO:tensorflow:Assets written to: Model48/assets\n"
     ]
    }
   ],
   "source": [
    "models.save_model(model, 'Model48')"
   ]
  },
  {
   "cell_type": "code",
   "execution_count": 107,
   "id": "986d211d",
   "metadata": {},
   "outputs": [
    {
     "name": "stdout",
     "output_type": "stream",
     "text": [
      "223/223 [==============================] - 3s 11ms/step - loss: 109.1943 - mae: 7.4758\n"
     ]
    },
    {
     "data": {
      "text/plain": [
       "[109.19430541992188, 7.475760459899902]"
      ]
     },
     "execution_count": 107,
     "metadata": {},
     "output_type": "execute_result"
    }
   ],
   "source": [
    "model.evaluate(X_test,y_test)"
   ]
  },
  {
   "cell_type": "code",
   "execution_count": 139,
   "id": "3f4b4158",
   "metadata": {},
   "outputs": [
    {
     "data": {
      "text/plain": [
       "45"
      ]
     },
     "execution_count": 139,
     "metadata": {},
     "output_type": "execute_result"
    },
    {
     "data": {
      "image/png": "[encoded data removed]",
      "text/plain": [
       "<Figure size 432x288 with 1 Axes>"
      ]
     },
     "metadata": {
      "needs_background": "light"
     },
     "output_type": "display_data"
    }
   ],
   "source": [
    "n=230\n",
    "plt.imshow(X_test[n], cmap='gray');\n",
    "y_test.iloc[n]"
   ]
  },
  {
   "cell_type": "code",
   "execution_count": 135,
   "id": "50c234dc",
   "metadata": {},
   "outputs": [],
   "source": [
    "out= model.predict(X_test)"
   ]
  },
  {
   "cell_type": "code",
   "execution_count": 140,
   "id": "097e3da1",
   "metadata": {},
   "outputs": [
    {
     "data": {
      "text/plain": [
       "array([37.468025], dtype=float32)"
      ]
     },
     "execution_count": 140,
     "metadata": {},
     "output_type": "execute_result"
    }
   ],
   "source": [
    "out[n]"
   ]
  },
  {
   "cell_type": "code",
   "execution_count": 133,
   "id": "8505cb12",
   "metadata": {},
   "outputs": [
    {
     "data": {
      "text/plain": [
       "((7112, 48, 48, 1), (48, 48, 1))"
      ]
     },
     "execution_count": 133,
     "metadata": {},
     "output_type": "execute_result"
    }
   ],
   "source": [
    "np.shape(X_test), np.shape(X_test[0])"
   ]
  }
 ],
 "metadata": {
  "kernelspec": {
   "display_name": "Python 3 (ipykernel)",
   "language": "python",
   "name": "python3"
  },
  "language_info": {
   "codemirror_mode": {
    "name": "ipython",
    "version": 3
   },
   "file_extension": ".py",
   "mimetype": "text/x-python",
   "name": "python",
   "nbconvert_exporter": "python",
   "pygments_lexer": "ipython3",
   "version": "3.8.12"
  },
  "toc": {
   "base_numbering": 1,
   "nav_menu": {},
   "number_sections": true,
   "sideBar": true,
   "skip_h1_title": false,
   "title_cell": "Table of Contents",
   "title_sidebar": "Contents",
   "toc_cell": false,
   "toc_position": {},
   "toc_section_display": true,
   "toc_window_display": false
  }
 },
 "nbformat": 4,
 "nbformat_minor": 5
}
