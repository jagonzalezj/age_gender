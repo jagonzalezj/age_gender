{
 "cells": [
  {
   "cell_type": "markdown",
   "id": "d0dace50",
   "metadata": {},
   "source": [
    "# Streamlit  Cheat sheet"
   ]
  },
  {
   "cell_type": "markdown",
   "id": "c08c5aef",
   "metadata": {},
   "source": [
    "## Création de container sur Streamlit"
   ]
  },
  {
   "cell_type": "raw",
   "id": "29aca928",
   "metadata": {},
   "source": [
    "Ce sont les grands ensembles/parties de notre streamlit. Cela permet de structurer notre présentation. "
   ]
  },
  {
   "cell_type": "raw",
   "id": "c645a21f",
   "metadata": {},
   "source": [
    "Streamlit a une syntaxe de codage 'light'\n",
    "on l'installe avec pip install streamlit\n",
    "on l'import as 'st'"
   ]
  },
  {
   "cell_type": "markdown",
   "id": "74a3fdc4",
   "metadata": {},
   "source": [
    "## Exemple de synthèse du conteneur"
   ]
  },
  {
   "cell_type": "raw",
   "id": "bd7cf781",
   "metadata": {},
   "source": [
    "header = st.beta_container # pour avoir un titre\n",
    "story = st.beta_container # pour raconter une histoire autour du projet (faux papiers, tinder, )\n",
    "raw_images = st.beta_container # pour quelques images du dataset  \n",
    "preprocessing = st.beta_container # brève explicatication sur la répartiton des tâches et le preprocessing\n",
    "exemple = st.beta_container # afficher les prédictions que nous avons eu\n",
    "live = st.beta_container # une démo en live avec un volontaire\n",
    "echec = st.beta_container\n",
    "\n",
    "\n",
    "with header :\n",
    "     set.title('notre titre')\n",
    "     set.text('rédaction d'un texte aussi long qu'on le souhaite')\n",
    "with story :\n",
    "     set.header('selon notre envie')\n",
    "     set.title ('notre titre')\n",
    "     set.text('rédaction d'un texte aussi long qu'on le souhaite') etc...\n",
    "     "
   ]
  },
  {
   "cell_type": "markdown",
   "id": "04dce093",
   "metadata": {},
   "source": [
    "## Que peut-on afficher sur streamlit ?"
   ]
  },
  {
   "cell_type": "raw",
   "id": "7e5f183b",
   "metadata": {},
   "source": [
    "1) visualisation de notre dataset\n",
    "2) affichage du volume de données par feature\n",
    "3) des courbes d'apprentisage \n",
    "4) affichage de nos rédictions (image avec genre, age, ethnicity)"
   ]
  },
  {
   "cell_type": "markdown",
   "id": "16975a23",
   "metadata": {},
   "source": [
    "## Pré-requis (si mise en ligne pour un accès grand public)"
   ]
  },
  {
   "cell_type": "raw",
   "id": "a9a15fc7",
   "metadata": {},
   "source": [
    "1) S'inscrire sur streamlit (avec l'adresse e-mail github)\n",
    "2) Attendre e-mail de confirmation de streamlit\n",
    "3) Réception de l'email de streamlit dans lequel on a certaines instructions d'utilisation : \n",
    "4) Charger l'app sur github en veillant à avoir un requirement.txt\n",
    "5) S'enregistrer sur share.streamlit.io avec l'adresse e-mail github\n",
    "6) Cliquer sur 'New app', compléter le repo, le chemin du dossier et cliquer sur deploy \n"
   ]
  },
  {
   "cell_type": "raw",
   "id": "b1037f29",
   "metadata": {},
   "source": []
  }
 ],
 "metadata": {
  "kernelspec": {
   "display_name": "Python 3 (ipykernel)",
   "language": "python",
   "name": "python3"
  },
  "language_info": {
   "codemirror_mode": {
    "name": "ipython",
    "version": 3
   },
   "file_extension": ".py",
   "mimetype": "text/x-python",
   "name": "python",
   "nbconvert_exporter": "python",
   "pygments_lexer": "ipython3",
   "version": "3.8.12"
  },
  "toc": {
   "base_numbering": 1,
   "nav_menu": {},
   "number_sections": true,
   "sideBar": true,
   "skip_h1_title": false,
   "title_cell": "Table of Contents",
   "title_sidebar": "Contents",
   "toc_cell": false,
   "toc_position": {},
   "toc_section_display": true,
   "toc_window_display": false
  }
 },
 "nbformat": 4,
 "nbformat_minor": 5
}
